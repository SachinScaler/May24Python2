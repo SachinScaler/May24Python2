{
  "nbformat": 4,
  "nbformat_minor": 0,
  "metadata": {
    "colab": {
      "provenance": [],
      "authorship_tag": "ABX9TyPhFyb7Uq17QKeEuzLTFNAK",
      "include_colab_link": true
    },
    "kernelspec": {
      "name": "python3",
      "display_name": "Python 3"
    },
    "language_info": {
      "name": "python"
    }
  },
  "cells": [
    {
      "cell_type": "markdown",
      "metadata": {
        "id": "view-in-github",
        "colab_type": "text"
      },
      "source": [
        "<a href=\"https://colab.research.google.com/github/SachinScaler/PythonModule2May24/blob/main/Modules_and_Exception_Handling.ipynb\" target=\"_parent\"><img src=\"https://colab.research.google.com/assets/colab-badge.svg\" alt=\"Open In Colab\"/></a>"
      ]
    },
    {
      "cell_type": "code",
      "execution_count": null,
      "metadata": {
        "id": "LDSBd81eX3p8"
      },
      "outputs": [],
      "source": [
        "import numpy\n",
        "import math\n",
        "import random\n"
      ]
    },
    {
      "cell_type": "markdown",
      "source": [
        "### Getting docs of of a module"
      ],
      "metadata": {
        "id": "7_F6kSAUYNPA"
      }
    },
    {
      "cell_type": "code",
      "source": [
        "help(math)"
      ],
      "metadata": {
        "colab": {
          "base_uri": "https://localhost:8080/"
        },
        "id": "-KR3KpJNYHfn",
        "outputId": "3a4f533a-c090-4125-aae3-a0f6f5a88ba7"
      },
      "execution_count": null,
      "outputs": [
        {
          "output_type": "stream",
          "name": "stdout",
          "text": [
            "Help on built-in module math:\n",
            "\n",
            "NAME\n",
            "    math\n",
            "\n",
            "DESCRIPTION\n",
            "    This module provides access to the mathematical functions\n",
            "    defined by the C standard.\n",
            "\n",
            "FUNCTIONS\n",
            "    acos(x, /)\n",
            "        Return the arc cosine (measured in radians) of x.\n",
            "        \n",
            "        The result is between 0 and pi.\n",
            "    \n",
            "    acosh(x, /)\n",
            "        Return the inverse hyperbolic cosine of x.\n",
            "    \n",
            "    asin(x, /)\n",
            "        Return the arc sine (measured in radians) of x.\n",
            "        \n",
            "        The result is between -pi/2 and pi/2.\n",
            "    \n",
            "    asinh(x, /)\n",
            "        Return the inverse hyperbolic sine of x.\n",
            "    \n",
            "    atan(x, /)\n",
            "        Return the arc tangent (measured in radians) of x.\n",
            "        \n",
            "        The result is between -pi/2 and pi/2.\n",
            "    \n",
            "    atan2(y, x, /)\n",
            "        Return the arc tangent (measured in radians) of y/x.\n",
            "        \n",
            "        Unlike atan(y/x), the signs of both x and y are considered.\n",
            "    \n",
            "    atanh(x, /)\n",
            "        Return the inverse hyperbolic tangent of x.\n",
            "    \n",
            "    ceil(x, /)\n",
            "        Return the ceiling of x as an Integral.\n",
            "        \n",
            "        This is the smallest integer >= x.\n",
            "    \n",
            "    comb(n, k, /)\n",
            "        Number of ways to choose k items from n items without repetition and without order.\n",
            "        \n",
            "        Evaluates to n! / (k! * (n - k)!) when k <= n and evaluates\n",
            "        to zero when k > n.\n",
            "        \n",
            "        Also called the binomial coefficient because it is equivalent\n",
            "        to the coefficient of k-th term in polynomial expansion of the\n",
            "        expression (1 + x)**n.\n",
            "        \n",
            "        Raises TypeError if either of the arguments are not integers.\n",
            "        Raises ValueError if either of the arguments are negative.\n",
            "    \n",
            "    copysign(x, y, /)\n",
            "        Return a float with the magnitude (absolute value) of x but the sign of y.\n",
            "        \n",
            "        On platforms that support signed zeros, copysign(1.0, -0.0)\n",
            "        returns -1.0.\n",
            "    \n",
            "    cos(x, /)\n",
            "        Return the cosine of x (measured in radians).\n",
            "    \n",
            "    cosh(x, /)\n",
            "        Return the hyperbolic cosine of x.\n",
            "    \n",
            "    degrees(x, /)\n",
            "        Convert angle x from radians to degrees.\n",
            "    \n",
            "    dist(p, q, /)\n",
            "        Return the Euclidean distance between two points p and q.\n",
            "        \n",
            "        The points should be specified as sequences (or iterables) of\n",
            "        coordinates.  Both inputs must have the same dimension.\n",
            "        \n",
            "        Roughly equivalent to:\n",
            "            sqrt(sum((px - qx) ** 2.0 for px, qx in zip(p, q)))\n",
            "    \n",
            "    erf(x, /)\n",
            "        Error function at x.\n",
            "    \n",
            "    erfc(x, /)\n",
            "        Complementary error function at x.\n",
            "    \n",
            "    exp(x, /)\n",
            "        Return e raised to the power of x.\n",
            "    \n",
            "    expm1(x, /)\n",
            "        Return exp(x)-1.\n",
            "        \n",
            "        This function avoids the loss of precision involved in the direct evaluation of exp(x)-1 for small x.\n",
            "    \n",
            "    fabs(x, /)\n",
            "        Return the absolute value of the float x.\n",
            "    \n",
            "    factorial(x, /)\n",
            "        Find x!.\n",
            "        \n",
            "        Raise a ValueError if x is negative or non-integral.\n",
            "    \n",
            "    floor(x, /)\n",
            "        Return the floor of x as an Integral.\n",
            "        \n",
            "        This is the largest integer <= x.\n",
            "    \n",
            "    fmod(x, y, /)\n",
            "        Return fmod(x, y), according to platform C.\n",
            "        \n",
            "        x % y may differ.\n",
            "    \n",
            "    frexp(x, /)\n",
            "        Return the mantissa and exponent of x, as pair (m, e).\n",
            "        \n",
            "        m is a float and e is an int, such that x = m * 2.**e.\n",
            "        If x is 0, m and e are both 0.  Else 0.5 <= abs(m) < 1.0.\n",
            "    \n",
            "    fsum(seq, /)\n",
            "        Return an accurate floating point sum of values in the iterable seq.\n",
            "        \n",
            "        Assumes IEEE-754 floating point arithmetic.\n",
            "    \n",
            "    gamma(x, /)\n",
            "        Gamma function at x.\n",
            "    \n",
            "    gcd(*integers)\n",
            "        Greatest Common Divisor.\n",
            "    \n",
            "    hypot(...)\n",
            "        hypot(*coordinates) -> value\n",
            "        \n",
            "        Multidimensional Euclidean distance from the origin to a point.\n",
            "        \n",
            "        Roughly equivalent to:\n",
            "            sqrt(sum(x**2 for x in coordinates))\n",
            "        \n",
            "        For a two dimensional point (x, y), gives the hypotenuse\n",
            "        using the Pythagorean theorem:  sqrt(x*x + y*y).\n",
            "        \n",
            "        For example, the hypotenuse of a 3/4/5 right triangle is:\n",
            "        \n",
            "            >>> hypot(3.0, 4.0)\n",
            "            5.0\n",
            "    \n",
            "    isclose(a, b, *, rel_tol=1e-09, abs_tol=0.0)\n",
            "        Determine whether two floating point numbers are close in value.\n",
            "        \n",
            "          rel_tol\n",
            "            maximum difference for being considered \"close\", relative to the\n",
            "            magnitude of the input values\n",
            "          abs_tol\n",
            "            maximum difference for being considered \"close\", regardless of the\n",
            "            magnitude of the input values\n",
            "        \n",
            "        Return True if a is close in value to b, and False otherwise.\n",
            "        \n",
            "        For the values to be considered close, the difference between them\n",
            "        must be smaller than at least one of the tolerances.\n",
            "        \n",
            "        -inf, inf and NaN behave similarly to the IEEE 754 Standard.  That\n",
            "        is, NaN is not close to anything, even itself.  inf and -inf are\n",
            "        only close to themselves.\n",
            "    \n",
            "    isfinite(x, /)\n",
            "        Return True if x is neither an infinity nor a NaN, and False otherwise.\n",
            "    \n",
            "    isinf(x, /)\n",
            "        Return True if x is a positive or negative infinity, and False otherwise.\n",
            "    \n",
            "    isnan(x, /)\n",
            "        Return True if x is a NaN (not a number), and False otherwise.\n",
            "    \n",
            "    isqrt(n, /)\n",
            "        Return the integer part of the square root of the input.\n",
            "    \n",
            "    lcm(*integers)\n",
            "        Least Common Multiple.\n",
            "    \n",
            "    ldexp(x, i, /)\n",
            "        Return x * (2**i).\n",
            "        \n",
            "        This is essentially the inverse of frexp().\n",
            "    \n",
            "    lgamma(x, /)\n",
            "        Natural logarithm of absolute value of Gamma function at x.\n",
            "    \n",
            "    log(...)\n",
            "        log(x, [base=math.e])\n",
            "        Return the logarithm of x to the given base.\n",
            "        \n",
            "        If the base not specified, returns the natural logarithm (base e) of x.\n",
            "    \n",
            "    log10(x, /)\n",
            "        Return the base 10 logarithm of x.\n",
            "    \n",
            "    log1p(x, /)\n",
            "        Return the natural logarithm of 1+x (base e).\n",
            "        \n",
            "        The result is computed in a way which is accurate for x near zero.\n",
            "    \n",
            "    log2(x, /)\n",
            "        Return the base 2 logarithm of x.\n",
            "    \n",
            "    modf(x, /)\n",
            "        Return the fractional and integer parts of x.\n",
            "        \n",
            "        Both results carry the sign of x and are floats.\n",
            "    \n",
            "    nextafter(x, y, /)\n",
            "        Return the next floating-point value after x towards y.\n",
            "    \n",
            "    perm(n, k=None, /)\n",
            "        Number of ways to choose k items from n items without repetition and with order.\n",
            "        \n",
            "        Evaluates to n! / (n - k)! when k <= n and evaluates\n",
            "        to zero when k > n.\n",
            "        \n",
            "        If k is not specified or is None, then k defaults to n\n",
            "        and the function returns n!.\n",
            "        \n",
            "        Raises TypeError if either of the arguments are not integers.\n",
            "        Raises ValueError if either of the arguments are negative.\n",
            "    \n",
            "    pow(x, y, /)\n",
            "        Return x**y (x to the power of y).\n",
            "    \n",
            "    prod(iterable, /, *, start=1)\n",
            "        Calculate the product of all the elements in the input iterable.\n",
            "        \n",
            "        The default start value for the product is 1.\n",
            "        \n",
            "        When the iterable is empty, return the start value.  This function is\n",
            "        intended specifically for use with numeric values and may reject\n",
            "        non-numeric types.\n",
            "    \n",
            "    radians(x, /)\n",
            "        Convert angle x from degrees to radians.\n",
            "    \n",
            "    remainder(x, y, /)\n",
            "        Difference between x and the closest integer multiple of y.\n",
            "        \n",
            "        Return x - n*y where n*y is the closest integer multiple of y.\n",
            "        In the case where x is exactly halfway between two multiples of\n",
            "        y, the nearest even value of n is used. The result is always exact.\n",
            "    \n",
            "    sin(x, /)\n",
            "        Return the sine of x (measured in radians).\n",
            "    \n",
            "    sinh(x, /)\n",
            "        Return the hyperbolic sine of x.\n",
            "    \n",
            "    sqrt(x, /)\n",
            "        Return the square root of x.\n",
            "    \n",
            "    tan(x, /)\n",
            "        Return the tangent of x (measured in radians).\n",
            "    \n",
            "    tanh(x, /)\n",
            "        Return the hyperbolic tangent of x.\n",
            "    \n",
            "    trunc(x, /)\n",
            "        Truncates the Real x to the nearest Integral toward 0.\n",
            "        \n",
            "        Uses the __trunc__ magic method.\n",
            "    \n",
            "    ulp(x, /)\n",
            "        Return the value of the least significant bit of the float x.\n",
            "\n",
            "DATA\n",
            "    e = 2.718281828459045\n",
            "    inf = inf\n",
            "    nan = nan\n",
            "    pi = 3.141592653589793\n",
            "    tau = 6.283185307179586\n",
            "\n",
            "FILE\n",
            "    (built-in)\n",
            "\n",
            "\n"
          ]
        }
      ]
    },
    {
      "cell_type": "code",
      "source": [
        "math.sqrt(25)"
      ],
      "metadata": {
        "colab": {
          "base_uri": "https://localhost:8080/"
        },
        "id": "T7QGmlSZYWk8",
        "outputId": "c114f585-ed9a-4346-f805-fa461d1582a0"
      },
      "execution_count": null,
      "outputs": [
        {
          "output_type": "execute_result",
          "data": {
            "text/plain": [
              "5.0"
            ]
          },
          "metadata": {},
          "execution_count": 3
        }
      ]
    },
    {
      "cell_type": "code",
      "source": [
        "math.pow(2,3)"
      ],
      "metadata": {
        "colab": {
          "base_uri": "https://localhost:8080/"
        },
        "id": "sSOCfWnSYk0c",
        "outputId": "9a5d5889-9345-4dd1-a37e-ca2e7b7997c4"
      },
      "execution_count": null,
      "outputs": [
        {
          "output_type": "execute_result",
          "data": {
            "text/plain": [
              "8.0"
            ]
          },
          "metadata": {},
          "execution_count": 4
        }
      ]
    },
    {
      "cell_type": "code",
      "source": [
        "math.pi"
      ],
      "metadata": {
        "colab": {
          "base_uri": "https://localhost:8080/"
        },
        "id": "hMrKK7gwYqm1",
        "outputId": "bc26b69f-52c5-4960-d4e3-fa28badcc9d8"
      },
      "execution_count": null,
      "outputs": [
        {
          "output_type": "execute_result",
          "data": {
            "text/plain": [
              "3.141592653589793"
            ]
          },
          "metadata": {},
          "execution_count": 5
        }
      ]
    },
    {
      "cell_type": "code",
      "source": [
        "from math import sqrt\n",
        "from math import pi\n",
        "sqrt(25)"
      ],
      "metadata": {
        "colab": {
          "base_uri": "https://localhost:8080/"
        },
        "id": "SGBrAA5BYvD5",
        "outputId": "a5f12b93-b846-4ed9-a105-abe375e35dff"
      },
      "execution_count": null,
      "outputs": [
        {
          "output_type": "execute_result",
          "data": {
            "text/plain": [
              "5.0"
            ]
          },
          "metadata": {},
          "execution_count": 6
        }
      ]
    },
    {
      "cell_type": "code",
      "source": [
        "pi"
      ],
      "metadata": {
        "colab": {
          "base_uri": "https://localhost:8080/"
        },
        "id": "R2jsbNNEY_Ot",
        "outputId": "7ca9759d-572a-46e9-cc53-b1ee36b2f8d8"
      },
      "execution_count": null,
      "outputs": [
        {
          "output_type": "execute_result",
          "data": {
            "text/plain": [
              "3.141592653589793"
            ]
          },
          "metadata": {},
          "execution_count": 7
        }
      ]
    },
    {
      "cell_type": "code",
      "source": [
        "from math import sqrt,pi"
      ],
      "metadata": {
        "id": "dKa9w6x7ZDE3"
      },
      "execution_count": null,
      "outputs": []
    },
    {
      "cell_type": "markdown",
      "source": [
        "### Random:"
      ],
      "metadata": {
        "id": "7ncoaM3QZlwm"
      }
    },
    {
      "cell_type": "code",
      "source": [
        "import random\n",
        "\n",
        "help(random)"
      ],
      "metadata": {
        "colab": {
          "base_uri": "https://localhost:8080/"
        },
        "id": "U3N08934ZGhY",
        "outputId": "aa792310-01ed-4573-f428-9cc0086c874c"
      },
      "execution_count": null,
      "outputs": [
        {
          "output_type": "stream",
          "name": "stdout",
          "text": [
            "Help on module random:\n",
            "\n",
            "NAME\n",
            "    random - Random variable generators.\n",
            "\n",
            "MODULE REFERENCE\n",
            "    https://docs.python.org/3.10/library/random.html\n",
            "    \n",
            "    The following documentation is automatically generated from the Python\n",
            "    source files.  It may be incomplete, incorrect or include features that\n",
            "    are considered implementation detail and may vary between Python\n",
            "    implementations.  When in doubt, consult the module reference at the\n",
            "    location listed above.\n",
            "\n",
            "DESCRIPTION\n",
            "        bytes\n",
            "        -----\n",
            "               uniform bytes (values between 0 and 255)\n",
            "    \n",
            "        integers\n",
            "        --------\n",
            "               uniform within range\n",
            "    \n",
            "        sequences\n",
            "        ---------\n",
            "               pick random element\n",
            "               pick random sample\n",
            "               pick weighted random sample\n",
            "               generate random permutation\n",
            "    \n",
            "        distributions on the real line:\n",
            "        ------------------------------\n",
            "               uniform\n",
            "               triangular\n",
            "               normal (Gaussian)\n",
            "               lognormal\n",
            "               negative exponential\n",
            "               gamma\n",
            "               beta\n",
            "               pareto\n",
            "               Weibull\n",
            "    \n",
            "        distributions on the circle (angles 0 to 2pi)\n",
            "        ---------------------------------------------\n",
            "               circular uniform\n",
            "               von Mises\n",
            "    \n",
            "    General notes on the underlying Mersenne Twister core generator:\n",
            "    \n",
            "    * The period is 2**19937-1.\n",
            "    * It is one of the most extensively tested generators in existence.\n",
            "    * The random() method is implemented in C, executes in a single Python step,\n",
            "      and is, therefore, threadsafe.\n",
            "\n",
            "CLASSES\n",
            "    _random.Random(builtins.object)\n",
            "        Random\n",
            "            SystemRandom\n",
            "    \n",
            "    class Random(_random.Random)\n",
            "     |  Random(x=None)\n",
            "     |  \n",
            "     |  Random number generator base class used by bound module functions.\n",
            "     |  \n",
            "     |  Used to instantiate instances of Random to get generators that don't\n",
            "     |  share state.\n",
            "     |  \n",
            "     |  Class Random can also be subclassed if you want to use a different basic\n",
            "     |  generator of your own devising: in that case, override the following\n",
            "     |  methods:  random(), seed(), getstate(), and setstate().\n",
            "     |  Optionally, implement a getrandbits() method so that randrange()\n",
            "     |  can cover arbitrarily large ranges.\n",
            "     |  \n",
            "     |  Method resolution order:\n",
            "     |      Random\n",
            "     |      _random.Random\n",
            "     |      builtins.object\n",
            "     |  \n",
            "     |  Methods defined here:\n",
            "     |  \n",
            "     |  __getstate__(self)\n",
            "     |      # Issue 17489: Since __reduce__ was defined to fix #759889 this is no\n",
            "     |      # longer called; we leave it here because it has been here since random was\n",
            "     |      # rewritten back in 2001 and why risk breaking something.\n",
            "     |  \n",
            "     |  __init__(self, x=None)\n",
            "     |      Initialize an instance.\n",
            "     |      \n",
            "     |      Optional argument x controls seeding, as for Random.seed().\n",
            "     |  \n",
            "     |  __reduce__(self)\n",
            "     |      Helper for pickle.\n",
            "     |  \n",
            "     |  __setstate__(self, state)\n",
            "     |  \n",
            "     |  betavariate(self, alpha, beta)\n",
            "     |      Beta distribution.\n",
            "     |      \n",
            "     |      Conditions on the parameters are alpha > 0 and beta > 0.\n",
            "     |      Returned values range between 0 and 1.\n",
            "     |  \n",
            "     |  choice(self, seq)\n",
            "     |      Choose a random element from a non-empty sequence.\n",
            "     |  \n",
            "     |  choices(self, population, weights=None, *, cum_weights=None, k=1)\n",
            "     |      Return a k sized list of population elements chosen with replacement.\n",
            "     |      \n",
            "     |      If the relative weights or cumulative weights are not specified,\n",
            "     |      the selections are made with equal probability.\n",
            "     |  \n",
            "     |  expovariate(self, lambd)\n",
            "     |      Exponential distribution.\n",
            "     |      \n",
            "     |      lambd is 1.0 divided by the desired mean.  It should be\n",
            "     |      nonzero.  (The parameter would be called \"lambda\", but that is\n",
            "     |      a reserved word in Python.)  Returned values range from 0 to\n",
            "     |      positive infinity if lambd is positive, and from negative\n",
            "     |      infinity to 0 if lambd is negative.\n",
            "     |  \n",
            "     |  gammavariate(self, alpha, beta)\n",
            "     |      Gamma distribution.  Not the gamma function!\n",
            "     |      \n",
            "     |      Conditions on the parameters are alpha > 0 and beta > 0.\n",
            "     |      \n",
            "     |      The probability distribution function is:\n",
            "     |      \n",
            "     |                  x ** (alpha - 1) * math.exp(-x / beta)\n",
            "     |        pdf(x) =  --------------------------------------\n",
            "     |                    math.gamma(alpha) * beta ** alpha\n",
            "     |  \n",
            "     |  gauss(self, mu, sigma)\n",
            "     |      Gaussian distribution.\n",
            "     |      \n",
            "     |      mu is the mean, and sigma is the standard deviation.  This is\n",
            "     |      slightly faster than the normalvariate() function.\n",
            "     |      \n",
            "     |      Not thread-safe without a lock around calls.\n",
            "     |  \n",
            "     |  getstate(self)\n",
            "     |      Return internal state; can be passed to setstate() later.\n",
            "     |  \n",
            "     |  lognormvariate(self, mu, sigma)\n",
            "     |      Log normal distribution.\n",
            "     |      \n",
            "     |      If you take the natural logarithm of this distribution, you'll get a\n",
            "     |      normal distribution with mean mu and standard deviation sigma.\n",
            "     |      mu can have any value, and sigma must be greater than zero.\n",
            "     |  \n",
            "     |  normalvariate(self, mu, sigma)\n",
            "     |      Normal distribution.\n",
            "     |      \n",
            "     |      mu is the mean, and sigma is the standard deviation.\n",
            "     |  \n",
            "     |  paretovariate(self, alpha)\n",
            "     |      Pareto distribution.  alpha is the shape parameter.\n",
            "     |  \n",
            "     |  randbytes(self, n)\n",
            "     |      Generate n random bytes.\n",
            "     |  \n",
            "     |  randint(self, a, b)\n",
            "     |      Return random integer in range [a, b], including both end points.\n",
            "     |  \n",
            "     |  randrange(self, start, stop=None, step=1)\n",
            "     |      Choose a random item from range(start, stop[, step]).\n",
            "     |      \n",
            "     |      This fixes the problem with randint() which includes the\n",
            "     |      endpoint; in Python this is usually not what you want.\n",
            "     |  \n",
            "     |  sample(self, population, k, *, counts=None)\n",
            "     |      Chooses k unique random elements from a population sequence or set.\n",
            "     |      \n",
            "     |      Returns a new list containing elements from the population while\n",
            "     |      leaving the original population unchanged.  The resulting list is\n",
            "     |      in selection order so that all sub-slices will also be valid random\n",
            "     |      samples.  This allows raffle winners (the sample) to be partitioned\n",
            "     |      into grand prize and second place winners (the subslices).\n",
            "     |      \n",
            "     |      Members of the population need not be hashable or unique.  If the\n",
            "     |      population contains repeats, then each occurrence is a possible\n",
            "     |      selection in the sample.\n",
            "     |      \n",
            "     |      Repeated elements can be specified one at a time or with the optional\n",
            "     |      counts parameter.  For example:\n",
            "     |      \n",
            "     |          sample(['red', 'blue'], counts=[4, 2], k=5)\n",
            "     |      \n",
            "     |      is equivalent to:\n",
            "     |      \n",
            "     |          sample(['red', 'red', 'red', 'red', 'blue', 'blue'], k=5)\n",
            "     |      \n",
            "     |      To choose a sample from a range of integers, use range() for the\n",
            "     |      population argument.  This is especially fast and space efficient\n",
            "     |      for sampling from a large population:\n",
            "     |      \n",
            "     |          sample(range(10000000), 60)\n",
            "     |  \n",
            "     |  seed(self, a=None, version=2)\n",
            "     |      Initialize internal state from a seed.\n",
            "     |      \n",
            "     |      The only supported seed types are None, int, float,\n",
            "     |      str, bytes, and bytearray.\n",
            "     |      \n",
            "     |      None or no argument seeds from current time or from an operating\n",
            "     |      system specific randomness source if available.\n",
            "     |      \n",
            "     |      If *a* is an int, all bits are used.\n",
            "     |      \n",
            "     |      For version 2 (the default), all of the bits are used if *a* is a str,\n",
            "     |      bytes, or bytearray.  For version 1 (provided for reproducing random\n",
            "     |      sequences from older versions of Python), the algorithm for str and\n",
            "     |      bytes generates a narrower range of seeds.\n",
            "     |  \n",
            "     |  setstate(self, state)\n",
            "     |      Restore internal state from object returned by getstate().\n",
            "     |  \n",
            "     |  shuffle(self, x, random=None)\n",
            "     |      Shuffle list x in place, and return None.\n",
            "     |      \n",
            "     |      Optional argument random is a 0-argument function returning a\n",
            "     |      random float in [0.0, 1.0); if it is the default None, the\n",
            "     |      standard random.random will be used.\n",
            "     |  \n",
            "     |  triangular(self, low=0.0, high=1.0, mode=None)\n",
            "     |      Triangular distribution.\n",
            "     |      \n",
            "     |      Continuous distribution bounded by given lower and upper limits,\n",
            "     |      and having a given mode value in-between.\n",
            "     |      \n",
            "     |      http://en.wikipedia.org/wiki/Triangular_distribution\n",
            "     |  \n",
            "     |  uniform(self, a, b)\n",
            "     |      Get a random number in the range [a, b) or [a, b] depending on rounding.\n",
            "     |  \n",
            "     |  vonmisesvariate(self, mu, kappa)\n",
            "     |      Circular data distribution.\n",
            "     |      \n",
            "     |      mu is the mean angle, expressed in radians between 0 and 2*pi, and\n",
            "     |      kappa is the concentration parameter, which must be greater than or\n",
            "     |      equal to zero.  If kappa is equal to zero, this distribution reduces\n",
            "     |      to a uniform random angle over the range 0 to 2*pi.\n",
            "     |  \n",
            "     |  weibullvariate(self, alpha, beta)\n",
            "     |      Weibull distribution.\n",
            "     |      \n",
            "     |      alpha is the scale parameter and beta is the shape parameter.\n",
            "     |  \n",
            "     |  ----------------------------------------------------------------------\n",
            "     |  Class methods defined here:\n",
            "     |  \n",
            "     |  __init_subclass__(**kwargs) from builtins.type\n",
            "     |      Control how subclasses generate random integers.\n",
            "     |      \n",
            "     |      The algorithm a subclass can use depends on the random() and/or\n",
            "     |      getrandbits() implementation available to it and determines\n",
            "     |      whether it can generate random integers from arbitrarily large\n",
            "     |      ranges.\n",
            "     |  \n",
            "     |  ----------------------------------------------------------------------\n",
            "     |  Data descriptors defined here:\n",
            "     |  \n",
            "     |  __dict__\n",
            "     |      dictionary for instance variables (if defined)\n",
            "     |  \n",
            "     |  __weakref__\n",
            "     |      list of weak references to the object (if defined)\n",
            "     |  \n",
            "     |  ----------------------------------------------------------------------\n",
            "     |  Data and other attributes defined here:\n",
            "     |  \n",
            "     |  VERSION = 3\n",
            "     |  \n",
            "     |  ----------------------------------------------------------------------\n",
            "     |  Methods inherited from _random.Random:\n",
            "     |  \n",
            "     |  getrandbits(self, k, /)\n",
            "     |      getrandbits(k) -> x.  Generates an int with k random bits.\n",
            "     |  \n",
            "     |  random(self, /)\n",
            "     |      random() -> x in the interval [0, 1).\n",
            "     |  \n",
            "     |  ----------------------------------------------------------------------\n",
            "     |  Static methods inherited from _random.Random:\n",
            "     |  \n",
            "     |  __new__(*args, **kwargs) from builtins.type\n",
            "     |      Create and return a new object.  See help(type) for accurate signature.\n",
            "    \n",
            "    class SystemRandom(Random)\n",
            "     |  SystemRandom(x=None)\n",
            "     |  \n",
            "     |  Alternate random number generator using sources provided\n",
            "     |  by the operating system (such as /dev/urandom on Unix or\n",
            "     |  CryptGenRandom on Windows).\n",
            "     |  \n",
            "     |   Not available on all systems (see os.urandom() for details).\n",
            "     |  \n",
            "     |  Method resolution order:\n",
            "     |      SystemRandom\n",
            "     |      Random\n",
            "     |      _random.Random\n",
            "     |      builtins.object\n",
            "     |  \n",
            "     |  Methods defined here:\n",
            "     |  \n",
            "     |  getrandbits(self, k)\n",
            "     |      getrandbits(k) -> x.  Generates an int with k random bits.\n",
            "     |  \n",
            "     |  getstate = _notimplemented(self, *args, **kwds)\n",
            "     |  \n",
            "     |  randbytes(self, n)\n",
            "     |      Generate n random bytes.\n",
            "     |  \n",
            "     |  random(self)\n",
            "     |      Get the next random number in the range [0.0, 1.0).\n",
            "     |  \n",
            "     |  seed(self, *args, **kwds)\n",
            "     |      Stub method.  Not used for a system random number generator.\n",
            "     |  \n",
            "     |  setstate = _notimplemented(self, *args, **kwds)\n",
            "     |  \n",
            "     |  ----------------------------------------------------------------------\n",
            "     |  Methods inherited from Random:\n",
            "     |  \n",
            "     |  __getstate__(self)\n",
            "     |      # Issue 17489: Since __reduce__ was defined to fix #759889 this is no\n",
            "     |      # longer called; we leave it here because it has been here since random was\n",
            "     |      # rewritten back in 2001 and why risk breaking something.\n",
            "     |  \n",
            "     |  __init__(self, x=None)\n",
            "     |      Initialize an instance.\n",
            "     |      \n",
            "     |      Optional argument x controls seeding, as for Random.seed().\n",
            "     |  \n",
            "     |  __reduce__(self)\n",
            "     |      Helper for pickle.\n",
            "     |  \n",
            "     |  __setstate__(self, state)\n",
            "     |  \n",
            "     |  betavariate(self, alpha, beta)\n",
            "     |      Beta distribution.\n",
            "     |      \n",
            "     |      Conditions on the parameters are alpha > 0 and beta > 0.\n",
            "     |      Returned values range between 0 and 1.\n",
            "     |  \n",
            "     |  choice(self, seq)\n",
            "     |      Choose a random element from a non-empty sequence.\n",
            "     |  \n",
            "     |  choices(self, population, weights=None, *, cum_weights=None, k=1)\n",
            "     |      Return a k sized list of population elements chosen with replacement.\n",
            "     |      \n",
            "     |      If the relative weights or cumulative weights are not specified,\n",
            "     |      the selections are made with equal probability.\n",
            "     |  \n",
            "     |  expovariate(self, lambd)\n",
            "     |      Exponential distribution.\n",
            "     |      \n",
            "     |      lambd is 1.0 divided by the desired mean.  It should be\n",
            "     |      nonzero.  (The parameter would be called \"lambda\", but that is\n",
            "     |      a reserved word in Python.)  Returned values range from 0 to\n",
            "     |      positive infinity if lambd is positive, and from negative\n",
            "     |      infinity to 0 if lambd is negative.\n",
            "     |  \n",
            "     |  gammavariate(self, alpha, beta)\n",
            "     |      Gamma distribution.  Not the gamma function!\n",
            "     |      \n",
            "     |      Conditions on the parameters are alpha > 0 and beta > 0.\n",
            "     |      \n",
            "     |      The probability distribution function is:\n",
            "     |      \n",
            "     |                  x ** (alpha - 1) * math.exp(-x / beta)\n",
            "     |        pdf(x) =  --------------------------------------\n",
            "     |                    math.gamma(alpha) * beta ** alpha\n",
            "     |  \n",
            "     |  gauss(self, mu, sigma)\n",
            "     |      Gaussian distribution.\n",
            "     |      \n",
            "     |      mu is the mean, and sigma is the standard deviation.  This is\n",
            "     |      slightly faster than the normalvariate() function.\n",
            "     |      \n",
            "     |      Not thread-safe without a lock around calls.\n",
            "     |  \n",
            "     |  lognormvariate(self, mu, sigma)\n",
            "     |      Log normal distribution.\n",
            "     |      \n",
            "     |      If you take the natural logarithm of this distribution, you'll get a\n",
            "     |      normal distribution with mean mu and standard deviation sigma.\n",
            "     |      mu can have any value, and sigma must be greater than zero.\n",
            "     |  \n",
            "     |  normalvariate(self, mu, sigma)\n",
            "     |      Normal distribution.\n",
            "     |      \n",
            "     |      mu is the mean, and sigma is the standard deviation.\n",
            "     |  \n",
            "     |  paretovariate(self, alpha)\n",
            "     |      Pareto distribution.  alpha is the shape parameter.\n",
            "     |  \n",
            "     |  randint(self, a, b)\n",
            "     |      Return random integer in range [a, b], including both end points.\n",
            "     |  \n",
            "     |  randrange(self, start, stop=None, step=1)\n",
            "     |      Choose a random item from range(start, stop[, step]).\n",
            "     |      \n",
            "     |      This fixes the problem with randint() which includes the\n",
            "     |      endpoint; in Python this is usually not what you want.\n",
            "     |  \n",
            "     |  sample(self, population, k, *, counts=None)\n",
            "     |      Chooses k unique random elements from a population sequence or set.\n",
            "     |      \n",
            "     |      Returns a new list containing elements from the population while\n",
            "     |      leaving the original population unchanged.  The resulting list is\n",
            "     |      in selection order so that all sub-slices will also be valid random\n",
            "     |      samples.  This allows raffle winners (the sample) to be partitioned\n",
            "     |      into grand prize and second place winners (the subslices).\n",
            "     |      \n",
            "     |      Members of the population need not be hashable or unique.  If the\n",
            "     |      population contains repeats, then each occurrence is a possible\n",
            "     |      selection in the sample.\n",
            "     |      \n",
            "     |      Repeated elements can be specified one at a time or with the optional\n",
            "     |      counts parameter.  For example:\n",
            "     |      \n",
            "     |          sample(['red', 'blue'], counts=[4, 2], k=5)\n",
            "     |      \n",
            "     |      is equivalent to:\n",
            "     |      \n",
            "     |          sample(['red', 'red', 'red', 'red', 'blue', 'blue'], k=5)\n",
            "     |      \n",
            "     |      To choose a sample from a range of integers, use range() for the\n",
            "     |      population argument.  This is especially fast and space efficient\n",
            "     |      for sampling from a large population:\n",
            "     |      \n",
            "     |          sample(range(10000000), 60)\n",
            "     |  \n",
            "     |  shuffle(self, x, random=None)\n",
            "     |      Shuffle list x in place, and return None.\n",
            "     |      \n",
            "     |      Optional argument random is a 0-argument function returning a\n",
            "     |      random float in [0.0, 1.0); if it is the default None, the\n",
            "     |      standard random.random will be used.\n",
            "     |  \n",
            "     |  triangular(self, low=0.0, high=1.0, mode=None)\n",
            "     |      Triangular distribution.\n",
            "     |      \n",
            "     |      Continuous distribution bounded by given lower and upper limits,\n",
            "     |      and having a given mode value in-between.\n",
            "     |      \n",
            "     |      http://en.wikipedia.org/wiki/Triangular_distribution\n",
            "     |  \n",
            "     |  uniform(self, a, b)\n",
            "     |      Get a random number in the range [a, b) or [a, b] depending on rounding.\n",
            "     |  \n",
            "     |  vonmisesvariate(self, mu, kappa)\n",
            "     |      Circular data distribution.\n",
            "     |      \n",
            "     |      mu is the mean angle, expressed in radians between 0 and 2*pi, and\n",
            "     |      kappa is the concentration parameter, which must be greater than or\n",
            "     |      equal to zero.  If kappa is equal to zero, this distribution reduces\n",
            "     |      to a uniform random angle over the range 0 to 2*pi.\n",
            "     |  \n",
            "     |  weibullvariate(self, alpha, beta)\n",
            "     |      Weibull distribution.\n",
            "     |      \n",
            "     |      alpha is the scale parameter and beta is the shape parameter.\n",
            "     |  \n",
            "     |  ----------------------------------------------------------------------\n",
            "     |  Class methods inherited from Random:\n",
            "     |  \n",
            "     |  __init_subclass__(**kwargs) from builtins.type\n",
            "     |      Control how subclasses generate random integers.\n",
            "     |      \n",
            "     |      The algorithm a subclass can use depends on the random() and/or\n",
            "     |      getrandbits() implementation available to it and determines\n",
            "     |      whether it can generate random integers from arbitrarily large\n",
            "     |      ranges.\n",
            "     |  \n",
            "     |  ----------------------------------------------------------------------\n",
            "     |  Data descriptors inherited from Random:\n",
            "     |  \n",
            "     |  __dict__\n",
            "     |      dictionary for instance variables (if defined)\n",
            "     |  \n",
            "     |  __weakref__\n",
            "     |      list of weak references to the object (if defined)\n",
            "     |  \n",
            "     |  ----------------------------------------------------------------------\n",
            "     |  Data and other attributes inherited from Random:\n",
            "     |  \n",
            "     |  VERSION = 3\n",
            "     |  \n",
            "     |  ----------------------------------------------------------------------\n",
            "     |  Static methods inherited from _random.Random:\n",
            "     |  \n",
            "     |  __new__(*args, **kwargs) from builtins.type\n",
            "     |      Create and return a new object.  See help(type) for accurate signature.\n",
            "\n",
            "FUNCTIONS\n",
            "    betavariate(alpha, beta) method of Random instance\n",
            "        Beta distribution.\n",
            "        \n",
            "        Conditions on the parameters are alpha > 0 and beta > 0.\n",
            "        Returned values range between 0 and 1.\n",
            "    \n",
            "    choice(seq) method of Random instance\n",
            "        Choose a random element from a non-empty sequence.\n",
            "    \n",
            "    choices(population, weights=None, *, cum_weights=None, k=1) method of Random instance\n",
            "        Return a k sized list of population elements chosen with replacement.\n",
            "        \n",
            "        If the relative weights or cumulative weights are not specified,\n",
            "        the selections are made with equal probability.\n",
            "    \n",
            "    expovariate(lambd) method of Random instance\n",
            "        Exponential distribution.\n",
            "        \n",
            "        lambd is 1.0 divided by the desired mean.  It should be\n",
            "        nonzero.  (The parameter would be called \"lambda\", but that is\n",
            "        a reserved word in Python.)  Returned values range from 0 to\n",
            "        positive infinity if lambd is positive, and from negative\n",
            "        infinity to 0 if lambd is negative.\n",
            "    \n",
            "    gammavariate(alpha, beta) method of Random instance\n",
            "        Gamma distribution.  Not the gamma function!\n",
            "        \n",
            "        Conditions on the parameters are alpha > 0 and beta > 0.\n",
            "        \n",
            "        The probability distribution function is:\n",
            "        \n",
            "                    x ** (alpha - 1) * math.exp(-x / beta)\n",
            "          pdf(x) =  --------------------------------------\n",
            "                      math.gamma(alpha) * beta ** alpha\n",
            "    \n",
            "    gauss(mu, sigma) method of Random instance\n",
            "        Gaussian distribution.\n",
            "        \n",
            "        mu is the mean, and sigma is the standard deviation.  This is\n",
            "        slightly faster than the normalvariate() function.\n",
            "        \n",
            "        Not thread-safe without a lock around calls.\n",
            "    \n",
            "    getrandbits(k, /) method of Random instance\n",
            "        getrandbits(k) -> x.  Generates an int with k random bits.\n",
            "    \n",
            "    getstate() method of Random instance\n",
            "        Return internal state; can be passed to setstate() later.\n",
            "    \n",
            "    lognormvariate(mu, sigma) method of Random instance\n",
            "        Log normal distribution.\n",
            "        \n",
            "        If you take the natural logarithm of this distribution, you'll get a\n",
            "        normal distribution with mean mu and standard deviation sigma.\n",
            "        mu can have any value, and sigma must be greater than zero.\n",
            "    \n",
            "    normalvariate(mu, sigma) method of Random instance\n",
            "        Normal distribution.\n",
            "        \n",
            "        mu is the mean, and sigma is the standard deviation.\n",
            "    \n",
            "    paretovariate(alpha) method of Random instance\n",
            "        Pareto distribution.  alpha is the shape parameter.\n",
            "    \n",
            "    randbytes(n) method of Random instance\n",
            "        Generate n random bytes.\n",
            "    \n",
            "    randint(a, b) method of Random instance\n",
            "        Return random integer in range [a, b], including both end points.\n",
            "    \n",
            "    random() method of Random instance\n",
            "        random() -> x in the interval [0, 1).\n",
            "    \n",
            "    randrange(start, stop=None, step=1) method of Random instance\n",
            "        Choose a random item from range(start, stop[, step]).\n",
            "        \n",
            "        This fixes the problem with randint() which includes the\n",
            "        endpoint; in Python this is usually not what you want.\n",
            "    \n",
            "    sample(population, k, *, counts=None) method of Random instance\n",
            "        Chooses k unique random elements from a population sequence or set.\n",
            "        \n",
            "        Returns a new list containing elements from the population while\n",
            "        leaving the original population unchanged.  The resulting list is\n",
            "        in selection order so that all sub-slices will also be valid random\n",
            "        samples.  This allows raffle winners (the sample) to be partitioned\n",
            "        into grand prize and second place winners (the subslices).\n",
            "        \n",
            "        Members of the population need not be hashable or unique.  If the\n",
            "        population contains repeats, then each occurrence is a possible\n",
            "        selection in the sample.\n",
            "        \n",
            "        Repeated elements can be specified one at a time or with the optional\n",
            "        counts parameter.  For example:\n",
            "        \n",
            "            sample(['red', 'blue'], counts=[4, 2], k=5)\n",
            "        \n",
            "        is equivalent to:\n",
            "        \n",
            "            sample(['red', 'red', 'red', 'red', 'blue', 'blue'], k=5)\n",
            "        \n",
            "        To choose a sample from a range of integers, use range() for the\n",
            "        population argument.  This is especially fast and space efficient\n",
            "        for sampling from a large population:\n",
            "        \n",
            "            sample(range(10000000), 60)\n",
            "    \n",
            "    seed(a=None, version=2) method of Random instance\n",
            "        Initialize internal state from a seed.\n",
            "        \n",
            "        The only supported seed types are None, int, float,\n",
            "        str, bytes, and bytearray.\n",
            "        \n",
            "        None or no argument seeds from current time or from an operating\n",
            "        system specific randomness source if available.\n",
            "        \n",
            "        If *a* is an int, all bits are used.\n",
            "        \n",
            "        For version 2 (the default), all of the bits are used if *a* is a str,\n",
            "        bytes, or bytearray.  For version 1 (provided for reproducing random\n",
            "        sequences from older versions of Python), the algorithm for str and\n",
            "        bytes generates a narrower range of seeds.\n",
            "    \n",
            "    setstate(state) method of Random instance\n",
            "        Restore internal state from object returned by getstate().\n",
            "    \n",
            "    shuffle(x, random=None) method of Random instance\n",
            "        Shuffle list x in place, and return None.\n",
            "        \n",
            "        Optional argument random is a 0-argument function returning a\n",
            "        random float in [0.0, 1.0); if it is the default None, the\n",
            "        standard random.random will be used.\n",
            "    \n",
            "    triangular(low=0.0, high=1.0, mode=None) method of Random instance\n",
            "        Triangular distribution.\n",
            "        \n",
            "        Continuous distribution bounded by given lower and upper limits,\n",
            "        and having a given mode value in-between.\n",
            "        \n",
            "        http://en.wikipedia.org/wiki/Triangular_distribution\n",
            "    \n",
            "    uniform(a, b) method of Random instance\n",
            "        Get a random number in the range [a, b) or [a, b] depending on rounding.\n",
            "    \n",
            "    vonmisesvariate(mu, kappa) method of Random instance\n",
            "        Circular data distribution.\n",
            "        \n",
            "        mu is the mean angle, expressed in radians between 0 and 2*pi, and\n",
            "        kappa is the concentration parameter, which must be greater than or\n",
            "        equal to zero.  If kappa is equal to zero, this distribution reduces\n",
            "        to a uniform random angle over the range 0 to 2*pi.\n",
            "    \n",
            "    weibullvariate(alpha, beta) method of Random instance\n",
            "        Weibull distribution.\n",
            "        \n",
            "        alpha is the scale parameter and beta is the shape parameter.\n",
            "\n",
            "DATA\n",
            "    __all__ = ['Random', 'SystemRandom', 'betavariate', 'choice', 'choices...\n",
            "\n",
            "FILE\n",
            "    /usr/lib/python3.10/random.py\n",
            "\n",
            "\n"
          ]
        }
      ]
    },
    {
      "cell_type": "markdown",
      "source": [
        " ### randint(a, b) method of Random instance\n",
        "        Return random integer in range [a, b], including both end points. randint(a, b) method of Random instance"
      ],
      "metadata": {
        "id": "q-VhLvRKZ7jU"
      }
    },
    {
      "cell_type": "code",
      "source": [
        "random.randint(0,10)"
      ],
      "metadata": {
        "colab": {
          "base_uri": "https://localhost:8080/"
        },
        "id": "8922wYyqZsrH",
        "outputId": "62e350e5-912f-4c8a-8885-fbcd6ce213a2"
      },
      "execution_count": null,
      "outputs": [
        {
          "output_type": "execute_result",
          "data": {
            "text/plain": [
              "0"
            ]
          },
          "metadata": {},
          "execution_count": 10
        }
      ]
    },
    {
      "cell_type": "code",
      "source": [
        "random.randint(0,10)"
      ],
      "metadata": {
        "colab": {
          "base_uri": "https://localhost:8080/"
        },
        "id": "0mcNdDkraAkc",
        "outputId": "8a57c1fa-4472-41fa-80e8-2b02b9d1c8a1"
      },
      "execution_count": null,
      "outputs": [
        {
          "output_type": "execute_result",
          "data": {
            "text/plain": [
              "0"
            ]
          },
          "metadata": {},
          "execution_count": 11
        }
      ]
    },
    {
      "cell_type": "code",
      "source": [
        "random.randint(0,10)"
      ],
      "metadata": {
        "colab": {
          "base_uri": "https://localhost:8080/"
        },
        "id": "gwimV23jaCW3",
        "outputId": "0684d60a-b9bb-49ef-82cf-c8151b7c6299"
      },
      "execution_count": null,
      "outputs": [
        {
          "output_type": "execute_result",
          "data": {
            "text/plain": [
              "5"
            ]
          },
          "metadata": {},
          "execution_count": 12
        }
      ]
    },
    {
      "cell_type": "code",
      "source": [
        "import random\n",
        "\n",
        "\n",
        "random.seed(100)\n",
        "for i in range(5):\n",
        "    print(random.randint(0,10))"
      ],
      "metadata": {
        "colab": {
          "base_uri": "https://localhost:8080/"
        },
        "id": "kq9zZlSlaD4Z",
        "outputId": "9ed78c14-5bd4-4951-99b8-b2ccf8b6ef55"
      },
      "execution_count": null,
      "outputs": [
        {
          "output_type": "stream",
          "name": "stdout",
          "text": [
            "2\n",
            "7\n",
            "7\n",
            "2\n",
            "6\n"
          ]
        }
      ]
    },
    {
      "cell_type": "code",
      "source": [
        "random.seed(100)\n",
        "\n",
        "for i in range(5):\n",
        "    print(random.randint(0,10))"
      ],
      "metadata": {
        "colab": {
          "base_uri": "https://localhost:8080/"
        },
        "id": "SXNjCipmbklf",
        "outputId": "e33f1584-bccb-4371-ac58-d524ac16258b"
      },
      "execution_count": null,
      "outputs": [
        {
          "output_type": "stream",
          "name": "stdout",
          "text": [
            "2\n",
            "7\n",
            "7\n",
            "2\n",
            "6\n"
          ]
        }
      ]
    },
    {
      "cell_type": "code",
      "source": [
        "random.seed(43)\n",
        "\n",
        "print(random.randint(0,10))\n",
        "print(random.randint(0,10))"
      ],
      "metadata": {
        "colab": {
          "base_uri": "https://localhost:8080/"
        },
        "id": "To-cU6ugbpOR",
        "outputId": "5a7995bf-204a-4cf1-810d-8bf03e8be192"
      },
      "execution_count": null,
      "outputs": [
        {
          "output_type": "stream",
          "name": "stdout",
          "text": [
            "0\n",
            "4\n"
          ]
        }
      ]
    },
    {
      "cell_type": "code",
      "source": [
        "random.seed(43)\n",
        "\n",
        "print(random.randint(0,10))"
      ],
      "metadata": {
        "colab": {
          "base_uri": "https://localhost:8080/"
        },
        "id": "TjiXfxVucFVE",
        "outputId": "647b5fef-458f-4fe6-b8f9-1469dcaec436"
      },
      "execution_count": null,
      "outputs": [
        {
          "output_type": "stream",
          "name": "stdout",
          "text": [
            "0\n"
          ]
        }
      ]
    },
    {
      "cell_type": "code",
      "source": [
        "print(random.randint(0,10))"
      ],
      "metadata": {
        "colab": {
          "base_uri": "https://localhost:8080/"
        },
        "id": "zz2M7CqNcHnh",
        "outputId": "640d2d4a-ae11-4a1b-e998-237fd7037c7a"
      },
      "execution_count": null,
      "outputs": [
        {
          "output_type": "stream",
          "name": "stdout",
          "text": [
            "4\n"
          ]
        }
      ]
    },
    {
      "cell_type": "markdown",
      "source": [
        "### Worst way of importing"
      ],
      "metadata": {
        "id": "zfM3UElqcYDV"
      }
    },
    {
      "cell_type": "code",
      "source": [
        "from math import sqrt,pi\n",
        "from math import pow"
      ],
      "metadata": {
        "id": "T4ASmE3PcKAv"
      },
      "execution_count": null,
      "outputs": []
    },
    {
      "cell_type": "code",
      "source": [
        "from math import * # import everything from math"
      ],
      "metadata": {
        "id": "bYL_ayPtchbm"
      },
      "execution_count": null,
      "outputs": []
    },
    {
      "cell_type": "markdown",
      "source": [
        "#### Set alias"
      ],
      "metadata": {
        "id": "W53YLNvYeAy5"
      }
    },
    {
      "cell_type": "code",
      "source": [
        "import math as m\n",
        "import numpy as np\n",
        "\n",
        "m.sqrt(25)"
      ],
      "metadata": {
        "colab": {
          "base_uri": "https://localhost:8080/"
        },
        "id": "goU0Ft9TcoEg",
        "outputId": "c3ba9673-f533-467e-b2d4-587840282225"
      },
      "execution_count": null,
      "outputs": [
        {
          "output_type": "execute_result",
          "data": {
            "text/plain": [
              "5.0"
            ]
          },
          "metadata": {},
          "execution_count": 20
        }
      ]
    },
    {
      "cell_type": "code",
      "source": [
        "np.sqrt(25)"
      ],
      "metadata": {
        "colab": {
          "base_uri": "https://localhost:8080/"
        },
        "id": "2VdPNIUceG5D",
        "outputId": "dda42c00-6c02-43dc-94d8-6358b659fe4f"
      },
      "execution_count": null,
      "outputs": [
        {
          "output_type": "execute_result",
          "data": {
            "text/plain": [
              "5.0"
            ]
          },
          "metadata": {},
          "execution_count": 21
        }
      ]
    },
    {
      "cell_type": "markdown",
      "source": [
        "###"
      ],
      "metadata": {
        "id": "Pc5PEZM8eNuq"
      }
    },
    {
      "cell_type": "code",
      "source": [
        "from math import sqrt as msqrt\n",
        "from numpy import sqrt as npsqrt\n",
        "\n",
        "msqrt(25)"
      ],
      "metadata": {
        "colab": {
          "base_uri": "https://localhost:8080/"
        },
        "id": "EzosB25DeIpZ",
        "outputId": "ec33f712-2b76-470b-cb67-561c8c752085"
      },
      "execution_count": null,
      "outputs": [
        {
          "output_type": "execute_result",
          "data": {
            "text/plain": [
              "5.0"
            ]
          },
          "metadata": {},
          "execution_count": 22
        }
      ]
    },
    {
      "cell_type": "code",
      "source": [
        "npsqrt(25)"
      ],
      "metadata": {
        "colab": {
          "base_uri": "https://localhost:8080/"
        },
        "id": "PsZh2pJAebkv",
        "outputId": "0c09b502-75c9-4a85-ce02-a3256afc9901"
      },
      "execution_count": null,
      "outputs": [
        {
          "output_type": "execute_result",
          "data": {
            "text/plain": [
              "5.0"
            ]
          },
          "metadata": {},
          "execution_count": 23
        }
      ]
    },
    {
      "cell_type": "markdown",
      "source": [
        "Create a custom math module with 4 functions -\n",
        "\n",
        "- add\n",
        "- subtract\n",
        "- multiply\n",
        "- divide"
      ],
      "metadata": {
        "id": "DTN75zfGekUi"
      }
    },
    {
      "cell_type": "code",
      "source": [
        "import mymod"
      ],
      "metadata": {
        "id": "TdgJCuDFedgP"
      },
      "execution_count": null,
      "outputs": []
    },
    {
      "cell_type": "code",
      "source": [
        "mymod.a"
      ],
      "metadata": {
        "colab": {
          "base_uri": "https://localhost:8080/"
        },
        "id": "c1UWykHQey3X",
        "outputId": "8e4d156f-e36a-43f8-844c-4c511108b663"
      },
      "execution_count": null,
      "outputs": [
        {
          "output_type": "execute_result",
          "data": {
            "text/plain": [
              "10"
            ]
          },
          "metadata": {},
          "execution_count": 25
        }
      ]
    },
    {
      "cell_type": "code",
      "source": [
        "mymod.b"
      ],
      "metadata": {
        "colab": {
          "base_uri": "https://localhost:8080/"
        },
        "id": "agiUClDXe0kN",
        "outputId": "c5e0d73d-20c0-44fa-9520-8fe28e47ce94"
      },
      "execution_count": null,
      "outputs": [
        {
          "output_type": "execute_result",
          "data": {
            "text/plain": [
              "10"
            ]
          },
          "metadata": {},
          "execution_count": 26
        }
      ]
    },
    {
      "cell_type": "code",
      "source": [
        "a = 9\n",
        "b = 10\n",
        "\n",
        "random.randint(a, b)"
      ],
      "metadata": {
        "colab": {
          "base_uri": "https://localhost:8080/"
        },
        "id": "sD5IfKdPe9-p",
        "outputId": "885f0d1e-04be-42c4-e5e4-5a893845303e"
      },
      "execution_count": null,
      "outputs": [
        {
          "output_type": "execute_result",
          "data": {
            "text/plain": [
              "10"
            ]
          },
          "metadata": {},
          "execution_count": 29
        }
      ]
    },
    {
      "cell_type": "code",
      "source": [
        "random.randint(a, b)"
      ],
      "metadata": {
        "colab": {
          "base_uri": "https://localhost:8080/"
        },
        "id": "8DqBrX0Lfns6",
        "outputId": "1d861f42-46fb-4a83-eca9-3c539ce8c49b"
      },
      "execution_count": null,
      "outputs": [
        {
          "output_type": "execute_result",
          "data": {
            "text/plain": [
              "9"
            ]
          },
          "metadata": {},
          "execution_count": 30
        }
      ]
    },
    {
      "cell_type": "code",
      "source": [
        "1/0"
      ],
      "metadata": {
        "colab": {
          "base_uri": "https://localhost:8080/",
          "height": 158
        },
        "id": "awWNOjl5fo5N",
        "outputId": "40c5dc9c-eb16-4f2e-fad1-3174a902222c"
      },
      "execution_count": null,
      "outputs": [
        {
          "output_type": "error",
          "ename": "ZeroDivisionError",
          "evalue": "division by zero",
          "traceback": [
            "\u001b[0;31m---------------------------------------------------------------------------\u001b[0m",
            "\u001b[0;31mZeroDivisionError\u001b[0m                         Traceback (most recent call last)",
            "\u001b[0;32m<ipython-input-31-9e1622b385b6>\u001b[0m in \u001b[0;36m<cell line: 1>\u001b[0;34m()\u001b[0m\n\u001b[0;32m----> 1\u001b[0;31m \u001b[0;36m1\u001b[0m\u001b[0;34m/\u001b[0m\u001b[0;36m0\u001b[0m\u001b[0;34m\u001b[0m\u001b[0;34m\u001b[0m\u001b[0m\n\u001b[0m",
            "\u001b[0;31mZeroDivisionError\u001b[0m: division by zero"
          ]
        }
      ]
    },
    {
      "cell_type": "code",
      "source": [
        "print(name)"
      ],
      "metadata": {
        "colab": {
          "base_uri": "https://localhost:8080/",
          "height": 158
        },
        "id": "2MlCL88rgY1A",
        "outputId": "0d51d212-b1b7-4f0b-8c3c-2f415a93fe4e"
      },
      "execution_count": null,
      "outputs": [
        {
          "output_type": "error",
          "ename": "NameError",
          "evalue": "name 'name' is not defined",
          "traceback": [
            "\u001b[0;31m---------------------------------------------------------------------------\u001b[0m",
            "\u001b[0;31mNameError\u001b[0m                                 Traceback (most recent call last)",
            "\u001b[0;32m<ipython-input-32-9ba126b17b03>\u001b[0m in \u001b[0;36m<cell line: 1>\u001b[0;34m()\u001b[0m\n\u001b[0;32m----> 1\u001b[0;31m \u001b[0mprint\u001b[0m\u001b[0;34m(\u001b[0m\u001b[0mname\u001b[0m\u001b[0;34m)\u001b[0m\u001b[0;34m\u001b[0m\u001b[0;34m\u001b[0m\u001b[0m\n\u001b[0m",
            "\u001b[0;31mNameError\u001b[0m: name 'name' is not defined"
          ]
        }
      ]
    },
    {
      "cell_type": "code",
      "source": [
        "if 573:\n",
        "\n",
        "print(\"Hello\")"
      ],
      "metadata": {
        "colab": {
          "base_uri": "https://localhost:8080/",
          "height": 124
        },
        "id": "vjsdi5k4ghg9",
        "outputId": "9e715823-db16-4512-a92f-a70d61175b26"
      },
      "execution_count": null,
      "outputs": [
        {
          "output_type": "error",
          "ename": "IndentationError",
          "evalue": "expected an indented block after 'if' statement on line 1 (<ipython-input-33-d77ca14b3f5b>, line 3)",
          "traceback": [
            "\u001b[0;36m  File \u001b[0;32m\"<ipython-input-33-d77ca14b3f5b>\"\u001b[0;36m, line \u001b[0;32m3\u001b[0m\n\u001b[0;31m    print(\"Hello\")\u001b[0m\n\u001b[0m    ^\u001b[0m\n\u001b[0;31mIndentationError\u001b[0m\u001b[0;31m:\u001b[0m expected an indented block after 'if' statement on line 1\n"
          ]
        }
      ]
    },
    {
      "cell_type": "code",
      "source": [
        "if 573:\n"
      ],
      "metadata": {
        "colab": {
          "base_uri": "https://localhost:8080/",
          "height": 124
        },
        "id": "gOfs5urxgof1",
        "outputId": "4e27c242-c732-421b-a3f1-2635f8703c5b"
      },
      "execution_count": null,
      "outputs": [
        {
          "output_type": "error",
          "ename": "SyntaxError",
          "evalue": "incomplete input (<ipython-input-34-4b0c23a9a954>, line 2)",
          "traceback": [
            "\u001b[0;36m  File \u001b[0;32m\"<ipython-input-34-4b0c23a9a954>\"\u001b[0;36m, line \u001b[0;32m2\u001b[0m\n\u001b[0;31m    \u001b[0m\n\u001b[0m    ^\u001b[0m\n\u001b[0;31mSyntaxError\u001b[0m\u001b[0;31m:\u001b[0m incomplete input\n"
          ]
        }
      ]
    },
    {
      "cell_type": "code",
      "source": [
        "\"sachin\">75"
      ],
      "metadata": {
        "colab": {
          "base_uri": "https://localhost:8080/",
          "height": 158
        },
        "id": "AQXwHC-Qgqpl",
        "outputId": "99abd4e2-434a-4fe8-bb63-0bf3a4857116"
      },
      "execution_count": null,
      "outputs": [
        {
          "output_type": "error",
          "ename": "TypeError",
          "evalue": "'>' not supported between instances of 'str' and 'int'",
          "traceback": [
            "\u001b[0;31m---------------------------------------------------------------------------\u001b[0m",
            "\u001b[0;31mTypeError\u001b[0m                                 Traceback (most recent call last)",
            "\u001b[0;32m<ipython-input-35-8f7ab586271f>\u001b[0m in \u001b[0;36m<cell line: 1>\u001b[0;34m()\u001b[0m\n\u001b[0;32m----> 1\u001b[0;31m \u001b[0;34m\"sachin\"\u001b[0m\u001b[0;34m>\u001b[0m\u001b[0;36m75\u001b[0m\u001b[0;34m\u001b[0m\u001b[0;34m\u001b[0m\u001b[0m\n\u001b[0m",
            "\u001b[0;31mTypeError\u001b[0m: '>' not supported between instances of 'str' and 'int'"
          ]
        }
      ]
    },
    {
      "cell_type": "code",
      "source": [
        "sorted(\"sachin\")"
      ],
      "metadata": {
        "colab": {
          "base_uri": "https://localhost:8080/"
        },
        "id": "ecMcKPV-gyYf",
        "outputId": "ed0d14da-7297-4812-f197-de9147880917"
      },
      "execution_count": null,
      "outputs": [
        {
          "output_type": "execute_result",
          "data": {
            "text/plain": [
              "['a', 'c', 'h', 'i', 'n', 's']"
            ]
          },
          "metadata": {},
          "execution_count": 36
        }
      ]
    },
    {
      "cell_type": "code",
      "source": [
        "\"sachin\".sort()"
      ],
      "metadata": {
        "colab": {
          "base_uri": "https://localhost:8080/",
          "height": 158
        },
        "id": "yfT-kEmCg3Iy",
        "outputId": "37bfa51e-6089-40b7-f577-8d65b48ee0c3"
      },
      "execution_count": null,
      "outputs": [
        {
          "output_type": "error",
          "ename": "AttributeError",
          "evalue": "'str' object has no attribute 'sort'",
          "traceback": [
            "\u001b[0;31m---------------------------------------------------------------------------\u001b[0m",
            "\u001b[0;31mAttributeError\u001b[0m                            Traceback (most recent call last)",
            "\u001b[0;32m<ipython-input-37-f99697946deb>\u001b[0m in \u001b[0;36m<cell line: 1>\u001b[0;34m()\u001b[0m\n\u001b[0;32m----> 1\u001b[0;31m \u001b[0;34m\"sachin\"\u001b[0m\u001b[0;34m.\u001b[0m\u001b[0msort\u001b[0m\u001b[0;34m(\u001b[0m\u001b[0;34m)\u001b[0m\u001b[0;34m\u001b[0m\u001b[0;34m\u001b[0m\u001b[0m\n\u001b[0m",
            "\u001b[0;31mAttributeError\u001b[0m: 'str' object has no attribute 'sort'"
          ]
        }
      ]
    },
    {
      "cell_type": "code",
      "source": [
        "def something():\n",
        "    print(1/0)\n",
        "    print(\"Logic1\")\n",
        "    print(\"Logic2\")\n",
        "    print(\"Logic3\")\n",
        "\n",
        "something()"
      ],
      "metadata": {
        "colab": {
          "base_uri": "https://localhost:8080/",
          "height": 309
        },
        "id": "zqWZgJ1ig8oi",
        "outputId": "3b129692-d4dd-470d-a435-9465392e8125"
      },
      "execution_count": null,
      "outputs": [
        {
          "output_type": "error",
          "ename": "ZeroDivisionError",
          "evalue": "division by zero",
          "traceback": [
            "\u001b[0;31m---------------------------------------------------------------------------\u001b[0m",
            "\u001b[0;31mZeroDivisionError\u001b[0m                         Traceback (most recent call last)",
            "\u001b[0;32m<ipython-input-38-288f89c16fcc>\u001b[0m in \u001b[0;36m<cell line: 7>\u001b[0;34m()\u001b[0m\n\u001b[1;32m      5\u001b[0m     \u001b[0mprint\u001b[0m\u001b[0;34m(\u001b[0m\u001b[0;34m\"Logic3\"\u001b[0m\u001b[0;34m)\u001b[0m\u001b[0;34m\u001b[0m\u001b[0;34m\u001b[0m\u001b[0m\n\u001b[1;32m      6\u001b[0m \u001b[0;34m\u001b[0m\u001b[0m\n\u001b[0;32m----> 7\u001b[0;31m \u001b[0msomething\u001b[0m\u001b[0;34m(\u001b[0m\u001b[0;34m)\u001b[0m\u001b[0;34m\u001b[0m\u001b[0;34m\u001b[0m\u001b[0m\n\u001b[0m",
            "\u001b[0;32m<ipython-input-38-288f89c16fcc>\u001b[0m in \u001b[0;36msomething\u001b[0;34m()\u001b[0m\n\u001b[1;32m      1\u001b[0m \u001b[0;32mdef\u001b[0m \u001b[0msomething\u001b[0m\u001b[0;34m(\u001b[0m\u001b[0;34m)\u001b[0m\u001b[0;34m:\u001b[0m\u001b[0;34m\u001b[0m\u001b[0;34m\u001b[0m\u001b[0m\n\u001b[0;32m----> 2\u001b[0;31m     \u001b[0mprint\u001b[0m\u001b[0;34m(\u001b[0m\u001b[0;36m1\u001b[0m\u001b[0;34m/\u001b[0m\u001b[0;36m0\u001b[0m\u001b[0;34m)\u001b[0m\u001b[0;34m\u001b[0m\u001b[0;34m\u001b[0m\u001b[0m\n\u001b[0m\u001b[1;32m      3\u001b[0m     \u001b[0mprint\u001b[0m\u001b[0;34m(\u001b[0m\u001b[0;34m\"Logic1\"\u001b[0m\u001b[0;34m)\u001b[0m\u001b[0;34m\u001b[0m\u001b[0;34m\u001b[0m\u001b[0m\n\u001b[1;32m      4\u001b[0m     \u001b[0mprint\u001b[0m\u001b[0;34m(\u001b[0m\u001b[0;34m\"Logic2\"\u001b[0m\u001b[0;34m)\u001b[0m\u001b[0;34m\u001b[0m\u001b[0;34m\u001b[0m\u001b[0m\n\u001b[1;32m      5\u001b[0m     \u001b[0mprint\u001b[0m\u001b[0;34m(\u001b[0m\u001b[0;34m\"Logic3\"\u001b[0m\u001b[0;34m)\u001b[0m\u001b[0;34m\u001b[0m\u001b[0;34m\u001b[0m\u001b[0m\n",
            "\u001b[0;31mZeroDivisionError\u001b[0m: division by zero"
          ]
        }
      ]
    },
    {
      "cell_type": "code",
      "source": [
        "def something():\n",
        "    try:\n",
        "        print(1/0)\n",
        "\n",
        "    except:\n",
        "        print(\"Error occured\")\n",
        "\n",
        "    print(\"Logic1\")\n",
        "    print(\"Logic2\")\n",
        "    print(\"Logic3\")\n",
        "\n",
        "something()"
      ],
      "metadata": {
        "colab": {
          "base_uri": "https://localhost:8080/"
        },
        "id": "Wh7KCmkehPpB",
        "outputId": "6fe41279-ba01-4a11-b610-ae741927342a"
      },
      "execution_count": null,
      "outputs": [
        {
          "output_type": "stream",
          "name": "stdout",
          "text": [
            "Error occured\n",
            "Logic1\n",
            "Logic2\n",
            "Logic3\n"
          ]
        }
      ]
    },
    {
      "cell_type": "code",
      "source": [
        "def something():\n",
        "    try:\n",
        "        print(1/0)\n",
        "\n",
        "    except:\n",
        "        print(\"Error occured\")\n",
        "\n",
        "    try:\n",
        "        print(\"Logic1\")\n",
        "    except:\n",
        "        print(\"logic1 failed\")\n",
        "\n",
        "    print(\"Logic2\")\n",
        "    print(\"Logic3\")\n",
        "\n",
        "something()"
      ],
      "metadata": {
        "id": "on-r9Fn2hwTW"
      },
      "execution_count": null,
      "outputs": []
    },
    {
      "cell_type": "code",
      "source": [
        "def something():\n",
        "    try:\n",
        "        print(1/0)\n",
        "        print(\"logic1 failed\")\n",
        "        print(\"Logic2\")\n",
        "        print(\"Logic3\")\n",
        "\n",
        "    except: #\n",
        "        print(\"Error occured\")\n",
        "\n",
        "\n",
        "something()"
      ],
      "metadata": {
        "colab": {
          "base_uri": "https://localhost:8080/"
        },
        "id": "PBGiF6GhiPVG",
        "outputId": "b708bf63-31d8-4b7b-f4da-d87991464c17"
      },
      "execution_count": null,
      "outputs": [
        {
          "output_type": "stream",
          "name": "stdout",
          "text": [
            "Error occured\n"
          ]
        }
      ]
    },
    {
      "cell_type": "code",
      "source": [
        "def something():\n",
        "    try:\n",
        "        print(\"1\".sort())\n",
        "        print(\"logic1 failed\")\n",
        "        print(\"Logic2\")\n",
        "        print(\"Logic3\")\n",
        "\n",
        "\n",
        "    except ZeroDivisionError:\n",
        "        print(\"Why are diving by Zero\") # line 1\n",
        "\n",
        "    except TypeError:\n",
        "        print(\"Incorrect operands\") # line 2\n",
        "\n",
        "    except: # generic exception block: This must be last\n",
        "        print(\"Error occured\") # line 3"
      ],
      "metadata": {
        "id": "0mlXHSw6iUOR"
      },
      "execution_count": null,
      "outputs": []
    },
    {
      "cell_type": "code",
      "source": [
        "something()"
      ],
      "metadata": {
        "colab": {
          "base_uri": "https://localhost:8080/"
        },
        "id": "43wigcP9jRIZ",
        "outputId": "b4e0ae47-509c-4716-e60f-c6c198c536a5"
      },
      "execution_count": null,
      "outputs": [
        {
          "output_type": "stream",
          "name": "stdout",
          "text": [
            "Error occured\n"
          ]
        }
      ]
    },
    {
      "cell_type": "code",
      "source": [
        "\"a\">1"
      ],
      "metadata": {
        "colab": {
          "base_uri": "https://localhost:8080/",
          "height": 158
        },
        "id": "UMhCp0ePjRqW",
        "outputId": "5c393f37-12f3-431d-f41a-161b6a76726e"
      },
      "execution_count": null,
      "outputs": [
        {
          "output_type": "error",
          "ename": "TypeError",
          "evalue": "'>' not supported between instances of 'str' and 'int'",
          "traceback": [
            "\u001b[0;31m---------------------------------------------------------------------------\u001b[0m",
            "\u001b[0;31mTypeError\u001b[0m                                 Traceback (most recent call last)",
            "\u001b[0;32m<ipython-input-42-6868598adc15>\u001b[0m in \u001b[0;36m<cell line: 1>\u001b[0;34m()\u001b[0m\n\u001b[0;32m----> 1\u001b[0;31m \u001b[0;34m\"a\"\u001b[0m\u001b[0;34m>\u001b[0m\u001b[0;36m1\u001b[0m\u001b[0;34m\u001b[0m\u001b[0;34m\u001b[0m\u001b[0m\n\u001b[0m",
            "\u001b[0;31mTypeError\u001b[0m: '>' not supported between instances of 'str' and 'int'"
          ]
        }
      ]
    },
    {
      "cell_type": "markdown",
      "source": [
        "- Zero"
      ],
      "metadata": {
        "id": "3e520d2LkTsy"
      }
    },
    {
      "cell_type": "markdown",
      "source": [
        "#### Raising Custom Exceptiion"
      ],
      "metadata": {
        "id": "hv58AePUkek6"
      }
    },
    {
      "cell_type": "code",
      "source": [
        "first_name = \"Sachin\"\n",
        "last_name = \"K\"\n",
        "\n",
        "0"
      ],
      "metadata": {
        "id": "6kDNmciDjcCU"
      },
      "execution_count": null,
      "outputs": []
    },
    {
      "cell_type": "code",
      "source": [],
      "metadata": {
        "id": "Mn9McbLYkxYF"
      },
      "execution_count": null,
      "outputs": []
    },
    {
      "cell_type": "code",
      "source": [
        "l1 = [2, 0, \"hello\", None]\n",
        "\n",
        "for e in l1:\n",
        "    try:\n",
        "        print(f\"Current element - {e}\")\n",
        "        result = 5 / int(e)\n",
        "        print(f\"Result - {result}\")\n",
        "        print(\"*\"*50)\n",
        "\n",
        "    except Exception as e:\n",
        "        print(f\"Exception Occured: {e}\")\n",
        "        print(\"*\"*50)"
      ],
      "metadata": {
        "colab": {
          "base_uri": "https://localhost:8080/"
        },
        "id": "xNnR2o6OkxVe",
        "outputId": "340f2350-4309-4a57-dc3e-9d7d51ad94b7"
      },
      "execution_count": null,
      "outputs": [
        {
          "output_type": "stream",
          "name": "stdout",
          "text": [
            "Current element - 2\n",
            "Result - 2.5\n",
            "**************************************************\n",
            "Current element - 0\n",
            "Exception Occured: division by zero\n",
            "**************************************************\n",
            "Current element - hello\n",
            "Exception Occured: invalid literal for int() with base 10: 'hello'\n",
            "**************************************************\n",
            "Current element - None\n",
            "Exception Occured: int() argument must be a string, a bytes-like object or a real number, not 'NoneType'\n",
            "**************************************************\n"
          ]
        }
      ]
    },
    {
      "cell_type": "code",
      "source": [
        "int(\"sachin\")"
      ],
      "metadata": {
        "colab": {
          "base_uri": "https://localhost:8080/",
          "height": 158
        },
        "id": "tnllqdirkxS8",
        "outputId": "8aa6ec2f-baf8-432a-bab8-953835d73523"
      },
      "execution_count": null,
      "outputs": [
        {
          "output_type": "error",
          "ename": "ValueError",
          "evalue": "invalid literal for int() with base 10: 'sachin'",
          "traceback": [
            "\u001b[0;31m---------------------------------------------------------------------------\u001b[0m",
            "\u001b[0;31mValueError\u001b[0m                                Traceback (most recent call last)",
            "\u001b[0;32m<ipython-input-59-6e46088a2c2a>\u001b[0m in \u001b[0;36m<cell line: 1>\u001b[0;34m()\u001b[0m\n\u001b[0;32m----> 1\u001b[0;31m \u001b[0mint\u001b[0m\u001b[0;34m(\u001b[0m\u001b[0;34m\"sachin\"\u001b[0m\u001b[0;34m)\u001b[0m\u001b[0;34m\u001b[0m\u001b[0;34m\u001b[0m\u001b[0m\n\u001b[0m",
            "\u001b[0;31mValueError\u001b[0m: invalid literal for int() with base 10: 'sachin'"
          ]
        }
      ]
    },
    {
      "cell_type": "code",
      "source": [
        "l1 = [2, 0, \"hello\", None]\n",
        "\n",
        "for e in l1:\n",
        "    try:\n",
        "        print(f\"Current element - {e}\")\n",
        "        result = 5 / int(e)\n",
        "        print(f\"Result - {result}\")\n",
        "        print(\"*\"*50)\n",
        "\n",
        "    except ValueError as v:\n",
        "        print(f\"Can't convert e to int {v}\")\n",
        "        print(\"*\"*50)\n",
        "    except Exception as e:\n",
        "        print(f\"Exception Occured: {e}\")\n",
        "        print(\"*\"*50)"
      ],
      "metadata": {
        "colab": {
          "base_uri": "https://localhost:8080/"
        },
        "id": "Uza0AnFjno_-",
        "outputId": "53d95c96-8f0c-42b1-a09c-ecef722e785c"
      },
      "execution_count": null,
      "outputs": [
        {
          "output_type": "stream",
          "name": "stdout",
          "text": [
            "Current element - 2\n",
            "Result - 2.5\n",
            "**************************************************\n",
            "Current element - 0\n",
            "Exception Occured: division by zero\n",
            "**************************************************\n",
            "Current element - hello\n",
            "Can't convert e to int invalid literal for int() with base 10: 'hello'\n",
            "**************************************************\n",
            "Current element - None\n",
            "Exception Occured: int() argument must be a string, a bytes-like object or a real number, not 'NoneType'\n",
            "**************************************************\n"
          ]
        }
      ]
    },
    {
      "cell_type": "markdown",
      "source": [
        "### Finally:\n",
        "IT ALWAYS EXECUTE NO MATTER WHAT YTPE OF ERROR HAS OCCURED"
      ],
      "metadata": {
        "id": "r9TLIbvrofHL"
      }
    },
    {
      "cell_type": "code",
      "source": [
        "try:\n",
        "    print(\"Entering PIN\")\n",
        "\n",
        "\n",
        "    print(\"Transaction Successful\")\n",
        "\n",
        "except:\n",
        "    print(\"Invalid PIN\")\n",
        "\n",
        "finally:\n",
        "    print(\"Ejecting Card\")"
      ],
      "metadata": {
        "colab": {
          "base_uri": "https://localhost:8080/"
        },
        "id": "qgTAsXGpoNfw",
        "outputId": "df61f26c-1b94-40d0-cec8-03e4a7b1eda7"
      },
      "execution_count": null,
      "outputs": [
        {
          "output_type": "stream",
          "name": "stdout",
          "text": [
            "Entering PIN\n",
            "Transaction Successful\n",
            "Ejecting Card\n"
          ]
        }
      ]
    },
    {
      "cell_type": "markdown",
      "source": [
        "Raising Exceptions:"
      ],
      "metadata": {
        "id": "aIzGcsHupbzN"
      }
    },
    {
      "cell_type": "code",
      "source": [
        "a = 10\n",
        "b = 20\n",
        "\n",
        "try:\n",
        "    if b==0:\n",
        "        raise ZeroDivisionError\n",
        "    print(a/b)\n",
        "\n",
        "except ZeroDivisionError:\n",
        "    print(\"b is Zero\")"
      ],
      "metadata": {
        "colab": {
          "base_uri": "https://localhost:8080/"
        },
        "id": "mZm2c5c7o5ad",
        "outputId": "34b5d479-7b60-4f8b-d0c1-bfb0385bb0aa"
      },
      "execution_count": null,
      "outputs": [
        {
          "output_type": "stream",
          "name": "stdout",
          "text": [
            "0.5\n"
          ]
        }
      ]
    },
    {
      "cell_type": "markdown",
      "source": [
        "### CustomException"
      ],
      "metadata": {
        "id": "_ienwMFwqVpq"
      }
    },
    {
      "cell_type": "code",
      "source": [
        "class LastNameException(Exception):\n",
        "    def __init__(self):\n",
        "        super().__init__(\"Last name must be greater than 1 char\")\n"
      ],
      "metadata": {
        "id": "r8D9VxdcptOp"
      },
      "execution_count": null,
      "outputs": []
    },
    {
      "cell_type": "code",
      "source": [
        "first_name = \"sachin\"\n",
        "last_name =  \"    k \"\n",
        "\n",
        "try:\n",
        "    if len(last_name.strip())<=1:\n",
        "        raise LastNameException()\n",
        "    print(\"Ticket Approved\")\n",
        "except LastNameException as le:\n",
        "    print(le)\n",
        "    print(\"Please give your full Last Name\")"
      ],
      "metadata": {
        "colab": {
          "base_uri": "https://localhost:8080/"
        },
        "id": "-cDBGOYNqz48",
        "outputId": "82163403-f049-4b1a-8507-8d9a48579e42"
      },
      "execution_count": null,
      "outputs": [
        {
          "output_type": "stream",
          "name": "stdout",
          "text": [
            "Last name must be greater than 1 char\n",
            "Please give your full Last Name\n"
          ]
        }
      ]
    },
    {
      "cell_type": "markdown",
      "source": [
        "### Create similar exception class for firstname where min length should be greater 3"
      ],
      "metadata": {
        "id": "FDlIqFuSsG5p"
      }
    },
    {
      "cell_type": "code",
      "source": [
        "assert True"
      ],
      "metadata": {
        "id": "EKJRpXM6rR9C"
      },
      "execution_count": null,
      "outputs": []
    },
    {
      "cell_type": "code",
      "source": [
        "assert False"
      ],
      "metadata": {
        "colab": {
          "base_uri": "https://localhost:8080/",
          "height": 158
        },
        "id": "66KdHymZseHV",
        "outputId": "88fe0728-0eee-4879-ec41-076d2ba24c9d"
      },
      "execution_count": null,
      "outputs": [
        {
          "output_type": "error",
          "ename": "AssertionError",
          "evalue": "",
          "traceback": [
            "\u001b[0;31m---------------------------------------------------------------------------\u001b[0m",
            "\u001b[0;31mAssertionError\u001b[0m                            Traceback (most recent call last)",
            "\u001b[0;32m<ipython-input-85-a871fdc9ebee>\u001b[0m in \u001b[0;36m<cell line: 1>\u001b[0;34m()\u001b[0m\n\u001b[0;32m----> 1\u001b[0;31m \u001b[0;32massert\u001b[0m \u001b[0;32mFalse\u001b[0m\u001b[0;34m\u001b[0m\u001b[0;34m\u001b[0m\u001b[0m\n\u001b[0m",
            "\u001b[0;31mAssertionError\u001b[0m: "
          ]
        }
      ]
    },
    {
      "cell_type": "code",
      "source": [
        "assert 5>1"
      ],
      "metadata": {
        "id": "9QbRrGjysiST"
      },
      "execution_count": null,
      "outputs": []
    },
    {
      "cell_type": "code",
      "source": [
        "assert 1>5"
      ],
      "metadata": {
        "colab": {
          "base_uri": "https://localhost:8080/",
          "height": 158
        },
        "id": "lwT1Xv-6spmY",
        "outputId": "7cefb76e-2877-4357-d82f-00bcfd2737ea"
      },
      "execution_count": null,
      "outputs": [
        {
          "output_type": "error",
          "ename": "AssertionError",
          "evalue": "",
          "traceback": [
            "\u001b[0;31m---------------------------------------------------------------------------\u001b[0m",
            "\u001b[0;31mAssertionError\u001b[0m                            Traceback (most recent call last)",
            "\u001b[0;32m<ipython-input-87-7f8c94c6d495>\u001b[0m in \u001b[0;36m<cell line: 1>\u001b[0;34m()\u001b[0m\n\u001b[0;32m----> 1\u001b[0;31m \u001b[0;32massert\u001b[0m \u001b[0;36m1\u001b[0m\u001b[0;34m>\u001b[0m\u001b[0;36m5\u001b[0m\u001b[0;34m\u001b[0m\u001b[0;34m\u001b[0m\u001b[0m\n\u001b[0m",
            "\u001b[0;31mAssertionError\u001b[0m: "
          ]
        }
      ]
    },
    {
      "cell_type": "code",
      "source": [
        "try:\n",
        "    assert False, \"Error occurred!\"\n",
        "except AssertionError as e:\n",
        "    print(e)"
      ],
      "metadata": {
        "colab": {
          "base_uri": "https://localhost:8080/"
        },
        "id": "PpAjc0W0sreA",
        "outputId": "e8b0d718-a3eb-410d-d92b-92592cc32284"
      },
      "execution_count": null,
      "outputs": [
        {
          "output_type": "stream",
          "name": "stdout",
          "text": [
            "Error occurred!\n"
          ]
        }
      ]
    },
    {
      "cell_type": "code",
      "source": [
        "l1 = [2, 0, \"hello\", None]\n",
        "\n",
        "for e in l1:\n",
        "    try:\n",
        "        result = 5 / int(e)\n",
        "        print(\"N\")\n",
        "    except Exception as ex: # generic exception class\n",
        "        print(\"E\")\n",
        "    except ZeroDivisionError as z:\n",
        "        print(\"Z\")"
      ],
      "metadata": {
        "colab": {
          "base_uri": "https://localhost:8080/"
        },
        "id": "kTYlU1Gas6Sc",
        "outputId": "8bed0ce9-cda7-4c7e-c36c-438a0ad6c879"
      },
      "execution_count": null,
      "outputs": [
        {
          "output_type": "stream",
          "name": "stdout",
          "text": [
            "N\n",
            "E\n",
            "E\n",
            "E\n"
          ]
        }
      ]
    },
    {
      "cell_type": "code",
      "source": [
        "l1 = [2, 0, \"hello\", None]\n",
        "\n",
        "for e in l1:\n",
        "    try:\n",
        "        result = 5 / int(e)\n",
        "        print(\"N\")\n",
        "    except Exception as ex: # generic exception class\n",
        "        print(\"E\")\n",
        "    except ZeroDivisionError as z:\n",
        "        print(\"Z\")"
      ],
      "metadata": {
        "colab": {
          "base_uri": "https://localhost:8080/"
        },
        "id": "gZfFRfzrtUm4",
        "outputId": "07604b9b-9b21-4681-ecc0-c576dda787c6"
      },
      "execution_count": null,
      "outputs": [
        {
          "output_type": "stream",
          "name": "stdout",
          "text": [
            "N\n",
            "E\n",
            "E\n",
            "E\n"
          ]
        }
      ]
    },
    {
      "cell_type": "code",
      "source": [],
      "metadata": {
        "id": "QRwgbt_JtuWg"
      },
      "execution_count": null,
      "outputs": []
    }
  ]
}