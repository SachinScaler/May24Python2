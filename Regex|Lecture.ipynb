{
  "nbformat": 4,
  "nbformat_minor": 0,
  "metadata": {
    "colab": {
      "provenance": [],
      "authorship_tag": "ABX9TyNupI/+2k26XgCOda0n+t4N",
      "include_colab_link": true
    },
    "kernelspec": {
      "name": "python3",
      "display_name": "Python 3"
    },
    "language_info": {
      "name": "python"
    }
  },
  "cells": [
    {
      "cell_type": "markdown",
      "metadata": {
        "id": "view-in-github",
        "colab_type": "text"
      },
      "source": [
        "<a href=\"https://colab.research.google.com/github/SachinScaler/PythonModule2May24/blob/main/Regex%7CLecture.ipynb\" target=\"_parent\"><img src=\"https://colab.research.google.com/assets/colab-badge.svg\" alt=\"Open In Colab\"/></a>"
      ]
    },
    {
      "cell_type": "code",
      "execution_count": 1,
      "metadata": {
        "id": "cFbXm9rvB2NV"
      },
      "outputs": [],
      "source": [
        "import re\n",
        "import pandas as pd\n",
        "import numpy as np"
      ]
    },
    {
      "cell_type": "code",
      "source": [
        "# dataset download\n",
        "!gdown 1sSDV5UspYZL3UUOGuiuxppSGcv1wS9ex"
      ],
      "metadata": {
        "colab": {
          "base_uri": "https://localhost:8080/"
        },
        "id": "xZ6uMHKACleg",
        "outputId": "994b53af-27de-4e1d-afef-753b09115598"
      },
      "execution_count": 2,
      "outputs": [
        {
          "output_type": "stream",
          "name": "stdout",
          "text": [
            "Downloading...\n",
            "From: https://drive.google.com/uc?id=1sSDV5UspYZL3UUOGuiuxppSGcv1wS9ex\n",
            "To: /content/data.txt\n",
            "\r  0% 0.00/9.33k [00:00<?, ?B/s]\r100% 9.33k/9.33k [00:00<00:00, 19.8MB/s]\n"
          ]
        }
      ]
    },
    {
      "cell_type": "code",
      "source": [
        "# let's read data as string\n",
        "data = open(\"data.txt\", \"r\").read()"
      ],
      "metadata": {
        "id": "eR-vI0mBCs_d"
      },
      "execution_count": 4,
      "outputs": []
    },
    {
      "cell_type": "code",
      "source": [
        "print(data[:500]) # display print 500 chars of data"
      ],
      "metadata": {
        "colab": {
          "base_uri": "https://localhost:8080/"
        },
        "id": "gr0lcmUOCw4B",
        "outputId": "a9ff5ce0-1eb1-4c41-ca43-85fc38b67b60"
      },
      "execution_count": 5,
      "outputs": [
        {
          "output_type": "stream",
          "name": "stdout",
          "text": [
            "Dave Martin\n",
            "615-555-7164\n",
            "173 Main St., Springfield RI 55924\n",
            "davemartin@bogusemail.com\n",
            "\n",
            "Charles Harris\n",
            "800-555-5669\n",
            "969 High St., Atlantis VA 34075\n",
            "charlesharris@bogusemail.com\n",
            "\n",
            "Eric Williams\n",
            "560-555-5153\n",
            "806 1st St., Faketown AK 86847\n",
            "laurawilliams@bogusemail.com\n",
            "\n",
            "Corey Jefferson\n",
            "900-555-9340\n",
            "826 Elm St., Epicburg NE 10671\n",
            "coreyjefferson@bogusemail.com\n",
            "\n",
            "Jennifer Martin-White\n",
            "714-555-7405\n",
            "212 Cedar St., Sunnydale CT 74983\n",
            "jenniferwhite@bogusemail.com\n",
            "\n",
            "Erick Davis\n",
            "800-555-6771\n",
            "519 Washington St., \n"
          ]
        }
      ]
    },
    {
      "cell_type": "code",
      "source": [
        "print(len(data))"
      ],
      "metadata": {
        "colab": {
          "base_uri": "https://localhost:8080/"
        },
        "id": "51wx8iKFBNkc",
        "outputId": "db199b12-f1b9-40a2-cc56-e45e338d2de6"
      },
      "execution_count": 6,
      "outputs": [
        {
          "output_type": "stream",
          "name": "stdout",
          "text": [
            "8822\n"
          ]
        }
      ]
    },
    {
      "cell_type": "markdown",
      "source": [
        "### regualar Exp(regex): ^\\w+([\\.-]?\\w+)*@\\w+([|.-]?\\w+)*(\\.\\w{2,3})+$\""
      ],
      "metadata": {
        "id": "FyMKyXwSBjZN"
      }
    },
    {
      "cell_type": "code",
      "source": [
        "import re # importing regex library\n",
        "\n",
        "def is_vemail(s):\n",
        "  email_pattern = \"^\\w+([\\.-]?\\w+)*@\\w+([|.-]?\\w+)*(\\.\\w{2,3})+$\"\n",
        "  res = re.search(email_pattern, s)\n",
        "  # scans through string looking for the first location where pattern is found\n",
        "  if res:\n",
        "    print(s,True)\n",
        "  else:\n",
        "    print(s,False)\n",
        "\n",
        "is_vemail(\"abcd@gmail.\") # not valid\n",
        "is_vemail(\"abcd@gmail.com\")  # valid"
      ],
      "metadata": {
        "colab": {
          "base_uri": "https://localhost:8080/"
        },
        "id": "Z7HxBLChCxwE",
        "outputId": "38bb241b-db13-4aa9-9acf-7ca28bec2e73"
      },
      "execution_count": 8,
      "outputs": [
        {
          "output_type": "stream",
          "name": "stdout",
          "text": [
            "abcd@gmail. False\n",
            "abcd@gmail.com True\n"
          ]
        }
      ]
    },
    {
      "cell_type": "markdown",
      "source": [
        "The string `^\\w+([\\.-]?\\w+)*@\\w+([\\.-]?\\w+)*(\\.\\w{2,3})+$` is called a Regular Expression.\n",
        "\n",
        "1. ^ means start and $ means end\n",
        "\\w+ means alphanumeric, one or more times\n",
        "2. Then the group ([\\.-]?\\w+)*\n",
        "3. Within the group, we have [\\.-]? which means either dot or dash, zero or one time.\n",
        "4. (\\.\\w{2,3})+ - matches . followed by 2 or 3 letter word i.e. com, in etc.\n"
      ],
      "metadata": {
        "id": "JpczsdimrA9-"
      }
    },
    {
      "cell_type": "code",
      "source": [
        "list_em = [\"sachin@scaler.com\",\"sachin@gmail.com\"]\n",
        "\n",
        "for em in list_em:\n",
        "    print(re.search( \"scaler.com\", em ))"
      ],
      "metadata": {
        "colab": {
          "base_uri": "https://localhost:8080/"
        },
        "id": "GJ36dfONDFMv",
        "outputId": "a8afa0d1-b76b-43b2-c761-36c84cd5e243"
      },
      "execution_count": null,
      "outputs": [
        {
          "output_type": "stream",
          "name": "stdout",
          "text": [
            "<re.Match object; span=(7, 17), match='scaler.com'>\n",
            "None\n"
          ]
        }
      ]
    },
    {
      "cell_type": "code",
      "source": [],
      "metadata": {
        "id": "po36n36bQn1Z"
      },
      "execution_count": null,
      "outputs": []
    },
    {
      "cell_type": "code",
      "source": [],
      "metadata": {
        "id": "HDwSGl3CQnyU"
      },
      "execution_count": null,
      "outputs": []
    },
    {
      "cell_type": "code",
      "source": [
        "import re"
      ],
      "metadata": {
        "id": "EL8-6K9FEg8V"
      },
      "execution_count": 9,
      "outputs": []
    },
    {
      "cell_type": "code",
      "source": [
        "data"
      ],
      "metadata": {
        "colab": {
          "base_uri": "https://localhost:8080/",
          "height": 173
        },
        "id": "w0UICXmSQlMJ",
        "outputId": "df04d795-badd-49be-cf53-a9e812335497"
      },
      "execution_count": 10,
      "outputs": [
        {
          "output_type": "execute_result",
          "data": {
            "text/plain": [
              "\"Dave Martin\\n615-555-7164\\n173 Main St., Springfield RI 55924\\ndavemartin@bogusemail.com\\n\\nCharles Harris\\n800-555-5669\\n969 High St., Atlantis VA 34075\\ncharlesharris@bogusemail.com\\n\\nEric Williams\\n560-555-5153\\n806 1st St., Faketown AK 86847\\nlaurawilliams@bogusemail.com\\n\\nCorey Jefferson\\n900-555-9340\\n826 Elm St., Epicburg NE 10671\\ncoreyjefferson@bogusemail.com\\n\\nJennifer Martin-White\\n714-555-7405\\n212 Cedar St., Sunnydale CT 74983\\njenniferwhite@bogusemail.com\\n\\nErick Davis\\n800-555-6771\\n519 Washington St., Olympus TN 32425\\ntomdavis@bogusemail.com\\n\\nNeil Patterson\\n783-555-4799\\n625 Oak St., Dawnstar IL 61914\\nneilpatterson@bogusemail.com\\n\\nLaura Jefferson\\n516-555-4615\\n890 Main St., Pythonville LA 29947\\nlaurajefferson@bogusemail.com\\n\\nMaria Johnson\\n127-555-1867\\n884 High St., Braavos\\u200e ME 43597\\nmariajohnson@bogusemail.com\\n\\nMichael Arnold\\n608-555-4938\\n249 Elm St., Quahog OR 90938\\nmichaelarnold@bogusemail.com\\n\\nMichael Smith\\n568-555-6051\\n619 Park St., Winterfell VA 99000\\nmichaelsmith@bogusemail.com\\n\\nErik Stuart\\n292-555-1875\\n220 Cedar St., Lakeview NY 87282\\nrobertstuart@bogusemail.com\\n\\nLaura Martin\\n900-555-3205\\n391 High St., Smalltown WY 28362\\nlauramartin@bogusemail.com\\n\\nBarbara Martin\\n614-555-1166\\n121 Hill St., Braavos\\u200e UT 92474\\nbarbaramartin@bogusemail.com\\n\\nLinda Jackson\\n530-555-2676\\n433 Elm St., Westworld TX 61967\\nlindajackson@bogusemail.com\\n\\nEric Miller\\n470-555-2750\\n838 Main St., Balmora MT 56526\\nstevemiller@bogusemail.com\\n\\nDave Arnold\\n800-555-6089\\n732 High St., Valyria KY 97152\\ndavearnold@bogusemail.com\\n\\nJennifer Jacobs\\n880-555-8319\\n217 High St., Old-town IA 82767\\njenniferjacobs@bogusemail.com\\n\\nNeil Wilson\\n777-555-8378\\n191 Main St., Mordor IL 72160\\nneilwilson@bogusemail.com\\n\\nKurt Jackson\\n998-555-7385\\n607 Washington St., Blackwater NH 97183\\nkurtjackson@bogusemail.com\\n\\nMary Jacobs\\n800-555-7100\\n478 Oak St., Bedrock IA 58176\\nmaryjacobs@bogusemail.com\\n\\nMichael White\\n903-555-8277\\n906 Elm St., Mordor TX 89212\\nmichaelwhite@bogusemail.com\\n\\nJennifer Jenkins\\n196-555-5674\\n949 Main St., Smalltown SC 96962\\njenniferjenkins@bogusemail.com\\n\\nSam Wright\\n900-555-5118\\n835 Pearl St., Smalltown ND 77737\\nsamwright@bogusemail.com\\n\\nJohn Davis\\n905-555-1630\\n451 Lake St., Bedrock GA 34615\\njohndavis@bogusemail.com\\n\\nEric Davis\\n203-555-3475\\n419 Lake St., Balmora OR 30826\\nneildavis@bogusemail.com\\n\\nLaura Jackson\\n884-555-8444\\n443 Maple St., Quahog MS 29348\\nlaurajackson@bogusemail.com\\n\\nJohn Williams\\n904-555-8559\\n756 Hill St., Valyria KY 94854\\njohnwilliams@bogusemail.com\\n\\nMichael Martin\\n889-555-7393\\n216 High St., Olympus NV 21888\\nmichaelmartin@bogusemail.com\\n\\nMaggie Brown\\n195-555-2405\\n806 Lake St., Lakeview MD 59348\\nmaggiebrown@bogusemail.com\\n\\nErik Wilson\\n321-555-9053\\n354 Hill St., Mordor FL 74122\\nkurtwilson@bogusemail.com\\n\\nElizabeth Arnold\\n133-555-1711\\n805 Maple St., Winterfell NV 99431\\nelizabetharnold@bogusemail.com\\n\\nJane Martin\\n900-555-5428\\n418 Park St., Metropolis ID 16576\\njanemartin@bogusemail.com\\n\\nTravis Johnson\\n760-555-7147\\n749 Washington St., Braavos\\u200e SD 25668\\ntravisjohnson@bogusemail.com\\n\\nLaura Jefferson\\n391-555-6621\\n122 High St., Metropolis ME 29540\\nlaurajefferson@bogusemail.com\\n\\nTom Williams\\n932-555-7724\\n610 High St., Old-town FL 60758\\ntomwilliams@bogusemail.com\\n\\nJennifer Taylor\\n609-555-7908\\n332 Main St., Pythonville OH 78172\\njennifertaylor@bogusemail.com\\n\\nErick Wright\\n800-555-8810\\n858 Hill St., Blackwater NC 79714\\njenniferwright@bogusemail.com\\n\\nSteve Doe\\n149-555-7657\\n441 Elm St., Atlantis MS 87195\\nstevedoe@bogusemail.com\\n\\nKurt Davis\\n130-555-9709\\n404 Oak St., Atlantis ND 85386\\nkurtdavis@bogusemail.com\\n\\nCorey Harris\\n143-555-9295\\n286 Pearl St., Vice City TX 57112\\ncoreyharris@bogusemail.com\\n\\nNicole Taylor\\n903-555-9878\\n465 Hill St., Old-town LA 64102\\nnicoletaylor@bogusemail.com\\n\\nElizabeth Davis\\n574-555-3194\\n151 Lake St., Eerie SD 17880\\nelizabethdavis@bogusemail.com\\n\\nMaggie Jenkins\\n496-555-7533\\n504 Lake St., Gotham PA 46692\\nmaggiejenkins@bogusemail.com\\n\\nLinda Davis\\n210-555-3757\\n201 Pine St., Vice City AR 78455\\nlindadavis@bogusemail.com\\n\\nDave Moore\\n900-555-9598\\n251 Pine St., Old-town OK 29087\\ndavemoore@bogusemail.com\\n\\nLinda Jenkins\\n866-555-9844\\n117 High St., Bedrock NE 11899\\nlindajenkins@bogusemail.com\\n\\nEric White\\n669-555-7159\\n650 Oak St., Smalltown TN 43281\\nsamwhite@bogusemail.com\\n\\nLaura Robinson\\n152-555-7417\\n377 Pine St., Valyria NC 78036\\nlaurarobinson@bogusemail.com\\n\\nCharles Patterson\\n893-555-9832\\n416 Pearl St., Valyria AK 62260\\ncharlespatterson@bogusemail.com\\n\\nJoe Jackson\\n217-555-7123\\n683 Cedar St., South Park KS 66724\\njoejackson@bogusemail.com\\n\\nMichael Johnson\\n786-555-6544\\n288 Hill St., Smalltown AZ 18586\\nmichaeljohnson@bogusemail.com\\n\\nCorey Miller\\n780-555-2574\\n286 High St., Springfield IA 16272\\ncoreymiller@bogusemail.com\\n\\nJames Moore\\n926-555-8735\\n278 Main St., Gotham KY 89569\\njamesmoore@bogusemail.com\\n\\nJennifer Stuart\\n895-555-3539\\n766 Hill St., King's Landing GA 54999\\njenniferstuart@bogusemail.com\\n\\nCharles Martin\\n874-555-3949\\n775 High St., Faketown PA 89260\\ncharlesmartin@bogusemail.com\\n\\nEric Wilks\\n800-555-2420\\n885 Main St., Blackwater OH 61275\\njoewilks@bogusemail.com\\n\\nElizabeth Arnold\\n936-555-6340\\n528 Hill St., Atlantis NH 88289\\nelizabetharnold@bogusemail.com\\n\\nJohn Miller\\n372-555-9809\\n117 Cedar St., Thundera NM 75205\\njohnmiller@bogusemail.com\\n\\nCorey Jackson\\n890-555-5618\\n115 Oak St., Gotham UT 36433\\ncoreyjackson@bogusemail.com\\n\\nSam Thomas\\n670-555-3005\\n743 Lake St., Springfield MS 25473\\nsamthomas@bogusemail.com\\n\\nPatricia Thomas\\n509-555-5997\\n381 Hill St., Blackwater CT 30958\\npatriciathomas@bogusemail.com\\n\\nJennifer Davis\\n721-555-5632\\n125 Main St., Smalltown MT 62155\\njenniferdavis@bogusemail.com\\n\\nPatricia Brown\\n900-555-3567\\n292 Hill St., Gotham WV 57680\\npatriciabrown@bogusemail.com\\n\\nBarbara Williams\\n147-555-6830\\n514 Park St., Balmora NV 55462\\nbarbarawilliams@bogusemail.com\\n\\nJames Taylor\\n582-555-3426\\n776 Hill St., Dawnstar MA 51312\\njamestaylor@bogusemail.com\\n\\nEric Harris\\n400-555-1706\\n421 Elm St., Smalltown NV 72025\\nbarbaraharris@bogusemail.com\\n\\nTravis Anderson\\n525-555-1793\\n937 Cedar St., Thundera WA 78862\\ntravisanderson@bogusemail.com\\n\\nSam Robinson\\n317-555-6700\\n417 Pine St., Lakeview MD 13147\\nsamrobinson@bogusemail.com\\n\\nSteve Robinson\\n974-555-8301\\n478 Park St., Springfield NM 92369\\nsteverobinson@bogusemail.com\\n\\nMary Wilson\\n800-555-3216\\n708 Maple St., Braavos\\u200e UT 29551\\nmarywilson@bogusemail.com\\n\\nSam Wilson\\n746-555-4094\\n557 Pearl St., Westworld KS 23225\\nsamwilson@bogusemail.com\\n\\nCharles Jones\\n922-555-1773\\n855 Hill St., Olympus HI 81427\\ncharlesjones@bogusemail.com\\n\\nLaura Brown\\n711-555-4427\\n980 Maple St., Smalltown MO 96421\\nlaurabrown@bogusemail.com\\n\\nTom Harris\\n355-555-1872\\n676 Hill St., Blackwater AR 96698\\ntomharris@bogusemail.com\\n\\nPatricia Taylor\\n852-555-6521\\n588 Pine St., Olympus FL 98412\\npatriciataylor@bogusemail.com\\n\\nBarbara Williams\\n691-555-5773\\n351 Elm St., Sunnydale GA 26245\\nbarbarawilliams@bogusemail.com\\n\\nMaggie Johnson\\n332-555-5441\\n948 Cedar St., Quahog DE 56449\\nmaggiejohnson@bogusemail.com\\n\\nKurt Miller\\n900-555-7755\\n381 Hill St., Quahog AL 97503\\nkurtmiller@bogusemail.com\\n\\nNeil Stuart\\n379-555-3685\\n496 Cedar St., Sunnydale RI 49113\\nneilstuart@bogusemail.com\\n\\nLinda Patterson\\n127-555-9682\\n736 Cedar St., Lakeview KY 47472\\nlindapatterson@bogusemail.com\\n\\nCharles Davis\\n789-555-7032\\n678 Lake St., Mordor MN 11845\\ncharlesdavis@bogusemail.com\\n\\nJennifer Jefferson\\n783-555-5135\\n289 Park St., Sunnydale WA 74526\\njenniferjefferson@bogusemail.com\\n\\nErick Taylor\\n315-555-6507\\n245 Washington St., Bedrock IL 26941\\ncoreytaylor@bogusemail.com\\n\\nRobert Wilks\\n481-555-5835\\n573 Elm St., Sunnydale IL 47182\\nrobertwilks@bogusemail.com\\n\\nTravis Jackson\\n365-555-8287\\n851 Lake St., Metropolis PA 22772\\ntravisjackson@bogusemail.com\\n\\nTravis Jackson\\n911-555-7535\\n489 Oak St., Atlantis HI 73725\\ntravisjackson@bogusemail.com\\n\\nLaura Wilks\\n681-555-2460\\n371 Pearl St., Smalltown SC 47466\\nlaurawilks@bogusemail.com\\n\\nNeil Arnold\\n274-555-9800\\n504 Oak St., Faketown PA 73860\\nneilarnold@bogusemail.com\\n\\nLinda Johnson\\n800-555-1372\\n667 High St., Balmora IN 82473\\nlindajohnson@bogusemail.com\\n\\nJennifer Wilson\\n300-555-7821\\n266 Pine St., Westworld DC 58720\\njenniferwilson@bogusemail.com\\n\\nNicole White\\n133-555-3889\\n276 High St., Braavos\\u200e IL 57764\\nnicolewhite@bogusemail.com\\n\\nMaria Arnold\\n705-555-6863\\n491 Elm St., Metropolis PA 31836\\nmariaarnold@bogusemail.com\\n\\nJennifer Davis\\n215-555-9449\\n859 Cedar St., Old-town MT 31169\\njenniferdavis@bogusemail.com\\n\\nMary Patterson\\n988-555-6112\\n956 Park St., Valyria CT 81541\\nmarypatterson@bogusemail.com\\n\\nJane Stuart\\n623-555-3006\\n983 Oak St., Old-town RI 15445\\njanestuart@bogusemail.com\\n\\nRobert Davis\\n192-555-4977\\n789 Maple St., Mordor IN 22215\\nrobertdavis@bogusemail.com\\n\\nJames Taylor\\n178-555-4899\\n439 Hill St., Olympus NV 39308\\njamestaylor@bogusemail.com\\n\\nEric Stuart\\n952-555-3089\\n777 High St., King's Landing AZ 16547\\njohnstuart@bogusemail.com\\n\\nCharles Miller\\n900-555-6426\\n207 Washington St., Blackwater MA 24886\\ncharlesmiller@bogusemail.com\""
            ],
            "application/vnd.google.colaboratory.intrinsic+json": {
              "type": "string"
            }
          },
          "metadata": {},
          "execution_count": 10
        }
      ]
    },
    {
      "cell_type": "code",
      "source": [
        "pattern = \"\\d{3}-\\d{3}-\\d{4}\"\n",
        "\n",
        "print(re.match(pattern, data))"
      ],
      "metadata": {
        "colab": {
          "base_uri": "https://localhost:8080/"
        },
        "id": "tXSAsa5ZR6AI",
        "outputId": "e2769c31-3252-48e9-c347-b6b69f74fc7f"
      },
      "execution_count": 11,
      "outputs": [
        {
          "output_type": "stream",
          "name": "stdout",
          "text": [
            "None\n"
          ]
        }
      ]
    },
    {
      "cell_type": "code",
      "source": [
        "print(re.search(pattern, data))"
      ],
      "metadata": {
        "colab": {
          "base_uri": "https://localhost:8080/"
        },
        "id": "d9y6ijnfSEG4",
        "outputId": "8ddfed09-57b1-403e-8b3d-9757e566d6ff"
      },
      "execution_count": 12,
      "outputs": [
        {
          "output_type": "stream",
          "name": "stdout",
          "text": [
            "<re.Match object; span=(12, 24), match='615-555-7164'>\n"
          ]
        }
      ]
    },
    {
      "cell_type": "code",
      "source": [
        "data[12:24]"
      ],
      "metadata": {
        "colab": {
          "base_uri": "https://localhost:8080/",
          "height": 56
        },
        "id": "GAKjX14kSSe3",
        "outputId": "c1e8a00c-3f05-46e0-9454-cc6fbeada934"
      },
      "execution_count": 13,
      "outputs": [
        {
          "output_type": "execute_result",
          "data": {
            "text/plain": [
              "'615-555-7164'"
            ],
            "application/vnd.google.colaboratory.intrinsic+json": {
              "type": "string"
            }
          },
          "metadata": {},
          "execution_count": 13
        }
      ]
    },
    {
      "cell_type": "code",
      "source": [
        "pattern = \"\\d{4}-\\d{3}-\\d{4}\"\n",
        "print(re.search(pattern, data))"
      ],
      "metadata": {
        "colab": {
          "base_uri": "https://localhost:8080/"
        },
        "id": "nmXx1r2MSc0Z",
        "outputId": "2532e7ab-0615-4e6c-ebb1-2297e14b2004"
      },
      "execution_count": 14,
      "outputs": [
        {
          "output_type": "stream",
          "name": "stdout",
          "text": [
            "None\n"
          ]
        }
      ]
    },
    {
      "cell_type": "code",
      "source": [
        "pattern = \"\\d{3}-\\d{3}-\\d{4}\"\n",
        "\n",
        "print(re.findall(pattern, data))"
      ],
      "metadata": {
        "colab": {
          "base_uri": "https://localhost:8080/"
        },
        "id": "v_a3zUwXSl-t",
        "outputId": "1cf57b1a-637e-424b-c187-b51cffbfafc9"
      },
      "execution_count": 15,
      "outputs": [
        {
          "output_type": "stream",
          "name": "stdout",
          "text": [
            "['615-555-7164', '800-555-5669', '560-555-5153', '900-555-9340', '714-555-7405', '800-555-6771', '783-555-4799', '516-555-4615', '127-555-1867', '608-555-4938', '568-555-6051', '292-555-1875', '900-555-3205', '614-555-1166', '530-555-2676', '470-555-2750', '800-555-6089', '880-555-8319', '777-555-8378', '998-555-7385', '800-555-7100', '903-555-8277', '196-555-5674', '900-555-5118', '905-555-1630', '203-555-3475', '884-555-8444', '904-555-8559', '889-555-7393', '195-555-2405', '321-555-9053', '133-555-1711', '900-555-5428', '760-555-7147', '391-555-6621', '932-555-7724', '609-555-7908', '800-555-8810', '149-555-7657', '130-555-9709', '143-555-9295', '903-555-9878', '574-555-3194', '496-555-7533', '210-555-3757', '900-555-9598', '866-555-9844', '669-555-7159', '152-555-7417', '893-555-9832', '217-555-7123', '786-555-6544', '780-555-2574', '926-555-8735', '895-555-3539', '874-555-3949', '800-555-2420', '936-555-6340', '372-555-9809', '890-555-5618', '670-555-3005', '509-555-5997', '721-555-5632', '900-555-3567', '147-555-6830', '582-555-3426', '400-555-1706', '525-555-1793', '317-555-6700', '974-555-8301', '800-555-3216', '746-555-4094', '922-555-1773', '711-555-4427', '355-555-1872', '852-555-6521', '691-555-5773', '332-555-5441', '900-555-7755', '379-555-3685', '127-555-9682', '789-555-7032', '783-555-5135', '315-555-6507', '481-555-5835', '365-555-8287', '911-555-7535', '681-555-2460', '274-555-9800', '800-555-1372', '300-555-7821', '133-555-3889', '705-555-6863', '215-555-9449', '988-555-6112', '623-555-3006', '192-555-4977', '178-555-4899', '952-555-3089', '900-555-6426']\n"
          ]
        }
      ]
    },
    {
      "cell_type": "code",
      "source": [
        "pattern = \"\\d{3}-\\d{3}-\\d{4}\"\n",
        "\n",
        "all_nums = (re.finditer(pattern, data))\n",
        "print(all_nums)"
      ],
      "metadata": {
        "colab": {
          "base_uri": "https://localhost:8080/"
        },
        "id": "ACgTxVZfSx2q",
        "outputId": "349c1e1b-c2f6-4207-b4a8-bef4742dbc95"
      },
      "execution_count": 16,
      "outputs": [
        {
          "output_type": "stream",
          "name": "stdout",
          "text": [
            "<callable_iterator object at 0x780ec99aa470>\n"
          ]
        }
      ]
    },
    {
      "cell_type": "code",
      "source": [
        "for num in all_nums:\n",
        "    print(num)"
      ],
      "metadata": {
        "colab": {
          "base_uri": "https://localhost:8080/"
        },
        "id": "ZEyIj_4XS-Ab",
        "outputId": "6062b326-d30f-40e5-c140-a05dcf221997"
      },
      "execution_count": 17,
      "outputs": [
        {
          "output_type": "stream",
          "name": "stdout",
          "text": [
            "<re.Match object; span=(12, 24), match='615-555-7164'>\n",
            "<re.Match object; span=(102, 114), match='800-555-5669'>\n",
            "<re.Match object; span=(191, 203), match='560-555-5153'>\n",
            "<re.Match object; span=(281, 293), match='900-555-9340'>\n",
            "<re.Match object; span=(378, 390), match='714-555-7405'>\n",
            "<re.Match object; span=(467, 479), match='800-555-6771'>\n",
            "<re.Match object; span=(557, 569), match='783-555-4799'>\n",
            "<re.Match object; span=(647, 659), match='516-555-4615'>\n",
            "<re.Match object; span=(740, 752), match='127-555-1867'>\n",
            "<re.Match object; span=(829, 841), match='608-555-4938'>\n",
            "<re.Match object; span=(915, 927), match='568-555-6051'>\n",
            "<re.Match object; span=(1003, 1015), match='292-555-1875'>\n",
            "<re.Match object; span=(1091, 1103), match='900-555-3205'>\n",
            "<re.Match object; span=(1180, 1192), match='614-555-1166'>\n",
            "<re.Match object; span=(1269, 1281), match='530-555-2676'>\n",
            "<re.Match object; span=(1355, 1367), match='470-555-2750'>\n",
            "<re.Match object; span=(1439, 1451), match='800-555-6089'>\n",
            "<re.Match object; span=(1526, 1538), match='880-555-8319'>\n",
            "<re.Match object; span=(1614, 1626), match='777-555-8378'>\n",
            "<re.Match object; span=(1697, 1709), match='998-555-7385'>\n",
            "<re.Match object; span=(1790, 1802), match='800-555-7100'>\n",
            "<re.Match object; span=(1874, 1886), match='903-555-8277'>\n",
            "<re.Match object; span=(1962, 1974), match='196-555-5674'>\n",
            "<re.Match object; span=(2051, 2063), match='900-555-5118'>\n",
            "<re.Match object; span=(2135, 2147), match='905-555-1630'>\n",
            "<re.Match object; span=(2216, 2228), match='203-555-3475'>\n",
            "<re.Match object; span=(2300, 2312), match='884-555-8444'>\n",
            "<re.Match object; span=(2387, 2399), match='904-555-8559'>\n",
            "<re.Match object; span=(2475, 2487), match='889-555-7393'>\n",
            "<re.Match object; span=(2562, 2574), match='195-555-2405'>\n",
            "<re.Match object; span=(2647, 2659), match='321-555-9053'>\n",
            "<re.Match object; span=(2734, 2746), match='133-555-1711'>\n",
            "<re.Match object; span=(2826, 2838), match='900-555-5428'>\n",
            "<re.Match object; span=(2915, 2927), match='760-555-7147'>\n",
            "<re.Match object; span=(3012, 3024), match='391-555-6621'>\n",
            "<re.Match object; span=(3103, 3115), match='932-555-7724'>\n",
            "<re.Match object; span=(3192, 3204), match='609-555-7908'>\n",
            "<re.Match object; span=(3284, 3296), match='800-555-8810'>\n",
            "<re.Match object; span=(3372, 3384), match='149-555-7657'>\n",
            "<re.Match object; span=(3452, 3464), match='130-555-9709'>\n",
            "<re.Match object; span=(3535, 3547), match='143-555-9295'>\n",
            "<re.Match object; span=(3624, 3636), match='903-555-9878'>\n",
            "<re.Match object; span=(3714, 3726), match='574-555-3194'>\n",
            "<re.Match object; span=(3802, 3814), match='496-555-7533'>\n",
            "<re.Match object; span=(3887, 3899), match='210-555-3757'>\n",
            "<re.Match object; span=(3971, 3983), match='900-555-9598'>\n",
            "<re.Match object; span=(4056, 4068), match='866-555-9844'>\n",
            "<re.Match object; span=(4140, 4152), match='669-555-7159'>\n",
            "<re.Match object; span=(4225, 4237), match='152-555-7417'>\n",
            "<re.Match object; span=(4317, 4329), match='893-555-9832'>\n",
            "<re.Match object; span=(4407, 4419), match='217-555-7123'>\n",
            "<re.Match object; span=(4498, 4510), match='786-555-6544'>\n",
            "<re.Match object; span=(4588, 4600), match='780-555-2574'>\n",
            "<re.Match object; span=(4676, 4688), match='926-555-8735'>\n",
            "<re.Match object; span=(4762, 4774), match='895-555-3539'>\n",
            "<re.Match object; span=(4859, 4871), match='874-555-3949'>\n",
            "<re.Match object; span=(4945, 4957), match='800-555-2420'>\n",
            "<re.Match object; span=(5034, 5046), match='936-555-6340'>\n",
            "<re.Match object; span=(5123, 5135), match='372-555-9809'>\n",
            "<re.Match object; span=(5210, 5222), match='890-555-5618'>\n",
            "<re.Match object; span=(5292, 5304), match='670-555-3005'>\n",
            "<re.Match object; span=(5382, 5394), match='509-555-5997'>\n",
            "<re.Match object; span=(5475, 5487), match='721-555-5632'>\n",
            "<re.Match object; span=(5566, 5578), match='900-555-3567'>\n",
            "<re.Match object; span=(5656, 5668), match='147-555-6830'>\n",
            "<re.Match object; span=(5745, 5757), match='582-555-3426'>\n",
            "<re.Match object; span=(5830, 5842), match='400-555-1706'>\n",
            "<re.Match object; span=(5921, 5933), match='525-555-1793'>\n",
            "<re.Match object; span=(6011, 6023), match='317-555-6700'>\n",
            "<re.Match object; span=(6099, 6111), match='974-555-8301'>\n",
            "<re.Match object; span=(6189, 6201), match='800-555-3216'>\n",
            "<re.Match object; span=(6273, 6285), match='746-555-4094'>\n",
            "<re.Match object; span=(6360, 6372), match='922-555-1773'>\n",
            "<re.Match object; span=(6445, 6457), match='711-555-4427'>\n",
            "<re.Match object; span=(6530, 6542), match='355-555-1872'>\n",
            "<re.Match object; span=(6619, 6631), match='852-555-6521'>\n",
            "<re.Match object; span=(6711, 6723), match='691-555-5773'>\n",
            "<re.Match object; span=(6803, 6815), match='332-555-5441'>\n",
            "<re.Match object; span=(6889, 6901), match='900-555-7755'>\n",
            "<re.Match object; span=(6971, 6983), match='379-555-3685'>\n",
            "<re.Match object; span=(7061, 7073), match='127-555-9682'>\n",
            "<re.Match object; span=(7152, 7164), match='789-555-7032'>\n",
            "<re.Match object; span=(7243, 7255), match='783-555-5135'>\n",
            "<re.Match object; span=(7336, 7348), match='315-555-6507'>\n",
            "<re.Match object; span=(7427, 7439), match='481-555-5835'>\n",
            "<re.Match object; span=(7515, 7527), match='365-555-8287'>\n",
            "<re.Match object; span=(7607, 7619), match='911-555-7535'>\n",
            "<re.Match object; span=(7693, 7705), match='681-555-2460'>\n",
            "<re.Match object; span=(7779, 7791), match='274-555-9800'>\n",
            "<re.Match object; span=(7864, 7876), match='800-555-1372'>\n",
            "<re.Match object; span=(7953, 7965), match='300-555-7821'>\n",
            "<re.Match object; span=(8043, 8055), match='133-555-3889'>\n",
            "<re.Match object; span=(8129, 8141), match='705-555-6863'>\n",
            "<re.Match object; span=(8218, 8230), match='215-555-9449'>\n",
            "<re.Match object; span=(8309, 8321), match='988-555-6112'>\n",
            "<re.Match object; span=(8395, 8407), match='623-555-3006'>\n",
            "<re.Match object; span=(8479, 8491), match='192-555-4977'>\n",
            "<re.Match object; span=(8564, 8576), match='178-555-4899'>\n",
            "<re.Match object; span=(8648, 8660), match='952-555-3089'>\n",
            "<re.Match object; span=(8741, 8753), match='900-555-6426'>\n"
          ]
        }
      ]
    },
    {
      "cell_type": "code",
      "source": [
        "pattern = \"\\d{3}-\\d{3}-\\d{4}\"\n",
        "\n",
        "all_nums = (re.finditer(pattern, data))\n",
        "i = 0\n",
        "for num in all_nums:\n",
        "    if i==5:\n",
        "        break\n",
        "    print(num)\n",
        "    i+=1"
      ],
      "metadata": {
        "colab": {
          "base_uri": "https://localhost:8080/"
        },
        "id": "W5w-TZcgTK3V",
        "outputId": "498734f7-ad96-4d25-f428-d37c25a52065"
      },
      "execution_count": 18,
      "outputs": [
        {
          "output_type": "stream",
          "name": "stdout",
          "text": [
            "<re.Match object; span=(12, 24), match='615-555-7164'>\n",
            "<re.Match object; span=(102, 114), match='800-555-5669'>\n",
            "<re.Match object; span=(191, 203), match='560-555-5153'>\n",
            "<re.Match object; span=(281, 293), match='900-555-9340'>\n",
            "<re.Match object; span=(378, 390), match='714-555-7405'>\n"
          ]
        }
      ]
    },
    {
      "cell_type": "code",
      "source": [
        "pattern = \"\\d{3}-\\d{3}-\\d{4}\"\n",
        "\n",
        "all_nums = (re.finditer(pattern, data))\n",
        "i = 0\n",
        "for num in all_nums:\n",
        "    if i==5:\n",
        "        break\n",
        "    print(f\"Number: {num.group()} StartInd: {num.start()} end_ind: {num.end()}\")\n",
        "    i+=1"
      ],
      "metadata": {
        "colab": {
          "base_uri": "https://localhost:8080/"
        },
        "id": "2R1NiSomTHCP",
        "outputId": "91c4c510-e143-4e5a-ff5d-413f9ad41d68"
      },
      "execution_count": 19,
      "outputs": [
        {
          "output_type": "stream",
          "name": "stdout",
          "text": [
            "Number: 615-555-7164 StartInd: 12 end_ind: 24\n",
            "Number: 800-555-5669 StartInd: 102 end_ind: 114\n",
            "Number: 560-555-5153 StartInd: 191 end_ind: 203\n",
            "Number: 900-555-9340 StartInd: 281 end_ind: 293\n",
            "Number: 714-555-7405 StartInd: 378 end_ind: 390\n"
          ]
        }
      ]
    },
    {
      "cell_type": "code",
      "source": [
        "out = (re.search(pattern, data))\n",
        "out"
      ],
      "metadata": {
        "colab": {
          "base_uri": "https://localhost:8080/"
        },
        "id": "giTPQKFFT0kq",
        "outputId": "9e709de8-45ca-43d8-b923-830c1465dd49"
      },
      "execution_count": 21,
      "outputs": [
        {
          "output_type": "execute_result",
          "data": {
            "text/plain": [
              "<re.Match object; span=(12, 24), match='615-555-7164'>"
            ]
          },
          "metadata": {},
          "execution_count": 21
        }
      ]
    },
    {
      "cell_type": "code",
      "source": [
        "out.start(), out.end()"
      ],
      "metadata": {
        "colab": {
          "base_uri": "https://localhost:8080/"
        },
        "id": "Q08S2P3VT83o",
        "outputId": "6ab50f47-711a-4284-b948-fa8a1a40b084"
      },
      "execution_count": 22,
      "outputs": [
        {
          "output_type": "execute_result",
          "data": {
            "text/plain": [
              "(12, 24)"
            ]
          },
          "metadata": {},
          "execution_count": 22
        }
      ]
    },
    {
      "cell_type": "code",
      "source": [
        "print(data[:100])"
      ],
      "metadata": {
        "colab": {
          "base_uri": "https://localhost:8080/"
        },
        "id": "Tibuab4jUAUv",
        "outputId": "de991d3a-7f8f-4f2d-df06-79ed6d835c34"
      },
      "execution_count": 25,
      "outputs": [
        {
          "output_type": "stream",
          "name": "stdout",
          "text": [
            "Dave Martin\n",
            "615-555-7164\n",
            "173 Main St., Springfield RI 55924\n",
            "davemartin@bogusemail.com\n",
            "\n",
            "Charles Harri\n"
          ]
        }
      ]
    },
    {
      "cell_type": "markdown",
      "source": [
        "string@string.3chars"
      ],
      "metadata": {
        "id": "UYEBt1IbUUp5"
      }
    },
    {
      "cell_type": "code",
      "source": [
        "pattern = \"\\w+@\\w+\\.\\w{2,3}\"\n",
        "\n",
        "all_nums = (re.finditer(pattern, data))\n",
        "i = 0\n",
        "for num in all_nums:\n",
        "    if i==5:\n",
        "        break\n",
        "    print(f\"Number: {num.group()} StartInd: {num.start()} end_ind: {num.end()}\")\n",
        "    i+=1"
      ],
      "metadata": {
        "colab": {
          "base_uri": "https://localhost:8080/"
        },
        "id": "UfhTOdnXUKBL",
        "outputId": "ec67786f-f96f-4f38-b679-553c53c3dfaf"
      },
      "execution_count": 27,
      "outputs": [
        {
          "output_type": "stream",
          "name": "stdout",
          "text": [
            "Number: davemartin@bogusemail.com StartInd: 60 end_ind: 85\n",
            "Number: charlesharris@bogusemail.com StartInd: 147 end_ind: 175\n",
            "Number: laurawilliams@bogusemail.com StartInd: 235 end_ind: 263\n",
            "Number: coreyjefferson@bogusemail.com StartInd: 325 end_ind: 354\n",
            "Number: jenniferwhite@bogusemail.com StartInd: 425 end_ind: 453\n"
          ]
        }
      ]
    },
    {
      "cell_type": "markdown",
      "source": [
        "### Additional Homework:\n",
        "\n",
        "Extracting name -\n",
        "Names follow the pattern: String1 String2\n",
        "\n",
        "- First alphabet of string 1 starts with upper case followed by lower case alphabets.\n",
        "- Followed by a whitespace character.\n",
        "- First alphabet of string 2 also starts with upper case followed by lower case alphabets."
      ],
      "metadata": {
        "id": "SQVN-y4RU7k_"
      }
    },
    {
      "cell_type": "code",
      "source": [
        "re.match('ab*', 'ba')"
      ],
      "metadata": {
        "id": "QXHrxajLUuM2"
      },
      "execution_count": 31,
      "outputs": []
    },
    {
      "cell_type": "code",
      "source": [
        "re.search('aaaa', 'alohaaaa')"
      ],
      "metadata": {
        "colab": {
          "base_uri": "https://localhost:8080/"
        },
        "id": "frHRrd6gVHme",
        "outputId": "25b8a4b6-f271-40fa-e1c1-61439f7f1a68"
      },
      "execution_count": 33,
      "outputs": [
        {
          "output_type": "execute_result",
          "data": {
            "text/plain": [
              "<re.Match object; span=(4, 8), match='aaaa'>"
            ]
          },
          "metadata": {},
          "execution_count": 33
        }
      ]
    },
    {
      "cell_type": "code",
      "source": [
        "x='[0-9]+' # 1 or more digits\n",
        "re.findall(x, '7 apples and 4 mangoes oranges 23')\n"
      ],
      "metadata": {
        "colab": {
          "base_uri": "https://localhost:8080/"
        },
        "id": "1eySD_FHVhKj",
        "outputId": "d66cd959-de4d-4e16-cb9f-499d78be1d36"
      },
      "execution_count": 35,
      "outputs": [
        {
          "output_type": "execute_result",
          "data": {
            "text/plain": [
              "['7', '4', '23']"
            ]
          },
          "metadata": {},
          "execution_count": 35
        }
      ]
    },
    {
      "cell_type": "code",
      "source": [
        "print(re.search('a+', 'aaaAAA'))\n"
      ],
      "metadata": {
        "colab": {
          "base_uri": "https://localhost:8080/"
        },
        "id": "pas5uZqtWOuX",
        "outputId": "d3b42abd-cbde-4271-a6f4-e53939513030"
      },
      "execution_count": 36,
      "outputs": [
        {
          "output_type": "stream",
          "name": "stdout",
          "text": [
            "<re.Match object; span=(0, 3), match='aaa'>\n"
          ]
        }
      ]
    },
    {
      "cell_type": "code",
      "source": [
        "print(re.search('A+', 'aaaAAA'))"
      ],
      "metadata": {
        "colab": {
          "base_uri": "https://localhost:8080/"
        },
        "id": "Gb9rxQ25XIr2",
        "outputId": "be7d33a9-93ed-44a1-c172-5f292395e8eb"
      },
      "execution_count": 37,
      "outputs": [
        {
          "output_type": "stream",
          "name": "stdout",
          "text": [
            "<re.Match object; span=(3, 6), match='AAA'>\n"
          ]
        }
      ]
    },
    {
      "cell_type": "code",
      "source": [
        "print(re.search('[aA]+', 'aaaAAA'))"
      ],
      "metadata": {
        "colab": {
          "base_uri": "https://localhost:8080/"
        },
        "id": "YbRjWQE0XL66",
        "outputId": "effb7745-83c6-43b3-d237-67c2c0951a7c"
      },
      "execution_count": 38,
      "outputs": [
        {
          "output_type": "stream",
          "name": "stdout",
          "text": [
            "<re.Match object; span=(0, 6), match='aaaAAA'>\n"
          ]
        }
      ]
    },
    {
      "cell_type": "code",
      "source": [
        "print(re.search('a+', 'aaaAAA', re.I))\n"
      ],
      "metadata": {
        "colab": {
          "base_uri": "https://localhost:8080/"
        },
        "id": "4foZs_j9XOKb",
        "outputId": "0cebfd69-67d9-4c88-9717-3aee81c68334"
      },
      "execution_count": 39,
      "outputs": [
        {
          "output_type": "stream",
          "name": "stdout",
          "text": [
            "<re.Match object; span=(0, 6), match='aaaAAA'>\n"
          ]
        }
      ]
    },
    {
      "cell_type": "code",
      "source": [
        "print(re.search('a+', 'aaaAAA', re.IGNORECASE))"
      ],
      "metadata": {
        "colab": {
          "base_uri": "https://localhost:8080/"
        },
        "id": "6ABpCA9ZXSSE",
        "outputId": "944c129b-5733-4ce9-cff1-bf798cb6eef4"
      },
      "execution_count": 40,
      "outputs": [
        {
          "output_type": "stream",
          "name": "stdout",
          "text": [
            "<re.Match object; span=(0, 6), match='aaaAAA'>\n"
          ]
        }
      ]
    },
    {
      "cell_type": "markdown",
      "source": [
        "### Verbose"
      ],
      "metadata": {
        "id": "xN6iXhZqXa_t"
      }
    },
    {
      "cell_type": "code",
      "source": [
        "regex = '^\\w+([\\.-]?\\w+)*@\\w+([\\.-]?\\w+)*(\\.\\w{2,3})+$' # highly non-readable regex\n"
      ],
      "metadata": {
        "id": "AWSRbv9JXXZc"
      },
      "execution_count": 41,
      "outputs": []
    },
    {
      "cell_type": "code",
      "source": [
        "regex_verbose = re.compile(r\"\"\"   # Very readable and easy to understand.\n",
        "                ^\\w+([\\.-]?\\w+)*  # Start, \\w+ and followed one of . or -\n",
        "                @                 # Single @ sign\n",
        "                \\w+([|.-]?\\w+)*   # Domain name\n",
        "                (\\.\\w{2,3})+$     # .com, .ac.in etc.\n",
        "                \"\"\", re.VERBOSE)"
      ],
      "metadata": {
        "id": "Sf8GanpsXgeD"
      },
      "execution_count": 42,
      "outputs": []
    },
    {
      "cell_type": "code",
      "source": [
        "regex_verbose = re.compile(r\"\"\"   # Very readable and easy to understand.\n",
        "                ^\\w+([\\.-]?\\w+)*  # Start, \\w+ and followed one of . or -\n",
        "                @                 # Single @ sign\n",
        "                \\w+([|.-]?\\w+)*   # Domain name\n",
        "                (\\.\\w{2,3})+$     # .com, .ac.in etc.\n",
        "                \"\"\", re.VERBOSE|re.IGNORECASE)"
      ],
      "metadata": {
        "id": "PMpwps5lYCKq"
      },
      "execution_count": 43,
      "outputs": []
    },
    {
      "cell_type": "markdown",
      "source": [],
      "metadata": {
        "id": "OAh0HW7aYZSl"
      }
    },
    {
      "cell_type": "code",
      "source": [
        "pattern = \"\\d{3}-\\d{3}-\\d{4}\"\n",
        "numbers = re.findall(pattern,data)\n",
        "print(numbers)"
      ],
      "metadata": {
        "colab": {
          "base_uri": "https://localhost:8080/"
        },
        "id": "aHFV8vZeYUZ4",
        "outputId": "ecc72240-a4ba-4a56-9e75-670e4a3a35ff"
      },
      "execution_count": 44,
      "outputs": [
        {
          "output_type": "stream",
          "name": "stdout",
          "text": [
            "['615-555-7164', '800-555-5669', '560-555-5153', '900-555-9340', '714-555-7405', '800-555-6771', '783-555-4799', '516-555-4615', '127-555-1867', '608-555-4938', '568-555-6051', '292-555-1875', '900-555-3205', '614-555-1166', '530-555-2676', '470-555-2750', '800-555-6089', '880-555-8319', '777-555-8378', '998-555-7385', '800-555-7100', '903-555-8277', '196-555-5674', '900-555-5118', '905-555-1630', '203-555-3475', '884-555-8444', '904-555-8559', '889-555-7393', '195-555-2405', '321-555-9053', '133-555-1711', '900-555-5428', '760-555-7147', '391-555-6621', '932-555-7724', '609-555-7908', '800-555-8810', '149-555-7657', '130-555-9709', '143-555-9295', '903-555-9878', '574-555-3194', '496-555-7533', '210-555-3757', '900-555-9598', '866-555-9844', '669-555-7159', '152-555-7417', '893-555-9832', '217-555-7123', '786-555-6544', '780-555-2574', '926-555-8735', '895-555-3539', '874-555-3949', '800-555-2420', '936-555-6340', '372-555-9809', '890-555-5618', '670-555-3005', '509-555-5997', '721-555-5632', '900-555-3567', '147-555-6830', '582-555-3426', '400-555-1706', '525-555-1793', '317-555-6700', '974-555-8301', '800-555-3216', '746-555-4094', '922-555-1773', '711-555-4427', '355-555-1872', '852-555-6521', '691-555-5773', '332-555-5441', '900-555-7755', '379-555-3685', '127-555-9682', '789-555-7032', '783-555-5135', '315-555-6507', '481-555-5835', '365-555-8287', '911-555-7535', '681-555-2460', '274-555-9800', '800-555-1372', '300-555-7821', '133-555-3889', '705-555-6863', '215-555-9449', '988-555-6112', '623-555-3006', '192-555-4977', '178-555-4899', '952-555-3089', '900-555-6426']\n"
          ]
        }
      ]
    },
    {
      "cell_type": "markdown",
      "source": [
        "Masking PII(personally idenifiable information)"
      ],
      "metadata": {
        "id": "GwOSVg1HYcIX"
      }
    },
    {
      "cell_type": "code",
      "source": [
        "def mask_phone(p):\n",
        " if len(p) == 12:\n",
        "  return f\"###-###-{p[-3:]}\"\n",
        "\n",
        "print([mask_phone(n) for n in numbers])"
      ],
      "metadata": {
        "colab": {
          "base_uri": "https://localhost:8080/"
        },
        "id": "qZO_3Q2QYbLw",
        "outputId": "513a3a41-3d9a-4ac8-9581-7bb743a1ade2"
      },
      "execution_count": 45,
      "outputs": [
        {
          "output_type": "stream",
          "name": "stdout",
          "text": [
            "['###-###-164', '###-###-669', '###-###-153', '###-###-340', '###-###-405', '###-###-771', '###-###-799', '###-###-615', '###-###-867', '###-###-938', '###-###-051', '###-###-875', '###-###-205', '###-###-166', '###-###-676', '###-###-750', '###-###-089', '###-###-319', '###-###-378', '###-###-385', '###-###-100', '###-###-277', '###-###-674', '###-###-118', '###-###-630', '###-###-475', '###-###-444', '###-###-559', '###-###-393', '###-###-405', '###-###-053', '###-###-711', '###-###-428', '###-###-147', '###-###-621', '###-###-724', '###-###-908', '###-###-810', '###-###-657', '###-###-709', '###-###-295', '###-###-878', '###-###-194', '###-###-533', '###-###-757', '###-###-598', '###-###-844', '###-###-159', '###-###-417', '###-###-832', '###-###-123', '###-###-544', '###-###-574', '###-###-735', '###-###-539', '###-###-949', '###-###-420', '###-###-340', '###-###-809', '###-###-618', '###-###-005', '###-###-997', '###-###-632', '###-###-567', '###-###-830', '###-###-426', '###-###-706', '###-###-793', '###-###-700', '###-###-301', '###-###-216', '###-###-094', '###-###-773', '###-###-427', '###-###-872', '###-###-521', '###-###-773', '###-###-441', '###-###-755', '###-###-685', '###-###-682', '###-###-032', '###-###-135', '###-###-507', '###-###-835', '###-###-287', '###-###-535', '###-###-460', '###-###-800', '###-###-372', '###-###-821', '###-###-889', '###-###-863', '###-###-449', '###-###-112', '###-###-006', '###-###-977', '###-###-899', '###-###-089', '###-###-426']\n"
          ]
        }
      ]
    },
    {
      "cell_type": "markdown",
      "source": [
        "Additional: Mask all the email addreses as:  \"a*******b@domian.com\""
      ],
      "metadata": {
        "id": "28iljvycYuuV"
      }
    },
    {
      "cell_type": "code",
      "source": [
        "^s\\w*tZ&$ #/s\n",
        "\"ac/s\""
      ],
      "metadata": {
        "id": "NXJW_TlIYpPA"
      },
      "execution_count": null,
      "outputs": []
    },
    {
      "cell_type": "markdown",
      "source": [
        "for string manipulation:\n",
        "- sub:\n",
        "- split:"
      ],
      "metadata": {
        "id": "KyXoln02aF6H"
      }
    },
    {
      "cell_type": "code",
      "source": [
        "re.sub(\"ab\",\"ba\",\"ababc\")"
      ],
      "metadata": {
        "colab": {
          "base_uri": "https://localhost:8080/",
          "height": 56
        },
        "id": "L8f5JheGaQpY",
        "outputId": "16ee7a6d-c80a-4a15-b02f-ca10c0a04f05"
      },
      "execution_count": 46,
      "outputs": [
        {
          "output_type": "execute_result",
          "data": {
            "text/plain": [
              "'babac'"
            ],
            "application/vnd.google.colaboratory.intrinsic+json": {
              "type": "string"
            }
          },
          "metadata": {},
          "execution_count": 46
        }
      ]
    },
    {
      "cell_type": "code",
      "source": [
        "re.split(\"ab\",\"ababc\")"
      ],
      "metadata": {
        "colab": {
          "base_uri": "https://localhost:8080/"
        },
        "id": "zjiPl_cKbT3x",
        "outputId": "3dbcfc94-6afd-4835-d5ff-9fc8c831596c"
      },
      "execution_count": 47,
      "outputs": [
        {
          "output_type": "execute_result",
          "data": {
            "text/plain": [
              "['', '', 'c']"
            ]
          },
          "metadata": {},
          "execution_count": 47
        }
      ]
    },
    {
      "cell_type": "code",
      "source": [],
      "metadata": {
        "id": "8RSIEvdsbWwk"
      },
      "execution_count": null,
      "outputs": []
    }
  ]
}