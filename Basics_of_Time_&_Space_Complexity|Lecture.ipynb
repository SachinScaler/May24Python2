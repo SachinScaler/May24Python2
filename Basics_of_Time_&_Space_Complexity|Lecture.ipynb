{
  "nbformat": 4,
  "nbformat_minor": 0,
  "metadata": {
    "colab": {
      "provenance": [],
      "authorship_tag": "ABX9TyNfQKbDeX0Qel9tIexg4b5d",
      "include_colab_link": true
    },
    "kernelspec": {
      "name": "python3",
      "display_name": "Python 3"
    },
    "language_info": {
      "name": "python"
    }
  },
  "cells": [
    {
      "cell_type": "markdown",
      "metadata": {
        "id": "view-in-github",
        "colab_type": "text"
      },
      "source": [
        "<a href=\"https://colab.research.google.com/github/SachinScaler/PythonModule2May24/blob/main/Basics_of_Time_%26_Space_Complexity%7CLecture.ipynb\" target=\"_parent\"><img src=\"https://colab.research.google.com/assets/colab-badge.svg\" alt=\"Open In Colab\"/></a>"
      ]
    },
    {
      "cell_type": "markdown",
      "source": [
        "### Exploration:\n",
        "- Binary Search for sorted arrays/list"
      ],
      "metadata": {
        "id": "kvvNRhNYu8jc"
      }
    },
    {
      "cell_type": "code",
      "execution_count": 1,
      "metadata": {
        "id": "xPA5TKuyWc4a"
      },
      "outputs": [],
      "source": [
        "def fun(N):\n",
        "  s = 0\n",
        "  for i in range(1, N+1):\n",
        "    s += i\n",
        "  return s"
      ]
    },
    {
      "cell_type": "code",
      "source": [
        "def fun(N, M):\n",
        "  s = 0\n",
        "  for i in range(1, N+1):\n",
        "    s += i\n",
        "  for j in range(1, M+1):\n",
        "    s += j\n",
        "  return s"
      ],
      "metadata": {
        "id": "NX2OCt2IhMff"
      },
      "execution_count": 2,
      "outputs": []
    },
    {
      "cell_type": "code",
      "source": [
        "def fun(N):\n",
        "  i = 1\n",
        "  while i < N:\n",
        "    i += 2"
      ],
      "metadata": {
        "id": "ZcKCZYwDhqp6"
      },
      "execution_count": 3,
      "outputs": []
    },
    {
      "cell_type": "code",
      "source": [
        "def fun(N):\n",
        "  s = 0\n",
        "  for i in range(1, int(N**0.5)):\n",
        "    s += i\n",
        "  return s"
      ],
      "metadata": {
        "id": "07tGO_91iJe8"
      },
      "execution_count": 4,
      "outputs": []
    },
    {
      "cell_type": "code",
      "source": [
        "def fun(N):\n",
        "  i = N\n",
        "  while i >= 1:\n",
        "    i = i // 2"
      ],
      "metadata": {
        "id": "LrUfiwQLipKt"
      },
      "execution_count": 5,
      "outputs": []
    },
    {
      "cell_type": "code",
      "source": [
        "def fun(N):\n",
        "  i = 1\n",
        "  while i <= N:\n",
        "    i = i * 2"
      ],
      "metadata": {
        "id": "ASngpxUwi9oH"
      },
      "execution_count": 6,
      "outputs": []
    },
    {
      "cell_type": "code",
      "source": [
        "def fun(N):\n",
        "  i = 0\n",
        "  while i <= N:\n",
        "    i = i * 2"
      ],
      "metadata": {
        "id": "S665iLiMjt-h"
      },
      "execution_count": 7,
      "outputs": []
    },
    {
      "cell_type": "code",
      "source": [
        "def fun(N):\n",
        "  s = 0\n",
        "  for i in range(N):\n",
        "    for j in range(N):\n",
        "      s += j\n",
        "  return s"
      ],
      "metadata": {
        "id": "i3_Mbe5okGXn"
      },
      "execution_count": 8,
      "outputs": []
    },
    {
      "cell_type": "code",
      "source": [
        "def fun(N):\n",
        "  s = 0\n",
        "  for i in range(10):\n",
        "    for j in range(N):\n",
        "      s += j\n",
        "  return s"
      ],
      "metadata": {
        "id": "0Xr0838rkkUK"
      },
      "execution_count": null,
      "outputs": []
    },
    {
      "cell_type": "code",
      "source": [
        "def fun(N):\n",
        "  s = 0\n",
        "  for i in range(N):\n",
        "    j = 1\n",
        "    while j <= N:\n",
        "      j = j * 2\n",
        "  return s"
      ],
      "metadata": {
        "id": "bxgvpl_k-8Sp"
      },
      "execution_count": null,
      "outputs": []
    },
    {
      "cell_type": "code",
      "source": [
        "def fun(N):\n",
        "  s = 0\n",
        "  for i in range(N):\n",
        "    for j in range(N):\n",
        "      s += j\n",
        "  for i in range(N):\n",
        "    s += i\n",
        "  return s\n",
        "\n",
        "\n"
      ],
      "metadata": {
        "id": "GcR_OYaMABZg"
      },
      "execution_count": null,
      "outputs": []
    },
    {
      "cell_type": "code",
      "source": [
        "def example_function(arr):\n",
        "    total = 0\n",
        "    for i in range(len(arr)):\n",
        "        for j in range(i + 1, len(arr)):\n",
        "          k = 1\n",
        "          while k <= len(arr):\n",
        "            total += i + j + k\n",
        "            k *= 2\n",
        "    return total"
      ],
      "metadata": {
        "id": "ODPbWKEzBf9h"
      },
      "execution_count": 9,
      "outputs": []
    },
    {
      "cell_type": "code",
      "source": [
        "def fun(N):\n",
        "  s = 0\n",
        "  for i in range(1, N+1):\n",
        "    s += i\n",
        "  return s"
      ],
      "metadata": {
        "id": "Hd0vG8uwBghs"
      },
      "execution_count": null,
      "outputs": []
    },
    {
      "cell_type": "code",
      "source": [
        "def fun(N):\n",
        "  s = [0]*N\n",
        "  for i in range(1, N+1):\n",
        "    s[i] = i\n",
        "  return sum(s)"
      ],
      "metadata": {
        "id": "vd1ZrzvdFzp-"
      },
      "execution_count": null,
      "outputs": []
    },
    {
      "cell_type": "code",
      "source": [
        "def fun(N):\n",
        "  s = [] # size 0\n",
        "  for i in range(1, N+1):\n",
        "    s.append(i)\n",
        "\n",
        "\n",
        "  # s-->size n\n",
        "  return sum(s)"
      ],
      "metadata": {
        "id": "emAFkJacGfiK"
      },
      "execution_count": null,
      "outputs": []
    },
    {
      "cell_type": "code",
      "source": [
        "s@some.com"
      ],
      "metadata": {
        "id": "RDl-pT_TIesT"
      },
      "execution_count": null,
      "outputs": []
    },
    {
      "cell_type": "code",
      "source": [
        "def func(emails):\n",
        "    verified_lex = []\n",
        "    for i in emails:\n",
        "        if i.find('@gmail') != -1 or i.find('@scaler') !=-1 or i.find('@yahoo') !=-1:\n",
        "            if i.find('.com') != -1:\n",
        "                if len(i.split('@')) <= 20:\n",
        "                    verified_lex.append(i)\n",
        "\n",
        "\n",
        "# - only one @ and something must be present after @ before next ."
      ],
      "metadata": {
        "id": "SLtKVTZhJAG3"
      },
      "execution_count": 10,
      "outputs": []
    },
    {
      "cell_type": "code",
      "source": [
        "def sum_any(*args):\n",
        "\n",
        "    mul1 = 1\n",
        "    sum1 = 0\n",
        "    for i in args:\n",
        "        sum1+= i\n",
        "\n",
        "    return sum1, mul1\n",
        "sum_any(10,20, 30)"
      ],
      "metadata": {
        "colab": {
          "base_uri": "https://localhost:8080/"
        },
        "id": "X254ljMjJ6qT",
        "outputId": "1b5a7830-9ba4-48a2-eb19-a0f5f0f426b4"
      },
      "execution_count": 16,
      "outputs": [
        {
          "output_type": "execute_result",
          "data": {
            "text/plain": [
              "(60, 1)"
            ]
          },
          "metadata": {},
          "execution_count": 16
        }
      ]
    },
    {
      "cell_type": "code",
      "source": [
        " Which option represents the statement that is responsible for generating [2, [2, 3, 2, 3], 8, 10] as the output in the following code? a=[1,[2,3],4,5]\n"
      ],
      "metadata": {
        "id": "GTRNHCBXKQDH"
      },
      "execution_count": null,
      "outputs": []
    },
    {
      "cell_type": "code",
      "source": [
        "a=[1,[2,3],4,5] # a is list\n",
        "result = lambda x: list(map(lambda y:2y, x)) if isinstance(x,list) else lambda x:3x\n",
        "print(result(a))"
      ],
      "metadata": {
        "colab": {
          "base_uri": "https://localhost:8080/",
          "height": 124
        },
        "id": "BgvckKv3K0Lz",
        "outputId": "9260a2c1-8dfa-49a0-c228-f5d469bbe3ca"
      },
      "execution_count": 17,
      "outputs": [
        {
          "output_type": "error",
          "ename": "SyntaxError",
          "evalue": "invalid decimal literal (<ipython-input-17-597e0b5c1ed3>, line 2)",
          "traceback": [
            "\u001b[0;36m  File \u001b[0;32m\"<ipython-input-17-597e0b5c1ed3>\"\u001b[0;36m, line \u001b[0;32m2\u001b[0m\n\u001b[0;31m    result = lambda x: list(map(lambda y:2y, x)) if isinstance(x,list) else lambda x:3x\u001b[0m\n\u001b[0m                                         ^\u001b[0m\n\u001b[0;31mSyntaxError\u001b[0m\u001b[0;31m:\u001b[0m invalid decimal literal\n"
          ]
        }
      ]
    },
    {
      "cell_type": "markdown",
      "source": [
        "```\n",
        "def result(x):\n",
        "    if isinstance(x,list):\n",
        "        return list(map(lambda y:2y, x)) # branch 1\n",
        "    else:\n",
        "        return lambda x:3x # branch\n",
        "\n",
        "\n",
        "result(a)# [1,[2,3],4,5]\n"
      ],
      "metadata": {
        "id": "eaIk9b4ELFT8"
      }
    },
    {
      "cell_type": "code",
      "source": [],
      "metadata": {
        "id": "n48reGp5LY4R"
      },
      "execution_count": null,
      "outputs": []
    }
  ]
}