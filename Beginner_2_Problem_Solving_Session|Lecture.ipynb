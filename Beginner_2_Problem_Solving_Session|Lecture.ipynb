{
  "nbformat": 4,
  "nbformat_minor": 0,
  "metadata": {
    "colab": {
      "provenance": [],
      "authorship_tag": "ABX9TyPBxHal4iP6+zgqRozdwg3T",
      "include_colab_link": true
    },
    "kernelspec": {
      "name": "python3",
      "display_name": "Python 3"
    },
    "language_info": {
      "name": "python"
    }
  },
  "cells": [
    {
      "cell_type": "markdown",
      "metadata": {
        "id": "view-in-github",
        "colab_type": "text"
      },
      "source": [
        "<a href=\"https://colab.research.google.com/github/SachinScaler/PythonModule2May24/blob/main/Beginner_2_Problem_Solving_Session%7CLecture.ipynb\" target=\"_parent\"><img src=\"https://colab.research.google.com/assets/colab-badge.svg\" alt=\"Open In Colab\"/></a>"
      ]
    },
    {
      "cell_type": "code",
      "execution_count": 1,
      "metadata": {
        "colab": {
          "base_uri": "https://localhost:8080/"
        },
        "id": "04hYraTFWs4t",
        "outputId": "86f2dad5-f43d-499d-d5db-f187a49de5a3"
      },
      "outputs": [
        {
          "output_type": "execute_result",
          "data": {
            "text/plain": [
              "3000.0"
            ]
          },
          "metadata": {},
          "execution_count": 1
        }
      ],
      "source": [
        "previous_read= 200\n",
        "current_read= 650\n",
        "\n",
        "consumption = current_read - previous_read\n",
        "\n",
        "total_charge = 150\n",
        "\n",
        "if consumption<=100:\n",
        "    total_charge = total_charge + consumption * 3.5\n",
        "elif consumption<=200:\n",
        "    total_charge = total_charge + 100 * 3.5 + (consumption-100) * 5\n",
        "else:\n",
        "    total_charge = total_charge + 100 * 3.5 + 100 * 5 + (consumption-200) * 8\n",
        "\n",
        "total_charge\n"
      ]
    },
    {
      "cell_type": "markdown",
      "source": [
        "105-> 100*3.5 + 105-100*5"
      ],
      "metadata": {
        "id": "IX3EX4MIXgjj"
      }
    },
    {
      "cell_type": "markdown",
      "source": [
        "1. For the first 100 units consumed: 3.5 rs/unit\n",
        "\n",
        "2. For the next 100 units consumed: 5 rs/unit\n",
        "\n",
        "3. For remaining units consumed: 8 rs/unit\n",
        "\n"
      ],
      "metadata": {
        "id": "CI4C-EYhXCs3"
      }
    },
    {
      "cell_type": "code",
      "source": [
        "10/(0.+0)"
      ],
      "metadata": {
        "colab": {
          "base_uri": "https://localhost:8080/",
          "height": 137
        },
        "id": "OCddzrMLXDSv",
        "outputId": "3e98a7c1-5323-4a53-9592-1e99e48a20fc"
      },
      "execution_count": 2,
      "outputs": [
        {
          "output_type": "error",
          "ename": "ZeroDivisionError",
          "evalue": "float division by zero",
          "traceback": [
            "\u001b[0;31m---------------------------------------------------------------------------\u001b[0m",
            "\u001b[0;31mZeroDivisionError\u001b[0m                         Traceback (most recent call last)",
            "\u001b[0;32m<ipython-input-2-8c4cb017d43c>\u001b[0m in \u001b[0;36m<cell line: 1>\u001b[0;34m()\u001b[0m\n\u001b[0;32m----> 1\u001b[0;31m \u001b[0;36m10\u001b[0m\u001b[0;34m/\u001b[0m\u001b[0;34m(\u001b[0m\u001b[0;36m0.\u001b[0m\u001b[0;34m+\u001b[0m\u001b[0;36m0\u001b[0m\u001b[0;34m)\u001b[0m\u001b[0;34m\u001b[0m\u001b[0;34m\u001b[0m\u001b[0m\n\u001b[0m",
            "\u001b[0;31mZeroDivisionError\u001b[0m: float division by zero"
          ]
        }
      ]
    },
    {
      "cell_type": "code",
      "source": [
        "class Student():\n",
        "\n",
        "    def __init__(self, marks1,marks2,credits1, credits2):\n",
        "        #YOUR CODE GOES HERE\n",
        "        self.marks1 = marks1\n",
        "        self.marks2 = marks2\n",
        "        self.credits1 = credits1\n",
        "        self.credits2 = credits2\n",
        "\n",
        "    def calculate_credit(self, marks):\n",
        "        # TODO: Replace if else with this function call\n",
        "        pass\n",
        "\n",
        "    def grade_point_average(self):\n",
        "        gpa=0\n",
        "\n",
        "        if self.credits1==0 and self.credits2==0:\n",
        "            return -1.0\n",
        "        \"\"\"\n",
        "        1. If marks>=90:10 points\n",
        "        2. If 90>marks>=75: 9 points\n",
        "        3. If 75>marks>=60: 8 points\n",
        "        4. If 60>marks>=45: 7 points\n",
        "        5. If marks<45: 0 points\n",
        "        \"\"\"\n",
        "        #YOUR CODE GOES HERE\n",
        "        if self.marks1>=90:\n",
        "            self.points1 = 10\n",
        "        elif self.marks1>=75:\n",
        "            self.points1 = 9\n",
        "        elif self.marks1>=60:\n",
        "            self.points1 = 8\n",
        "        elif self.marks1 >=45:\n",
        "            self.points1 = 7\n",
        "        else:\n",
        "            self.points1 = 0\n",
        "\n",
        "        if self.marks2>=90:\n",
        "            self.points2 = 10\n",
        "        elif self.marks2>=75:\n",
        "            self.points2 = 9\n",
        "        elif self.marks2>=60:\n",
        "            self.points2 = 8\n",
        "        elif self.marks2 >=45:\n",
        "            self.points2 = 7\n",
        "        else:\n",
        "            self.points2 = 0\n",
        "\n",
        "        gpa = ((self.points1*self.credits1) + (self.points2*self.credits2))/(self.credits1 + self.credits2)\n",
        "        return round(gpa,2)"
      ],
      "metadata": {
        "id": "lNI-qFgxbGJp"
      },
      "execution_count": null,
      "outputs": []
    },
    {
      "cell_type": "code",
      "source": [
        "# super to call parents method\n",
        "class A:\n",
        "    def __init__(self):\n",
        "        print(\"Init of Parent Invoked\")\n",
        "class B(A):\n",
        "    def __init__(self):\n",
        "        super().__init__()\n",
        "b1 = B()"
      ],
      "metadata": {
        "colab": {
          "base_uri": "https://localhost:8080/"
        },
        "id": "o-dDALWPcDxP",
        "outputId": "2417f1ee-92a7-4bc8-b298-9148d7f79bed"
      },
      "execution_count": 4,
      "outputs": [
        {
          "output_type": "stream",
          "name": "stdout",
          "text": [
            "Init of Parent Invoked\n"
          ]
        }
      ]
    },
    {
      "cell_type": "code",
      "source": [
        "# alternate Method to call parents method: className.methodname(self)\n",
        "class A:\n",
        "    def __init__(self):\n",
        "        print(\"Init of Parent Invoked\")\n",
        "class B(A):\n",
        "    def __init__(self):\n",
        "        A.__init__(self)\n",
        "b1 = B()"
      ],
      "metadata": {
        "colab": {
          "base_uri": "https://localhost:8080/"
        },
        "id": "Xv8pSEfycQQ3",
        "outputId": "7d72f939-a975-4044-b877-4650f2c3f885"
      },
      "execution_count": 7,
      "outputs": [
        {
          "output_type": "stream",
          "name": "stdout",
          "text": [
            "Init of Parent Invoked\n"
          ]
        }
      ]
    },
    {
      "cell_type": "code",
      "source": [
        "class A:\n",
        "   def one(self):\n",
        "       return self.two() # invoking method two() self if object of Clas B\n",
        "   def two(self):\n",
        "       return 'A'\n",
        "class B(A):\n",
        "   def two(self):\n",
        "       return 'B'\n",
        "obj= B()\n",
        "B.__mro__"
      ],
      "metadata": {
        "colab": {
          "base_uri": "https://localhost:8080/"
        },
        "id": "cPiQfRoMcfia",
        "outputId": "27ae3b2f-544c-4f26-d041-d71f24bc9941"
      },
      "execution_count": 10,
      "outputs": [
        {
          "output_type": "execute_result",
          "data": {
            "text/plain": [
              "(__main__.B, __main__.A, object)"
            ]
          },
          "metadata": {},
          "execution_count": 10
        }
      ]
    },
    {
      "cell_type": "code",
      "source": [
        "print(obj.one())# B.one()"
      ],
      "metadata": {
        "colab": {
          "base_uri": "https://localhost:8080/"
        },
        "id": "-huKoSOxdH8W",
        "outputId": "c2f9385a-83f8-4f38-c527-485cacef8f28"
      },
      "execution_count": 11,
      "outputs": [
        {
          "output_type": "stream",
          "name": "stdout",
          "text": [
            "B\n"
          ]
        }
      ]
    },
    {
      "cell_type": "code",
      "source": [
        "class Parent:\n",
        "  def __init__(self):\n",
        "    pass\n",
        "  def print(self):\n",
        "    print(\"60\")\n",
        "\n",
        "class Child(Parent):\n",
        "   def __init__(self):\n",
        "      pass\n",
        "   def type(self): # This block has to be completed.\n",
        "       #super().print()\n",
        "       #Parent.print(self)\n",
        "       self.print()\n",
        "\n",
        "C=Child()\n",
        "C.type()"
      ],
      "metadata": {
        "colab": {
          "base_uri": "https://localhost:8080/"
        },
        "id": "vA451IIndjpb",
        "outputId": "43b50df5-8ce9-4ed5-bf35-c98144d2de51"
      },
      "execution_count": 16,
      "outputs": [
        {
          "output_type": "stream",
          "name": "stdout",
          "text": [
            "60\n"
          ]
        }
      ]
    },
    {
      "cell_type": "code",
      "source": [
        "string = \"Iandjfanreinafsd\"\n",
        "\n",
        "vowels = \"AEIOUaeiou\"\n",
        "\n",
        "vowel_count = 0\n",
        "for char in string:\n",
        "    if char in vowels:\n",
        "        vowel_count+=1\n",
        "print(vowel_count)"
      ],
      "metadata": {
        "colab": {
          "base_uri": "https://localhost:8080/"
        },
        "id": "PU7U3gs3gVLm",
        "outputId": "49edf217-68d5-4cbf-e651-75e034b06576"
      },
      "execution_count": 18,
      "outputs": [
        {
          "output_type": "stream",
          "name": "stdout",
          "text": [
            "6\n"
          ]
        }
      ]
    },
    {
      "cell_type": "code",
      "source": [
        "len(string)-vowel_count"
      ],
      "metadata": {
        "colab": {
          "base_uri": "https://localhost:8080/"
        },
        "id": "4TvMY87Ehr_4",
        "outputId": "530335be-7839-4eb4-d4dc-f6689c2824cf"
      },
      "execution_count": 20,
      "outputs": [
        {
          "output_type": "execute_result",
          "data": {
            "text/plain": [
              "10"
            ]
          },
          "metadata": {},
          "execution_count": 20
        }
      ]
    },
    {
      "cell_type": "code",
      "source": [
        "h1 = 1\n",
        "m1 = 10 # 1:10\n",
        "h2 = 0\n",
        "m2 = 50 # 0: 50"
      ],
      "metadata": {
        "id": "ZRgDUTSgh-zL"
      },
      "execution_count": 21,
      "outputs": []
    },
    {
      "cell_type": "code",
      "source": [
        "m_total = m2+m1\n",
        "m_total"
      ],
      "metadata": {
        "colab": {
          "base_uri": "https://localhost:8080/"
        },
        "id": "LU8JdofajQPm",
        "outputId": "7e977bd3-7212-4e1b-e66f-9aaedbabdb4a"
      },
      "execution_count": 24,
      "outputs": [
        {
          "output_type": "execute_result",
          "data": {
            "text/plain": [
              "60"
            ]
          },
          "metadata": {},
          "execution_count": 24
        }
      ]
    },
    {
      "cell_type": "code",
      "source": [
        "h_total = h2+h1\n",
        "h_total\n",
        "\n"
      ],
      "metadata": {
        "colab": {
          "base_uri": "https://localhost:8080/"
        },
        "id": "eo_adJbIjgk6",
        "outputId": "ac1658b2-ee4b-44fc-febb-be71abf753e8"
      },
      "execution_count": 26,
      "outputs": [
        {
          "output_type": "execute_result",
          "data": {
            "text/plain": [
              "1"
            ]
          },
          "metadata": {},
          "execution_count": 26
        }
      ]
    },
    {
      "cell_type": "code",
      "source": [
        "if m_total>=60:\n",
        "    h_total+=1\n",
        "    m_total= m_total-60"
      ],
      "metadata": {
        "id": "_kQIx58kjlZ4"
      },
      "execution_count": null,
      "outputs": []
    },
    {
      "cell_type": "code",
      "source": [
        "1:60--> 2 hours"
      ],
      "metadata": {
        "id": "YiH8UhAsj0Ll"
      },
      "execution_count": null,
      "outputs": []
    },
    {
      "cell_type": "code",
      "source": [
        "\"\"\"\n",
        "1:65--> 2:05\n",
        "60-minutes-->5 and add 1 to hour: 1+1:65-60\n",
        "\"\"\""
      ],
      "metadata": {
        "colab": {
          "base_uri": "https://localhost:8080/",
          "height": 104
        },
        "id": "ZezIdB3Gj3jz",
        "outputId": "6637ca1a-eb76-41ca-94fa-dac113e424f8"
      },
      "execution_count": 27,
      "outputs": [
        {
          "output_type": "error",
          "ename": "SyntaxError",
          "evalue": "leading zeros in decimal integer literals are not permitted; use an 0o prefix for octal integers (<ipython-input-27-9e193cd8b3dd>, line 1)",
          "traceback": [
            "\u001b[0;36m  File \u001b[0;32m\"<ipython-input-27-9e193cd8b3dd>\"\u001b[0;36m, line \u001b[0;32m1\u001b[0m\n\u001b[0;31m    1:65--> 2:05\u001b[0m\n\u001b[0m              ^\u001b[0m\n\u001b[0;31mSyntaxError\u001b[0m\u001b[0;31m:\u001b[0m leading zeros in decimal integer literals are not permitted; use an 0o prefix for octal integers\n"
          ]
        }
      ]
    },
    {
      "cell_type": "code",
      "source": [
        "students = [\"A\", \"C\", \"B\", \"D\", \"E\"]\n",
        "scores = [10,1,12,3, 3]\n",
        "\n",
        "nested_list = []\n",
        "for i in range(len(students)):\n",
        "    nested_list.append([students[i],scores[i] ])\n",
        "nested_list\n",
        "\n",
        "# Pure FP:list(map(lambda x: list(x), zip(students,scores )))"
      ],
      "metadata": {
        "colab": {
          "base_uri": "https://localhost:8080/"
        },
        "id": "vbPP4fdkj8O6",
        "outputId": "242604d9-686f-418e-89db-ea0c9048a89a"
      },
      "execution_count": 52,
      "outputs": [
        {
          "output_type": "execute_result",
          "data": {
            "text/plain": [
              "[['A', 10], ['C', 1], ['B', 12], ['D', 3], ['E', 3]]"
            ]
          },
          "metadata": {},
          "execution_count": 52
        }
      ]
    },
    {
      "cell_type": "code",
      "source": [
        "nested_list"
      ],
      "metadata": {
        "colab": {
          "base_uri": "https://localhost:8080/"
        },
        "id": "TtzfAhaTpWFn",
        "outputId": "1d64f4f2-ce69-4bc8-bfab-26fea92586a2"
      },
      "execution_count": 53,
      "outputs": [
        {
          "output_type": "execute_result",
          "data": {
            "text/plain": [
              "[['A', 10], ['C', 1], ['B', 12], ['D', 3], ['E', 3]]"
            ]
          },
          "metadata": {},
          "execution_count": 53
        }
      ]
    },
    {
      "cell_type": "code",
      "source": [
        "sorted(nested_list) # default is first index of nested list"
      ],
      "metadata": {
        "colab": {
          "base_uri": "https://localhost:8080/"
        },
        "id": "QhmwKrIFpWC3",
        "outputId": "3ca9e927-e0a5-457a-813d-ef98c91badad"
      },
      "execution_count": 54,
      "outputs": [
        {
          "output_type": "execute_result",
          "data": {
            "text/plain": [
              "[['A', 10], ['B', 12], ['C', 1], ['D', 3], ['E', 3]]"
            ]
          },
          "metadata": {},
          "execution_count": 54
        }
      ]
    },
    {
      "cell_type": "code",
      "source": [
        "# one_element: ['A', 10]\n",
        "def some_func(x):\n",
        "    return x[1]\n",
        "\n",
        "sorted(nested_list , key = some_func) # key expects a function and sorted will all members one by one to this function"
      ],
      "metadata": {
        "colab": {
          "base_uri": "https://localhost:8080/"
        },
        "id": "6yuR531zpWAT",
        "outputId": "b00de526-91d1-4262-a80d-3cdf125e8d0f"
      },
      "execution_count": 55,
      "outputs": [
        {
          "output_type": "execute_result",
          "data": {
            "text/plain": [
              "[['C', 1], ['D', 3], ['E', 3], ['A', 10], ['B', 12]]"
            ]
          },
          "metadata": {},
          "execution_count": 55
        }
      ]
    },
    {
      "cell_type": "markdown",
      "source": [
        "- map: also does same thing"
      ],
      "metadata": {
        "id": "e5CMwxlIqZT4"
      }
    },
    {
      "cell_type": "code",
      "source": [
        "sorted(nested_list , key = lambda x: x[1])"
      ],
      "metadata": {
        "colab": {
          "base_uri": "https://localhost:8080/"
        },
        "id": "aWC6Jjx-pCbu",
        "outputId": "36742be8-e638-4a70-e389-6e1dbaeae574"
      },
      "execution_count": 56,
      "outputs": [
        {
          "output_type": "execute_result",
          "data": {
            "text/plain": [
              "[['C', 1], ['D', 3], ['E', 3], ['A', 10], ['B', 12]]"
            ]
          },
          "metadata": {},
          "execution_count": 56
        }
      ]
    },
    {
      "cell_type": "code",
      "source": [
        "second_lowest_marks = sorted(nested_list , key = lambda x: x[1])[1][1]\n",
        "second_lowest_marks"
      ],
      "metadata": {
        "colab": {
          "base_uri": "https://localhost:8080/"
        },
        "id": "_S8PAXYoqza7",
        "outputId": "d36ff0ea-82cb-4e3b-826c-9493dc0ca532"
      },
      "execution_count": 57,
      "outputs": [
        {
          "output_type": "execute_result",
          "data": {
            "text/plain": [
              "3"
            ]
          },
          "metadata": {},
          "execution_count": 57
        }
      ]
    },
    {
      "cell_type": "code",
      "source": [
        "# second_lowest_name = sorted(nested_list , key = lambda x: x[1])[1][0]\n",
        "# second_lowest_name\n",
        "second_lowest_name = []\n",
        "for i in range(len(students)):\n",
        "    if scores[i]==second_lowest_marks:\n",
        "        second_lowest_name.append(students[i])\n",
        "second_lowest_name"
      ],
      "metadata": {
        "colab": {
          "base_uri": "https://localhost:8080/"
        },
        "id": "BG98IqC3rWCl",
        "outputId": "7ba85e89-b0d3-4a3b-8639-93b45f5de314"
      },
      "execution_count": 59,
      "outputs": [
        {
          "output_type": "execute_result",
          "data": {
            "text/plain": [
              "['D', 'E']"
            ]
          },
          "metadata": {},
          "execution_count": 59
        }
      ]
    },
    {
      "cell_type": "markdown",
      "source": [],
      "metadata": {
        "id": "pgjrCMRqsCYs"
      }
    },
    {
      "cell_type": "code",
      "source": [
        "## Alternative: PURE FP SOLUTION\n",
        "nested_list = list(map(lambda x: list(x), zip(students,scores )))\n",
        "second_lowest_marks = sorted(nested_list , key = lambda x: x[1])[1][1]\n",
        "second_lowest_name = list(map(lambda x: x[0], filter(lambda x: x[1]==second_lowest_marks,nested_list)))\n",
        "second_lowest_name"
      ],
      "metadata": {
        "colab": {
          "base_uri": "https://localhost:8080/"
        },
        "id": "GtSalyu5sC8D",
        "outputId": "937d3300-093b-468c-b4d4-ac5b4895b740"
      },
      "execution_count": 64,
      "outputs": [
        {
          "output_type": "execute_result",
          "data": {
            "text/plain": [
              "['D', 'E']"
            ]
          },
          "metadata": {},
          "execution_count": 64
        }
      ]
    },
    {
      "cell_type": "code",
      "source": [
        "nested_list\n",
        "(lambda x : [i[0] for i in x if i[1]==second_lowest_marks])(nested_list)"
      ],
      "metadata": {
        "colab": {
          "base_uri": "https://localhost:8080/"
        },
        "id": "qHZFMnTds9Wl",
        "outputId": "8a1af668-616e-4fc2-d2d9-5249614d315a"
      },
      "execution_count": 70,
      "outputs": [
        {
          "output_type": "execute_result",
          "data": {
            "text/plain": [
              "['D', 'E']"
            ]
          },
          "metadata": {},
          "execution_count": 70
        }
      ]
    },
    {
      "cell_type": "markdown",
      "source": [],
      "metadata": {
        "id": "3PGeFptbt2a3"
      }
    },
    {
      "cell_type": "code",
      "source": [
        "def display():\n",
        "    print(\"In Display\")\n",
        "print(display())"
      ],
      "metadata": {
        "colab": {
          "base_uri": "https://localhost:8080/"
        },
        "id": "aVCYS_KcuCR-",
        "outputId": "dabfc054-8aab-41a4-df5e-7bf63e28869e"
      },
      "execution_count": 72,
      "outputs": [
        {
          "output_type": "stream",
          "name": "stdout",
          "text": [
            "In Display\n",
            "None\n"
          ]
        }
      ]
    },
    {
      "cell_type": "code",
      "source": [
        "class fruits:\n",
        "    def __init__(self, price):\n",
        "        self.price = price\n",
        "\n",
        "obj=fruits(50)\n",
        "obj.quantity=10\n",
        "obj.bags=2\n",
        "\n",
        "print(obj.quantity+len(obj.__dict__))"
      ],
      "metadata": {
        "colab": {
          "base_uri": "https://localhost:8080/"
        },
        "id": "5SQMMGAduXdY",
        "outputId": "ce106c45-d96d-4906-b330-6de051764ee0"
      },
      "execution_count": 76,
      "outputs": [
        {
          "output_type": "stream",
          "name": "stdout",
          "text": [
            "13\n"
          ]
        }
      ]
    },
    {
      "cell_type": "code",
      "source": [
        "obj.quantity"
      ],
      "metadata": {
        "colab": {
          "base_uri": "https://localhost:8080/"
        },
        "id": "jWDjqSbguaAJ",
        "outputId": "95ad082b-58b8-4dac-83f6-b2664f437404"
      },
      "execution_count": 74,
      "outputs": [
        {
          "output_type": "execute_result",
          "data": {
            "text/plain": [
              "10"
            ]
          },
          "metadata": {},
          "execution_count": 74
        }
      ]
    },
    {
      "cell_type": "code",
      "source": [
        "obj.__dict__"
      ],
      "metadata": {
        "colab": {
          "base_uri": "https://localhost:8080/"
        },
        "id": "3lCBU9P_ucvC",
        "outputId": "08f7ac93-ff3a-44ca-accb-39cce3051df7"
      },
      "execution_count": 75,
      "outputs": [
        {
          "output_type": "execute_result",
          "data": {
            "text/plain": [
              "{'price': 50, 'quantity': 10, 'bags': 2}"
            ]
          },
          "metadata": {},
          "execution_count": 75
        }
      ]
    },
    {
      "cell_type": "markdown",
      "source": [
        "[['S ROY', 1.0], ['B BOSE', 3.0], ['N KAR', 2.0], ['C DUTTA', 1.0], ['G GHOSH', 1.0]]\n",
        "2.0\n",
        "N KAR"
      ],
      "metadata": {
        "id": "e3dt-Uq7ouLX"
      }
    },
    {
      "cell_type": "code",
      "source": [
        "class Student:\n",
        "  # Class variable\n",
        "  subject_name = 'Math for Machine Learning'\n",
        "\n",
        "  # constructor\n",
        "  def __init__(self, name, roll_no):\n",
        "    self.name = name\n",
        "    self.roll_no = roll_no\n",
        "\n",
        "# outside the class\n",
        "# create Objects\n",
        "s1 = Student(\"Emma\",10) #blank1\n",
        "s1.subject_name=\"Machine Learning\" # Student.subject_name\n",
        "print(s1.name, s1.roll_no, s1.subject_name)"
      ],
      "metadata": {
        "colab": {
          "base_uri": "https://localhost:8080/"
        },
        "id": "eEBH23Q8unsM",
        "outputId": "fdb728b4-cb17-4722-a2ea-5fee1a44db53"
      },
      "execution_count": 79,
      "outputs": [
        {
          "output_type": "stream",
          "name": "stdout",
          "text": [
            "Emma 10 Machine Learning\n"
          ]
        }
      ]
    },
    {
      "cell_type": "code",
      "source": [
        "#Emma 10 Machine Learning"
      ],
      "metadata": {
        "id": "FjIazEDHurUk"
      },
      "execution_count": null,
      "outputs": []
    }
  ]
}