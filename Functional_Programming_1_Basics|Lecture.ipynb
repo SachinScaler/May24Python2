{
  "nbformat": 4,
  "nbformat_minor": 0,
  "metadata": {
    "colab": {
      "provenance": [],
      "authorship_tag": "ABX9TyOMRd2VoptfIWxrE4n9LpVY",
      "include_colab_link": true
    },
    "kernelspec": {
      "name": "python3",
      "display_name": "Python 3"
    },
    "language_info": {
      "name": "python"
    }
  },
  "cells": [
    {
      "cell_type": "markdown",
      "metadata": {
        "id": "view-in-github",
        "colab_type": "text"
      },
      "source": [
        "<a href=\"https://colab.research.google.com/github/SachinScaler/May24Python2/blob/main/Functional_Programming_1_Basics%7CLecture.ipynb\" target=\"_parent\"><img src=\"https://colab.research.google.com/assets/colab-badge.svg\" alt=\"Open In Colab\"/></a>"
      ]
    },
    {
      "cell_type": "markdown",
      "source": [
        "#### Imperative Approach: Focuses how to loop over elements and perform square"
      ],
      "metadata": {
        "id": "xF0k9wd3N6di"
      }
    },
    {
      "cell_type": "code",
      "execution_count": 1,
      "metadata": {
        "colab": {
          "base_uri": "https://localhost:8080/"
        },
        "id": "Th7nOlcmNgHg",
        "outputId": "b3a6eb8e-1658-41c1-99ed-d659daaec440"
      },
      "outputs": [
        {
          "output_type": "execute_result",
          "data": {
            "text/plain": [
              "[1, 4, 9]"
            ]
          },
          "metadata": {},
          "execution_count": 1
        }
      ],
      "source": [
        "def squared_list(list1):\n",
        "    for i in range(len(list1)):\n",
        "        list1[i]= list1[i]**2\n",
        "    return list1\n",
        "\n",
        "input_list = [1,2,3]\n",
        "output = squared_list(input_list)\n",
        "output"
      ]
    },
    {
      "cell_type": "code",
      "source": [
        "input_list # side effect of Mutability"
      ],
      "metadata": {
        "colab": {
          "base_uri": "https://localhost:8080/"
        },
        "id": "78GTfXInN1eS",
        "outputId": "4f87f781-6c0d-4337-8bfb-b8fdeb409958"
      },
      "execution_count": 2,
      "outputs": [
        {
          "output_type": "execute_result",
          "data": {
            "text/plain": [
              "[1, 4, 9]"
            ]
          },
          "metadata": {},
          "execution_count": 2
        }
      ]
    },
    {
      "cell_type": "markdown",
      "source": [
        "### Functional Programming: Focuses on What you want to do"
      ],
      "metadata": {
        "id": "NvK84emuOTC0"
      }
    },
    {
      "cell_type": "code",
      "source": [
        "input_list = [1,2,3]\n",
        "output = list(map(lambda x:x**2,input_list)) # this does same thing in single line and focuses on what\n",
        "output"
      ],
      "metadata": {
        "colab": {
          "base_uri": "https://localhost:8080/"
        },
        "id": "SsLODxHRN-g4",
        "outputId": "800fd824-c460-4c98-d9c3-9263f0ff9654"
      },
      "execution_count": 6,
      "outputs": [
        {
          "output_type": "execute_result",
          "data": {
            "text/plain": [
              "[1, 4, 9]"
            ]
          },
          "metadata": {},
          "execution_count": 6
        }
      ]
    },
    {
      "cell_type": "code",
      "source": [
        "input_list # no side effect of Mutability"
      ],
      "metadata": {
        "colab": {
          "base_uri": "https://localhost:8080/"
        },
        "id": "eGPO13haOfNt",
        "outputId": "9cdad82f-dc3e-435e-d0f3-bfe7083aa1f4"
      },
      "execution_count": 7,
      "outputs": [
        {
          "output_type": "execute_result",
          "data": {
            "text/plain": [
              "[1, 2, 3]"
            ]
          },
          "metadata": {},
          "execution_count": 7
        }
      ]
    },
    {
      "cell_type": "markdown",
      "source": [
        "#### Anonymous  vs Non Anonymous"
      ],
      "metadata": {
        "id": "DPM3NF_NTAMC"
      }
    },
    {
      "cell_type": "code",
      "source": [
        "### Non-Anonymous\n",
        "square = lambda x: x**2"
      ],
      "metadata": {
        "id": "FKuHa_nWO7Q0"
      },
      "execution_count": 8,
      "outputs": []
    },
    {
      "cell_type": "code",
      "source": [
        "square(10)"
      ],
      "metadata": {
        "colab": {
          "base_uri": "https://localhost:8080/"
        },
        "id": "hTiDlmXGTLbQ",
        "outputId": "ba4c7c08-9c7c-4b12-99f9-c6f4c710ff8f"
      },
      "execution_count": 9,
      "outputs": [
        {
          "output_type": "execute_result",
          "data": {
            "text/plain": [
              "100"
            ]
          },
          "metadata": {},
          "execution_count": 9
        }
      ]
    },
    {
      "cell_type": "code",
      "source": [
        "square(9)"
      ],
      "metadata": {
        "colab": {
          "base_uri": "https://localhost:8080/"
        },
        "id": "Y7rfZUw8TNbI",
        "outputId": "1eacc5e4-db3c-4a35-bc93-9090f9064b01"
      },
      "execution_count": 10,
      "outputs": [
        {
          "output_type": "execute_result",
          "data": {
            "text/plain": [
              "81"
            ]
          },
          "metadata": {},
          "execution_count": 10
        }
      ]
    },
    {
      "cell_type": "code",
      "source": [
        "### Anonymous\n",
        "(lambda x: x**2)(10)"
      ],
      "metadata": {
        "colab": {
          "base_uri": "https://localhost:8080/"
        },
        "id": "dlRWSSAsTPr_",
        "outputId": "31eab989-ac5a-4272-c2e0-c5c4e58cd083"
      },
      "execution_count": 11,
      "outputs": [
        {
          "output_type": "execute_result",
          "data": {
            "text/plain": [
              "100"
            ]
          },
          "metadata": {},
          "execution_count": 11
        }
      ]
    },
    {
      "cell_type": "code",
      "source": [
        "(lambda x: x**2)(9)"
      ],
      "metadata": {
        "colab": {
          "base_uri": "https://localhost:8080/"
        },
        "id": "CgLF9Bc0TXiU",
        "outputId": "0bc06d76-34c4-4f41-9a61-71e4da9cd595"
      },
      "execution_count": 12,
      "outputs": [
        {
          "output_type": "execute_result",
          "data": {
            "text/plain": [
              "81"
            ]
          },
          "metadata": {},
          "execution_count": 12
        }
      ]
    },
    {
      "cell_type": "markdown",
      "source": [
        "### Var1: Multi-input"
      ],
      "metadata": {
        "id": "YZlC_nQtTi6v"
      }
    },
    {
      "cell_type": "code",
      "source": [
        "addition = lambda x,y:x+y\n",
        "addition(1)"
      ],
      "metadata": {
        "colab": {
          "base_uri": "https://localhost:8080/",
          "height": 153
        },
        "id": "ZYaDf_LGTY1K",
        "outputId": "9f169c94-62b8-4e1b-fba9-333086dd2a6b"
      },
      "execution_count": 13,
      "outputs": [
        {
          "output_type": "error",
          "ename": "TypeError",
          "evalue": "<lambda>() missing 1 required positional argument: 'y'",
          "traceback": [
            "\u001b[0;31m---------------------------------------------------------------------------\u001b[0m",
            "\u001b[0;31mTypeError\u001b[0m                                 Traceback (most recent call last)",
            "\u001b[0;32m<ipython-input-13-4faf14e5cda1>\u001b[0m in \u001b[0;36m<cell line: 2>\u001b[0;34m()\u001b[0m\n\u001b[1;32m      1\u001b[0m \u001b[0maddition\u001b[0m \u001b[0;34m=\u001b[0m \u001b[0;32mlambda\u001b[0m \u001b[0mx\u001b[0m\u001b[0;34m,\u001b[0m\u001b[0my\u001b[0m\u001b[0;34m:\u001b[0m\u001b[0mx\u001b[0m\u001b[0;34m+\u001b[0m\u001b[0my\u001b[0m\u001b[0;34m\u001b[0m\u001b[0;34m\u001b[0m\u001b[0m\n\u001b[0;32m----> 2\u001b[0;31m \u001b[0maddition\u001b[0m\u001b[0;34m(\u001b[0m\u001b[0;36m1\u001b[0m\u001b[0;34m)\u001b[0m\u001b[0;34m\u001b[0m\u001b[0;34m\u001b[0m\u001b[0m\n\u001b[0m",
            "\u001b[0;31mTypeError\u001b[0m: <lambda>() missing 1 required positional argument: 'y'"
          ]
        }
      ]
    },
    {
      "cell_type": "code",
      "source": [
        "addition(1,2)"
      ],
      "metadata": {
        "colab": {
          "base_uri": "https://localhost:8080/"
        },
        "id": "85ITtoHyTsWO",
        "outputId": "8e95a2e9-9c89-4630-e6ca-3ad4da06c2a5"
      },
      "execution_count": 14,
      "outputs": [
        {
          "output_type": "execute_result",
          "data": {
            "text/plain": [
              "3"
            ]
          },
          "metadata": {},
          "execution_count": 14
        }
      ]
    },
    {
      "cell_type": "markdown",
      "source": [
        "### Multi-Ouput: HW\n",
        "update the above function to retun two outputs: addition and subtraction\n",
        "\n",
        "HINT: OUTPUT SHOULD BE TUPLE"
      ],
      "metadata": {
        "id": "m2FRKt5_TyNp"
      }
    },
    {
      "cell_type": "markdown",
      "source": [
        "### Ternary Operator:\n",
        "```\n",
        "if condition:\n",
        "    return x\n",
        "else:\n",
        "    return y\n",
        "\n",
        "```"
      ],
      "metadata": {
        "id": "yT6sC7btUD3G"
      }
    },
    {
      "cell_type": "code",
      "source": [
        "def function(x):\n",
        "    if x>5:\n",
        "        return \"Greater Then 5\"\n",
        "    else:\n",
        "        return \"Less Then 5\"\n",
        "function(19)"
      ],
      "metadata": {
        "colab": {
          "base_uri": "https://localhost:8080/",
          "height": 36
        },
        "id": "WG8z3LwsTuky",
        "outputId": "f5cb6db7-5187-405e-c71c-87ff22828887"
      },
      "execution_count": 17,
      "outputs": [
        {
          "output_type": "execute_result",
          "data": {
            "text/plain": [
              "'Greater Then 5'"
            ],
            "application/vnd.google.colaboratory.intrinsic+json": {
              "type": "string"
            }
          },
          "metadata": {},
          "execution_count": 17
        }
      ]
    },
    {
      "cell_type": "code",
      "source": [
        "function = lambda x: \"Greater Then 5\" if x>5 else \"Less Then 5\"\n",
        "function(19)"
      ],
      "metadata": {
        "colab": {
          "base_uri": "https://localhost:8080/",
          "height": 36
        },
        "id": "zFDGsCaAUazG",
        "outputId": "03d32b03-6370-4b35-e53b-0b5597043d66"
      },
      "execution_count": 18,
      "outputs": [
        {
          "output_type": "execute_result",
          "data": {
            "text/plain": [
              "'Greater Then 5'"
            ],
            "application/vnd.google.colaboratory.intrinsic+json": {
              "type": "string"
            }
          },
          "metadata": {},
          "execution_count": 18
        }
      ]
    },
    {
      "cell_type": "markdown",
      "source": [
        "Optinal Question: can we model if elif else as well?\n",
        "\n",
        "HINT: only if and else is required"
      ],
      "metadata": {
        "id": "ZCs_-JNZU1Vm"
      }
    },
    {
      "cell_type": "code",
      "source": [
        "function = lambda x: \"Greater Then 5\" if x>5 elif \"Less Then 5\" if x>0 else \"No\"\n",
        "function(19)"
      ],
      "metadata": {
        "colab": {
          "base_uri": "https://localhost:8080/",
          "height": 104
        },
        "id": "IGLm6mN-UrSt",
        "outputId": "b993c80d-b273-49b1-a50b-dfb4ee114acd"
      },
      "execution_count": 19,
      "outputs": [
        {
          "output_type": "error",
          "ename": "SyntaxError",
          "evalue": "expected 'else' after 'if' expression (<ipython-input-19-b81cca533222>, line 1)",
          "traceback": [
            "\u001b[0;36m  File \u001b[0;32m\"<ipython-input-19-b81cca533222>\"\u001b[0;36m, line \u001b[0;32m1\u001b[0m\n\u001b[0;31m    function = lambda x: \"Greater Then 5\" if x>5 elif \"Less Then 5\" if x>0 else \"No\"\u001b[0m\n\u001b[0m                         ^\u001b[0m\n\u001b[0;31mSyntaxError\u001b[0m\u001b[0;31m:\u001b[0m expected 'else' after 'if' expression\n"
          ]
        }
      ]
    },
    {
      "cell_type": "markdown",
      "source": [
        "### Sorted Function"
      ],
      "metadata": {
        "id": "tovX82j_VJe3"
      }
    },
    {
      "cell_type": "code",
      "source": [
        "list1 = [\"sachin\", \"aachin\", \"banana\", \"got it\"]\n",
        "sorted(list1)"
      ],
      "metadata": {
        "colab": {
          "base_uri": "https://localhost:8080/"
        },
        "id": "dEAat-GzU97w",
        "outputId": "13d454fc-d2a5-4919-de36-51294bc35df8"
      },
      "execution_count": 27,
      "outputs": [
        {
          "output_type": "execute_result",
          "data": {
            "text/plain": [
              "['aachin', 'banana', 'got it', 'sachin']"
            ]
          },
          "metadata": {},
          "execution_count": 27
        }
      ]
    },
    {
      "cell_type": "code",
      "source": [
        "sorted(list1, key = lambda x:x.count('a'))"
      ],
      "metadata": {
        "colab": {
          "base_uri": "https://localhost:8080/"
        },
        "id": "-ASJNtECVbn5",
        "outputId": "70ad875e-e750-4e30-fbf6-5a90ce4b8afe"
      },
      "execution_count": 28,
      "outputs": [
        {
          "output_type": "execute_result",
          "data": {
            "text/plain": [
              "['got it', 'sachin', 'aachin', 'banana']"
            ]
          },
          "metadata": {},
          "execution_count": 28
        }
      ]
    },
    {
      "cell_type": "code",
      "source": [
        "def count_a(string):\n",
        "    return string.count('a')\n",
        "\n",
        "sorted(list1, key = count_a)"
      ],
      "metadata": {
        "colab": {
          "base_uri": "https://localhost:8080/"
        },
        "id": "RWhLo5azV-MO",
        "outputId": "98713258-e792-408c-b6d0-9e02cc961788"
      },
      "execution_count": 31,
      "outputs": [
        {
          "output_type": "execute_result",
          "data": {
            "text/plain": [
              "['got it', 'sachin', 'aachin', 'banana']"
            ]
          },
          "metadata": {},
          "execution_count": 31
        }
      ]
    },
    {
      "cell_type": "markdown",
      "source": [
        "- sorted(iterable)\n",
        "- key = function(x)"
      ],
      "metadata": {
        "id": "st0M4sEHW0ou"
      }
    },
    {
      "cell_type": "code",
      "source": [
        "list1"
      ],
      "metadata": {
        "colab": {
          "base_uri": "https://localhost:8080/"
        },
        "id": "xa7eEuLOWLlX",
        "outputId": "87edbf44-855b-4b16-d6fc-f3b0e47eb091"
      },
      "execution_count": 32,
      "outputs": [
        {
          "output_type": "execute_result",
          "data": {
            "text/plain": [
              "['sachin', 'aachin', 'banana', 'got it']"
            ]
          },
          "metadata": {},
          "execution_count": 32
        }
      ]
    },
    {
      "cell_type": "markdown",
      "source": [],
      "metadata": {
        "id": "yWX-in8sXHlI"
      }
    },
    {
      "cell_type": "code",
      "source": [
        "students = [\n",
        "    {\"name\": \"A\", \"marks\": 50},\n",
        "    {\"name\": \"B\", \"marks\": 100},\n",
        "    {\"name\": \"C\", \"marks\": 40},\n",
        "    {\"name\": \"D\", \"marks\": 70},\n",
        "    {\"name\": \"E\", \"marks\": 60},\n",
        "]\n",
        "sorted(students)"
      ],
      "metadata": {
        "colab": {
          "base_uri": "https://localhost:8080/",
          "height": 170
        },
        "id": "ILTozi2VWY_Q",
        "outputId": "d8ead68b-c78c-4ebb-bddc-8830c1e359f2"
      },
      "execution_count": 33,
      "outputs": [
        {
          "output_type": "error",
          "ename": "TypeError",
          "evalue": "'<' not supported between instances of 'dict' and 'dict'",
          "traceback": [
            "\u001b[0;31m---------------------------------------------------------------------------\u001b[0m",
            "\u001b[0;31mTypeError\u001b[0m                                 Traceback (most recent call last)",
            "\u001b[0;32m<ipython-input-33-330099674928>\u001b[0m in \u001b[0;36m<cell line: 10>\u001b[0;34m()\u001b[0m\n\u001b[1;32m      8\u001b[0m \u001b[0;34m\u001b[0m\u001b[0m\n\u001b[1;32m      9\u001b[0m \u001b[0;34m\u001b[0m\u001b[0m\n\u001b[0;32m---> 10\u001b[0;31m \u001b[0msorted\u001b[0m\u001b[0;34m(\u001b[0m\u001b[0mstudents\u001b[0m\u001b[0;34m)\u001b[0m\u001b[0;34m\u001b[0m\u001b[0;34m\u001b[0m\u001b[0m\n\u001b[0m",
            "\u001b[0;31mTypeError\u001b[0m: '<' not supported between instances of 'dict' and 'dict'"
          ]
        }
      ]
    },
    {
      "cell_type": "code",
      "source": [
        "{\"name\": \"A\", \"marks\": 50} >  {\"name\": \"B\", \"marks\": 100}"
      ],
      "metadata": {
        "colab": {
          "base_uri": "https://localhost:8080/",
          "height": 137
        },
        "id": "9_3-PxrWXVPl",
        "outputId": "71d7a212-eaa4-4602-810c-2b9bf372e73c"
      },
      "execution_count": 35,
      "outputs": [
        {
          "output_type": "error",
          "ename": "TypeError",
          "evalue": "'>' not supported between instances of 'dict' and 'dict'",
          "traceback": [
            "\u001b[0;31m---------------------------------------------------------------------------\u001b[0m",
            "\u001b[0;31mTypeError\u001b[0m                                 Traceback (most recent call last)",
            "\u001b[0;32m<ipython-input-35-7d7a19539a78>\u001b[0m in \u001b[0;36m<cell line: 1>\u001b[0;34m()\u001b[0m\n\u001b[0;32m----> 1\u001b[0;31m \u001b[0;34m{\u001b[0m\u001b[0;34m\"name\"\u001b[0m\u001b[0;34m:\u001b[0m \u001b[0;34m\"A\"\u001b[0m\u001b[0;34m,\u001b[0m \u001b[0;34m\"marks\"\u001b[0m\u001b[0;34m:\u001b[0m \u001b[0;36m50\u001b[0m\u001b[0;34m}\u001b[0m \u001b[0;34m>\u001b[0m  \u001b[0;34m{\u001b[0m\u001b[0;34m\"name\"\u001b[0m\u001b[0;34m:\u001b[0m \u001b[0;34m\"B\"\u001b[0m\u001b[0;34m,\u001b[0m \u001b[0;34m\"marks\"\u001b[0m\u001b[0;34m:\u001b[0m \u001b[0;36m100\u001b[0m\u001b[0;34m}\u001b[0m\u001b[0;34m\u001b[0m\u001b[0;34m\u001b[0m\u001b[0m\n\u001b[0m",
            "\u001b[0;31mTypeError\u001b[0m: '>' not supported between instances of 'dict' and 'dict'"
          ]
        }
      ]
    },
    {
      "cell_type": "markdown",
      "source": [],
      "metadata": {
        "id": "kJtgbY2mX266"
      }
    },
    {
      "cell_type": "code",
      "source": [
        "some_dict = {\"name\": \"A\", \"marks\": 50}\n",
        "some_dict['marks']"
      ],
      "metadata": {
        "colab": {
          "base_uri": "https://localhost:8080/"
        },
        "id": "E3EIx1TbX6KR",
        "outputId": "154e177d-3090-4e78-fc1b-04f476815942"
      },
      "execution_count": 36,
      "outputs": [
        {
          "output_type": "execute_result",
          "data": {
            "text/plain": [
              "50"
            ]
          },
          "metadata": {},
          "execution_count": 36
        }
      ]
    },
    {
      "cell_type": "code",
      "source": [
        "sorted(students, key = lambda x:x['name'], reverse = True)"
      ],
      "metadata": {
        "colab": {
          "base_uri": "https://localhost:8080/"
        },
        "id": "IL8pCLWLXbmg",
        "outputId": "358463bd-4981-4cbd-8227-5f10f9947ea4"
      },
      "execution_count": 39,
      "outputs": [
        {
          "output_type": "execute_result",
          "data": {
            "text/plain": [
              "[{'name': 'E', 'marks': 60},\n",
              " {'name': 'D', 'marks': 70},\n",
              " {'name': 'C', 'marks': 40},\n",
              " {'name': 'B', 'marks': 100},\n",
              " {'name': 'A', 'marks': 50}]"
            ]
          },
          "metadata": {},
          "execution_count": 39
        }
      ]
    },
    {
      "cell_type": "code",
      "source": [
        "sorted(students, key = lambda some_dict:some_dict['name'], reverse = True)"
      ],
      "metadata": {
        "colab": {
          "base_uri": "https://localhost:8080/"
        },
        "id": "WvGpwCSeYHpG",
        "outputId": "1d4c7317-2f6f-4420-f2bd-08a1ff751b47"
      },
      "execution_count": 43,
      "outputs": [
        {
          "output_type": "execute_result",
          "data": {
            "text/plain": [
              "[{'name': 'E', 'marks': 60},\n",
              " {'name': 'D', 'marks': 70},\n",
              " {'name': 'C', 'marks': 40},\n",
              " {'name': 'B', 'marks': 100},\n",
              " {'name': 'A', 'marks': 50}]"
            ]
          },
          "metadata": {},
          "execution_count": 43
        }
      ]
    },
    {
      "cell_type": "code",
      "source": [],
      "metadata": {
        "id": "ouHzlEZ5YXHB"
      },
      "execution_count": 42,
      "outputs": []
    },
    {
      "cell_type": "markdown",
      "source": [
        "### HOF:"
      ],
      "metadata": {
        "id": "6bmpt5CnZTvk"
      }
    },
    {
      "cell_type": "code",
      "source": [
        "def gen_exp_func(n):\n",
        "    def exp(x):\n",
        "        return x**n\n",
        "    return exp # the outer function is return exp\n",
        "\n",
        "\n",
        "out_10 = gen_exp_func(10)\n",
        "type(out_10) # a function that takes x and return x**10"
      ],
      "metadata": {
        "colab": {
          "base_uri": "https://localhost:8080/"
        },
        "id": "8zwLW-NLYbgs",
        "outputId": "031362b1-fe24-4e25-99e9-b149a3c2e6b3"
      },
      "execution_count": 44,
      "outputs": [
        {
          "output_type": "execute_result",
          "data": {
            "text/plain": [
              "function"
            ]
          },
          "metadata": {},
          "execution_count": 44
        }
      ]
    },
    {
      "cell_type": "code",
      "source": [
        "out_10(2) # x**10"
      ],
      "metadata": {
        "colab": {
          "base_uri": "https://localhost:8080/"
        },
        "id": "zW_A0XYmZ4bM",
        "outputId": "cd2782e0-a985-405f-da15-a28b3e9b47f2"
      },
      "execution_count": 45,
      "outputs": [
        {
          "output_type": "execute_result",
          "data": {
            "text/plain": [
              "1024"
            ]
          },
          "metadata": {},
          "execution_count": 45
        }
      ]
    },
    {
      "cell_type": "code",
      "source": [
        "out_10(3) # x**10"
      ],
      "metadata": {
        "colab": {
          "base_uri": "https://localhost:8080/"
        },
        "id": "Lhfy_D48aG9H",
        "outputId": "7ca60272-423d-4781-d9b1-6980f53317b0"
      },
      "execution_count": 46,
      "outputs": [
        {
          "output_type": "execute_result",
          "data": {
            "text/plain": [
              "59049"
            ]
          },
          "metadata": {},
          "execution_count": 46
        }
      ]
    },
    {
      "cell_type": "code",
      "source": [
        "out_2 = gen_exp_func(2) # a function that takes x and return x**2\n",
        "out_2(3) # x**2"
      ],
      "metadata": {
        "colab": {
          "base_uri": "https://localhost:8080/"
        },
        "id": "rrvZHHTZaLVZ",
        "outputId": "70f4b345-a13a-48e8-883d-1c458ae607c3"
      },
      "execution_count": 47,
      "outputs": [
        {
          "output_type": "execute_result",
          "data": {
            "text/plain": [
              "9"
            ]
          },
          "metadata": {},
          "execution_count": 47
        }
      ]
    },
    {
      "cell_type": "code",
      "source": [
        "out_2(10) # x**2"
      ],
      "metadata": {
        "colab": {
          "base_uri": "https://localhost:8080/"
        },
        "id": "9R47-kZ_aVu_",
        "outputId": "ca47caec-4527-45db-f074-cae1ffa1b6fe"
      },
      "execution_count": 48,
      "outputs": [
        {
          "output_type": "execute_result",
          "data": {
            "text/plain": [
              "100"
            ]
          },
          "metadata": {},
          "execution_count": 48
        }
      ]
    },
    {
      "cell_type": "code",
      "source": [
        "def out_10(x):\n",
        "    return x**10\n",
        "\n",
        "def out_2(x):\n",
        "    return x**2"
      ],
      "metadata": {
        "id": "9TIYrYpDaXMC"
      },
      "execution_count": null,
      "outputs": []
    },
    {
      "cell_type": "markdown",
      "source": [
        "# RESUME@10:20\n"
      ],
      "metadata": {
        "id": "zjzX3VXDbv_u"
      }
    },
    {
      "cell_type": "code",
      "source": [
        "def foo():\n",
        "    print(\"Good Evening Everyone\")\n",
        "foo()"
      ],
      "metadata": {
        "colab": {
          "base_uri": "https://localhost:8080/"
        },
        "id": "b96PFaFfcKOl",
        "outputId": "0c5a37e5-8482-40b9-f5dd-6b2c684a7f60"
      },
      "execution_count": 49,
      "outputs": [
        {
          "output_type": "stream",
          "name": "stdout",
          "text": [
            "Good Evening Everyone\n"
          ]
        }
      ]
    },
    {
      "cell_type": "code",
      "source": [
        "def bar():\n",
        "    print(\"Bye All\")\n",
        "bar()"
      ],
      "metadata": {
        "colab": {
          "base_uri": "https://localhost:8080/"
        },
        "id": "IlYCrtaPettF",
        "outputId": "eda22cd9-1ddb-4c06-d6fc-a123464d1bc4"
      },
      "execution_count": 50,
      "outputs": [
        {
          "output_type": "stream",
          "name": "stdout",
          "text": [
            "Bye All\n"
          ]
        }
      ]
    },
    {
      "cell_type": "markdown",
      "source": [
        "### We want to add lines before and after the Message in above functions"
      ],
      "metadata": {
        "id": "2layk4Faez11"
      }
    },
    {
      "cell_type": "code",
      "source": [
        "def foo():\n",
        "    print(\"-\"*50)\n",
        "    print(\"Good Evening Everyone\")\n",
        "    print(\"-\"*50)\n",
        "foo()"
      ],
      "metadata": {
        "colab": {
          "base_uri": "https://localhost:8080/"
        },
        "id": "uRww1TQcext-",
        "outputId": "d9475bad-66ad-4011-dee8-5816e9dbc9cf"
      },
      "execution_count": 51,
      "outputs": [
        {
          "output_type": "stream",
          "name": "stdout",
          "text": [
            "--------------------------------------------------\n",
            "Good Evening Everyone\n",
            "--------------------------------------------------\n"
          ]
        }
      ]
    },
    {
      "cell_type": "code",
      "source": [
        "def bar():\n",
        "    print(\"-\"*50)\n",
        "    print(\"Bye All\")\n",
        "    print(\"-\"*50)\n",
        "bar()"
      ],
      "metadata": {
        "colab": {
          "base_uri": "https://localhost:8080/"
        },
        "id": "AgKZ5Pe8e85i",
        "outputId": "a3fb049c-9bb4-45ef-d2c4-9c82c9de467b"
      },
      "execution_count": 52,
      "outputs": [
        {
          "output_type": "stream",
          "name": "stdout",
          "text": [
            "--------------------------------------------------\n",
            "Bye All\n",
            "--------------------------------------------------\n"
          ]
        }
      ]
    },
    {
      "cell_type": "markdown",
      "source": [
        "BETTER WAY: Utilise Decorators"
      ],
      "metadata": {
        "id": "1hwZSZ4WfI_V"
      }
    },
    {
      "cell_type": "code",
      "source": [
        "def foo():\n",
        "    print(\"Good Evening Everyone\")\n",
        "foo()\n",
        "def bar():\n",
        "    print(\"Bye All\")\n",
        "bar()"
      ],
      "metadata": {
        "colab": {
          "base_uri": "https://localhost:8080/"
        },
        "id": "RlN933g9fOna",
        "outputId": "dead2e60-0f46-4788-84ec-eabed496fdd7"
      },
      "execution_count": 53,
      "outputs": [
        {
          "output_type": "stream",
          "name": "stdout",
          "text": [
            "Good Evening Everyone\n",
            "Bye All\n"
          ]
        }
      ]
    },
    {
      "cell_type": "code",
      "source": [
        "def prettify(func): # takes func as input\n",
        "    def inner():\n",
        "        print(\"-\"*50)\n",
        "        func()\n",
        "        print(\"-\"*50)\n",
        "    return inner # return another function"
      ],
      "metadata": {
        "id": "-iOG1FSOfDu2"
      },
      "execution_count": 56,
      "outputs": []
    },
    {
      "cell_type": "code",
      "source": [
        "foo()"
      ],
      "metadata": {
        "colab": {
          "base_uri": "https://localhost:8080/"
        },
        "id": "D-Xrx5Dnfa2B",
        "outputId": "56d93633-13f2-4a8f-fa6d-43438211637f"
      },
      "execution_count": 57,
      "outputs": [
        {
          "output_type": "stream",
          "name": "stdout",
          "text": [
            "Good Evening Everyone\n"
          ]
        }
      ]
    },
    {
      "cell_type": "code",
      "source": [
        "foo2 = prettify(foo) # decorating foo\n",
        "type(foo2)"
      ],
      "metadata": {
        "colab": {
          "base_uri": "https://localhost:8080/"
        },
        "id": "nKg5DQm8fl6d",
        "outputId": "417d4723-814a-4e65-f60d-981584754601"
      },
      "execution_count": 58,
      "outputs": [
        {
          "output_type": "execute_result",
          "data": {
            "text/plain": [
              "function"
            ]
          },
          "metadata": {},
          "execution_count": 58
        }
      ]
    },
    {
      "cell_type": "code",
      "source": [
        "foo2()"
      ],
      "metadata": {
        "colab": {
          "base_uri": "https://localhost:8080/"
        },
        "id": "Xj0F6DCufxU_",
        "outputId": "23ca0a75-34b5-4092-9191-8da8937fadd1"
      },
      "execution_count": 59,
      "outputs": [
        {
          "output_type": "stream",
          "name": "stdout",
          "text": [
            "--------------------------------------------------\n",
            "Good Evening Everyone\n",
            "--------------------------------------------------\n"
          ]
        }
      ]
    },
    {
      "cell_type": "code",
      "source": [
        "bar2 = prettify(bar) # decorating bar\n",
        "bar2()"
      ],
      "metadata": {
        "colab": {
          "base_uri": "https://localhost:8080/"
        },
        "id": "rbZ4aVOef1OM",
        "outputId": "1d0e0a2e-bfe7-4f77-acb5-00633c0e9f56"
      },
      "execution_count": 61,
      "outputs": [
        {
          "output_type": "stream",
          "name": "stdout",
          "text": [
            "--------------------------------------------------\n",
            "Bye All\n",
            "--------------------------------------------------\n"
          ]
        }
      ]
    },
    {
      "cell_type": "code",
      "source": [
        "\n",
        "def kamlesh():\n",
        "    print(\"Life is Good\")\n",
        "    print(\"really Good\")\n",
        "kamlesh()"
      ],
      "metadata": {
        "colab": {
          "base_uri": "https://localhost:8080/"
        },
        "id": "5dSW5O1ef5s6",
        "outputId": "4f232edd-5333-455b-9ed9-2a9a80ca8d9e"
      },
      "execution_count": 72,
      "outputs": [
        {
          "output_type": "stream",
          "name": "stdout",
          "text": [
            "Life is Good\n",
            "really Good\n"
          ]
        }
      ]
    },
    {
      "cell_type": "code",
      "source": [
        "kamlesh = prettify(kamlesh) # decorating kamlesh\n",
        "kamlesh()"
      ],
      "metadata": {
        "colab": {
          "base_uri": "https://localhost:8080/"
        },
        "id": "9HzNmrNegNIA",
        "outputId": "a299a71f-6d56-4cc3-c1a9-94fe8d43d80d"
      },
      "execution_count": 73,
      "outputs": [
        {
          "output_type": "stream",
          "name": "stdout",
          "text": [
            "--------------------------------------------------\n",
            "Life is Good\n",
            "really Good\n",
            "--------------------------------------------------\n"
          ]
        }
      ]
    },
    {
      "cell_type": "code",
      "source": [
        "@prettify\n",
        "def Vimlesh():\n",
        "    print(\"Life is Good\")\n",
        "    print(\"really Good\")\n",
        "Vimlesh()"
      ],
      "metadata": {
        "colab": {
          "base_uri": "https://localhost:8080/"
        },
        "id": "BkJIJtzAgq2m",
        "outputId": "b41998c6-1889-44f5-8408-702f269bebc8"
      },
      "execution_count": 74,
      "outputs": [
        {
          "output_type": "stream",
          "name": "stdout",
          "text": [
            "--------------------------------------------------\n",
            "Life is Good\n",
            "really Good\n",
            "--------------------------------------------------\n"
          ]
        }
      ]
    },
    {
      "cell_type": "code",
      "source": [
        "def prettify1(func): # takes func as input\n",
        "    def inner():\n",
        "        print(\"-\"*50)\n",
        "        func()\n",
        "        print(\"-\"*50)\n",
        "    return inner\n",
        "\n",
        "def prettify2(func): # takes func as input\n",
        "    def inner():\n",
        "        print(\"#\"*50)\n",
        "        func()\n",
        "        print(\"#\"*50)\n",
        "    return inner\n",
        "\n",
        "@prettify2\n",
        "@prettify1\n",
        "def Vimlesh():\n",
        "    print(\"Life is Good\")\n",
        "    print(\"really Good\")\n",
        "Vimlesh()"
      ],
      "metadata": {
        "colab": {
          "base_uri": "https://localhost:8080/"
        },
        "id": "FvHF7EUagwsl",
        "outputId": "061a4967-75c8-40ae-f657-48ccad9f373f"
      },
      "execution_count": 75,
      "outputs": [
        {
          "output_type": "stream",
          "name": "stdout",
          "text": [
            "##################################################\n",
            "--------------------------------------------------\n",
            "Life is Good\n",
            "really Good\n",
            "--------------------------------------------------\n",
            "##################################################\n"
          ]
        }
      ]
    },
    {
      "cell_type": "code",
      "source": [],
      "metadata": {
        "id": "hSA5_4KuhM1n"
      },
      "execution_count": null,
      "outputs": []
    }
  ]
}