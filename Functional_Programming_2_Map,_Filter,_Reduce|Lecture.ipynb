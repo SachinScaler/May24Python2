{
  "nbformat": 4,
  "nbformat_minor": 0,
  "metadata": {
    "colab": {
      "provenance": [],
      "authorship_tag": "ABX9TyN5t1SzTZ64ldYbsl7l8Jw6",
      "include_colab_link": true
    },
    "kernelspec": {
      "name": "python3",
      "display_name": "Python 3"
    },
    "language_info": {
      "name": "python"
    }
  },
  "cells": [
    {
      "cell_type": "markdown",
      "metadata": {
        "id": "view-in-github",
        "colab_type": "text"
      },
      "source": [
        "<a href=\"https://colab.research.google.com/github/SachinScaler/PythonModule2May24/blob/main/Functional_Programming_2_Map%2C_Filter%2C_Reduce%7CLecture.ipynb\" target=\"_parent\"><img src=\"https://colab.research.google.com/assets/colab-badge.svg\" alt=\"Open In Colab\"/></a>"
      ]
    },
    {
      "cell_type": "markdown",
      "source": [
        "Convert the given heights from a list into to t-shirt sizes.\n",
        "\"\n"
      ],
      "metadata": {
        "id": "hHF04t3uqM5Q"
      }
    },
    {
      "cell_type": "code",
      "source": [
        "list1 = [1,2,3,4,5]\n",
        "\n",
        "out = map(lambda x: x**2, list1)\n",
        "print(out)"
      ],
      "metadata": {
        "colab": {
          "base_uri": "https://localhost:8080/"
        },
        "id": "jpIZzXMWs5iV",
        "outputId": "83b57873-31ab-49d6-f22d-dff45c3b214d"
      },
      "execution_count": 2,
      "outputs": [
        {
          "output_type": "stream",
          "name": "stdout",
          "text": [
            "<map object at 0x79bd822e7b80>\n"
          ]
        }
      ]
    },
    {
      "cell_type": "code",
      "source": [
        "for i in map(lambda x: x**2, list1):\n",
        "    print(i)"
      ],
      "metadata": {
        "colab": {
          "base_uri": "https://localhost:8080/"
        },
        "id": "p5CB_2_as5fz",
        "outputId": "7efab982-d0ea-44c0-ca64-b522462e0e37"
      },
      "execution_count": 3,
      "outputs": [
        {
          "output_type": "stream",
          "name": "stdout",
          "text": [
            "1\n",
            "4\n",
            "9\n",
            "16\n",
            "25\n"
          ]
        }
      ]
    },
    {
      "cell_type": "code",
      "source": [
        "out = list(map(lambda x: x**2, list1))\n",
        "print(out)"
      ],
      "metadata": {
        "colab": {
          "base_uri": "https://localhost:8080/"
        },
        "id": "Wp1ai_cQs5dY",
        "outputId": "d1ae425b-901c-47dc-cea8-0adbc62125c1"
      },
      "execution_count": 7,
      "outputs": [
        {
          "output_type": "stream",
          "name": "stdout",
          "text": [
            "[1, 4, 9, 16, 25]\n"
          ]
        }
      ]
    },
    {
      "cell_type": "code",
      "source": [
        "nums = \"1 2 3 4 5\"\n",
        "nums.split()"
      ],
      "metadata": {
        "colab": {
          "base_uri": "https://localhost:8080/"
        },
        "id": "G2RIN-72s5bF",
        "outputId": "902a01dd-5845-453e-c33a-0125c5eb0ca5"
      },
      "execution_count": 8,
      "outputs": [
        {
          "output_type": "execute_result",
          "data": {
            "text/plain": [
              "['1', '2', '3', '4', '5']"
            ]
          },
          "metadata": {},
          "execution_count": 8
        }
      ]
    },
    {
      "cell_type": "code",
      "source": [
        "list(map(int, nums.split()))"
      ],
      "metadata": {
        "colab": {
          "base_uri": "https://localhost:8080/"
        },
        "id": "uaoiYXVHtU1A",
        "outputId": "fd101a30-b898-4aa2-e1be-ab749701c888"
      },
      "execution_count": 10,
      "outputs": [
        {
          "output_type": "execute_result",
          "data": {
            "text/plain": [
              "[1, 2, 3, 4, 5]"
            ]
          },
          "metadata": {},
          "execution_count": 10
        }
      ]
    },
    {
      "cell_type": "code",
      "source": [
        "list(map(int, input().split()))"
      ],
      "metadata": {
        "colab": {
          "base_uri": "https://localhost:8080/"
        },
        "id": "vwa7Fd1wtUyE",
        "outputId": "2221405d-de0d-4b1d-cb51-049fdc8f1979"
      },
      "execution_count": 11,
      "outputs": [
        {
          "name": "stdout",
          "output_type": "stream",
          "text": [
            "1 2 3 4 5\n"
          ]
        },
        {
          "output_type": "execute_result",
          "data": {
            "text/plain": [
              "[1, 2, 3, 4, 5]"
            ]
          },
          "metadata": {},
          "execution_count": 11
        }
      ]
    },
    {
      "cell_type": "code",
      "execution_count": 1,
      "metadata": {
        "id": "HkKIACKeohJn"
      },
      "outputs": [],
      "source": [
        "heights = [144, 167, 189, 170, 190, 150, 165, 178, 200, 130]\n",
        "# ['S', 'M', 'L', 'M', 'L', 'M', 'M', 'M', 'L', 'S']\n",
        "\n",
        "def cm_size(h):\n",
        "    pass\n",
        "    \"\"\"\n",
        "    * h < 150 → S\n",
        "\n",
        "    * h >= 150 and h < 180 → M\n",
        "\n",
        "    * h >= 180 → L\n",
        "\n",
        "    return size\n",
        "    \"\"\"\n",
        "\n",
        "list_size = []\n",
        "for i in heights:\n",
        "    size = cm_size(i)\n",
        "    list_size.append(size)"
      ]
    },
    {
      "cell_type": "code",
      "source": [
        "heights = [144, 167, 189, 170, 190, 150, 165, 178, 200, 130]\n",
        "\n",
        "list(map(lambda x: \"S\" if x<150 else \"M\" if x >= 150  and  x<180 else \"L\", heights))"
      ],
      "metadata": {
        "colab": {
          "base_uri": "https://localhost:8080/"
        },
        "id": "JMPPnlYzqsCw",
        "outputId": "907f84d9-ccad-4ba6-8846-2cdca1d39cc9"
      },
      "execution_count": 14,
      "outputs": [
        {
          "output_type": "execute_result",
          "data": {
            "text/plain": [
              "['S', 'M', 'L', 'M', 'L', 'M', 'M', 'M', 'L', 'S']"
            ]
          },
          "metadata": {},
          "execution_count": 14
        }
      ]
    },
    {
      "cell_type": "code",
      "source": [
        "def cm_size(h):\n",
        "    pass\n",
        "    \"\"\"\n",
        "    if * h < 150 → S\n",
        "\n",
        "    elif * h >= 150 and h < 180 → M\n",
        "\n",
        "    else * h >= 180 → L\n",
        "\n",
        "    return size\n",
        "    \"\"\"\n",
        "\n",
        "(lambda x: \"S\" if x<150 else \"M\" if x >= 150  and  x<180 else \"L\")(180)"
      ],
      "metadata": {
        "colab": {
          "base_uri": "https://localhost:8080/",
          "height": 56
        },
        "id": "6ALmV4SuuDy6",
        "outputId": "7f4ce5dd-8085-495b-9386-ad18b7f15c0f"
      },
      "execution_count": 13,
      "outputs": [
        {
          "output_type": "execute_result",
          "data": {
            "text/plain": [
              "'L'"
            ],
            "application/vnd.google.colaboratory.intrinsic+json": {
              "type": "string"
            }
          },
          "metadata": {},
          "execution_count": 13
        }
      ]
    },
    {
      "cell_type": "markdown",
      "source": [
        "### Given two lists A and B having 1s and 0s, find another list with element at index i as True if A[i] == B[i] else False.\n"
      ],
      "metadata": {
        "id": "4OucvPcwu5Bm"
      }
    },
    {
      "cell_type": "code",
      "source": [
        "A = [1,0,0,1,1,1,0,0,0,1,0,1]\n",
        "B = [0,0,1,1,0,1,1,1,0,0,0,0]\n",
        "\n",
        "# C = [False, True, False,True....... ]\n",
        "\n",
        "list(map(lambda x,y: x==y, A, B))"
      ],
      "metadata": {
        "colab": {
          "base_uri": "https://localhost:8080/"
        },
        "id": "Bl3Y8m3GuoM-",
        "outputId": "4b2d98ac-9a70-46c4-fe48-cc8ffb6e1462"
      },
      "execution_count": 16,
      "outputs": [
        {
          "output_type": "execute_result",
          "data": {
            "text/plain": [
              "[False, True, False, True, False, True, False, False, True, False, True, False]"
            ]
          },
          "metadata": {},
          "execution_count": 16
        }
      ]
    },
    {
      "cell_type": "markdown",
      "source": [
        "- map is slight faster then standard loops"
      ],
      "metadata": {
        "id": "pNiMtHGTvl5d"
      }
    },
    {
      "cell_type": "markdown",
      "source": [
        "### Filter"
      ],
      "metadata": {
        "id": "G3kUAadexrOR"
      }
    },
    {
      "cell_type": "code",
      "source": [
        "list1 = [1,2,3,4,5]\n",
        "\n",
        "out = list(filter(lambda x: x%2==0, list1))\n",
        "print(out)"
      ],
      "metadata": {
        "colab": {
          "base_uri": "https://localhost:8080/"
        },
        "id": "kJosvKFXvcJF",
        "outputId": "4e3d54bf-a54c-4ffb-fc18-fe20c55727db"
      },
      "execution_count": 19,
      "outputs": [
        {
          "output_type": "stream",
          "name": "stdout",
          "text": [
            "[2, 4]\n"
          ]
        }
      ]
    },
    {
      "cell_type": "markdown",
      "source": [
        "- student = [names]\n",
        "- scores = [numbers]"
      ],
      "metadata": {
        "id": "ptuS2UugyTF2"
      }
    },
    {
      "cell_type": "code",
      "source": [
        "a = [1,2,3]\n",
        "b = [\"a\", \"b\", \"c\", \"d\", \"e\"]\n",
        "\n",
        "\n",
        "list(zip(a,b))"
      ],
      "metadata": {
        "colab": {
          "base_uri": "https://localhost:8080/"
        },
        "id": "KwqFpqn5xuoY",
        "outputId": "191cd93f-6048-4c80-f374-7a5d5a1caca9"
      },
      "execution_count": 20,
      "outputs": [
        {
          "output_type": "execute_result",
          "data": {
            "text/plain": [
              "[(1, 'a'), (2, 'b'), (3, 'c')]"
            ]
          },
          "metadata": {},
          "execution_count": 20
        }
      ]
    },
    {
      "cell_type": "code",
      "source": [
        "dict(zip(a,b))"
      ],
      "metadata": {
        "colab": {
          "base_uri": "https://localhost:8080/"
        },
        "id": "JCKu6S2t0fgZ",
        "outputId": "c2400c95-3267-4268-dc2e-413f18f6a40f"
      },
      "execution_count": 21,
      "outputs": [
        {
          "output_type": "execute_result",
          "data": {
            "text/plain": [
              "{1: 'a', 2: 'b', 3: 'c'}"
            ]
          },
          "metadata": {},
          "execution_count": 21
        }
      ]
    },
    {
      "cell_type": "code",
      "source": [
        "a = [1,2,3]\n",
        "b = [\"a\", \"b\", \"c\", \"d\", \"e\"]\n",
        "c = [\"x\", \"y\", \"z\", \"m\", \"n\", \"k\"]\n",
        "\n",
        "list(zip(a,b,c))"
      ],
      "metadata": {
        "colab": {
          "base_uri": "https://localhost:8080/"
        },
        "id": "tSllMGcp0haj",
        "outputId": "f973119b-0cdb-44eb-df2e-f8d3eb125fc3"
      },
      "execution_count": 22,
      "outputs": [
        {
          "output_type": "execute_result",
          "data": {
            "text/plain": [
              "[(1, 'a', 'x'), (2, 'b', 'y'), (3, 'c', 'z')]"
            ]
          },
          "metadata": {},
          "execution_count": 22
        }
      ]
    },
    {
      "cell_type": "markdown",
      "source": [
        "reduce , * args, **kwargs"
      ],
      "metadata": {
        "id": "pBX36eND1Cc5"
      }
    },
    {
      "cell_type": "code",
      "source": [
        "a = [1,2,3,4,5]\n",
        "\n",
        "result = reduce(lambda x, y: x + y, a)\n",
        "result"
      ],
      "metadata": {
        "colab": {
          "base_uri": "https://localhost:8080/",
          "height": 208
        },
        "id": "2ZHNarWw3eI0",
        "outputId": "38fdac4f-299b-49a9-c389-a74698f9f5ce"
      },
      "execution_count": 24,
      "outputs": [
        {
          "output_type": "error",
          "ename": "NameError",
          "evalue": "name 'reduce' is not defined",
          "traceback": [
            "\u001b[0;31m---------------------------------------------------------------------------\u001b[0m",
            "\u001b[0;31mNameError\u001b[0m                                 Traceback (most recent call last)",
            "\u001b[0;32m<ipython-input-24-0e0b72a28d1f>\u001b[0m in \u001b[0;36m<cell line: 3>\u001b[0;34m()\u001b[0m\n\u001b[1;32m      1\u001b[0m \u001b[0ma\u001b[0m \u001b[0;34m=\u001b[0m \u001b[0;34m[\u001b[0m\u001b[0;36m1\u001b[0m\u001b[0;34m,\u001b[0m\u001b[0;36m2\u001b[0m\u001b[0;34m,\u001b[0m\u001b[0;36m3\u001b[0m\u001b[0;34m,\u001b[0m\u001b[0;36m4\u001b[0m\u001b[0;34m,\u001b[0m\u001b[0;36m5\u001b[0m\u001b[0;34m]\u001b[0m\u001b[0;34m\u001b[0m\u001b[0;34m\u001b[0m\u001b[0m\n\u001b[1;32m      2\u001b[0m \u001b[0;34m\u001b[0m\u001b[0m\n\u001b[0;32m----> 3\u001b[0;31m \u001b[0mresult\u001b[0m \u001b[0;34m=\u001b[0m \u001b[0mreduce\u001b[0m\u001b[0;34m(\u001b[0m\u001b[0;32mlambda\u001b[0m \u001b[0mx\u001b[0m\u001b[0;34m,\u001b[0m \u001b[0my\u001b[0m\u001b[0;34m:\u001b[0m \u001b[0mx\u001b[0m \u001b[0;34m+\u001b[0m \u001b[0my\u001b[0m\u001b[0;34m,\u001b[0m \u001b[0ma\u001b[0m\u001b[0;34m)\u001b[0m\u001b[0;34m\u001b[0m\u001b[0;34m\u001b[0m\u001b[0m\n\u001b[0m\u001b[1;32m      4\u001b[0m \u001b[0mresult\u001b[0m\u001b[0;34m\u001b[0m\u001b[0;34m\u001b[0m\u001b[0m\n",
            "\u001b[0;31mNameError\u001b[0m: name 'reduce' is not defined"
          ]
        }
      ]
    },
    {
      "cell_type": "code",
      "source": [
        "from functools import reduce\n",
        "\n",
        "a = [1,2,3,4,5]\n",
        "result = reduce(lambda x, y: x + y, a)\n",
        "result"
      ],
      "metadata": {
        "colab": {
          "base_uri": "https://localhost:8080/"
        },
        "id": "dKIFsKQ006-q",
        "outputId": "2692864e-0af7-4da4-93d6-fe5cc32c9f8b"
      },
      "execution_count": 26,
      "outputs": [
        {
          "output_type": "execute_result",
          "data": {
            "text/plain": [
              "15"
            ]
          },
          "metadata": {},
          "execution_count": 26
        }
      ]
    },
    {
      "cell_type": "code",
      "source": [
        "result = reduce(lambda x, y: x * y, a)\n",
        "result"
      ],
      "metadata": {
        "colab": {
          "base_uri": "https://localhost:8080/"
        },
        "id": "HFUV36oA3Wwu",
        "outputId": "d2609bfd-151b-4da0-d5b8-db7079192d8e"
      },
      "execution_count": 27,
      "outputs": [
        {
          "output_type": "execute_result",
          "data": {
            "text/plain": [
              "120"
            ]
          },
          "metadata": {},
          "execution_count": 27
        }
      ]
    },
    {
      "cell_type": "code",
      "source": [
        "result = reduce(lambda x, y: x + y, a , 100)\n",
        "result"
      ],
      "metadata": {
        "colab": {
          "base_uri": "https://localhost:8080/"
        },
        "id": "jMpuhuy73kRD",
        "outputId": "c8437e8d-1d71-4ed4-f906-634d29bb23db"
      },
      "execution_count": 28,
      "outputs": [
        {
          "output_type": "execute_result",
          "data": {
            "text/plain": [
              "115"
            ]
          },
          "metadata": {},
          "execution_count": 28
        }
      ]
    },
    {
      "cell_type": "markdown",
      "source": [
        "## Args and Kwargs\n",
        "Create a function that gives you the sum the input provided.\n",
        "\n",
        "**should take at least - 2 arguments\n",
        "or more then 2 args and returns sum of all**"
      ],
      "metadata": {
        "id": "UngnVfWk5_CR"
      }
    },
    {
      "cell_type": "code",
      "source": [
        "def sum_numbers(x,y):\n",
        "    print(\"x\", x)\n",
        "    print(\"y\", y)\n",
        "    return x+y"
      ],
      "metadata": {
        "id": "ouH2ERSi3zz8"
      },
      "execution_count": 32,
      "outputs": []
    },
    {
      "cell_type": "code",
      "source": [
        "sum_numbers(10,9) # positional arguments"
      ],
      "metadata": {
        "colab": {
          "base_uri": "https://localhost:8080/"
        },
        "id": "b-r4hueh6EFa",
        "outputId": "09c55e2b-e796-4973-bfc5-3f4053bee64c"
      },
      "execution_count": 33,
      "outputs": [
        {
          "output_type": "stream",
          "name": "stdout",
          "text": [
            "x 10\n",
            "y 9\n"
          ]
        },
        {
          "output_type": "execute_result",
          "data": {
            "text/plain": [
              "19"
            ]
          },
          "metadata": {},
          "execution_count": 33
        }
      ]
    },
    {
      "cell_type": "code",
      "source": [
        "sum_numbers(9,10) # positional arguments"
      ],
      "metadata": {
        "colab": {
          "base_uri": "https://localhost:8080/"
        },
        "id": "e2sbpinp6Tf3",
        "outputId": "bba5015b-df3b-4ff1-eab8-5e1127b32975"
      },
      "execution_count": 34,
      "outputs": [
        {
          "output_type": "stream",
          "name": "stdout",
          "text": [
            "x 9\n",
            "y 10\n"
          ]
        },
        {
          "output_type": "execute_result",
          "data": {
            "text/plain": [
              "19"
            ]
          },
          "metadata": {},
          "execution_count": 34
        }
      ]
    },
    {
      "cell_type": "code",
      "source": [
        "sum_numbers(y=9, x=10) # keyword arguments"
      ],
      "metadata": {
        "colab": {
          "base_uri": "https://localhost:8080/"
        },
        "id": "gpmYbQQ46b8s",
        "outputId": "7bcb36b0-09dc-4380-f1b3-74d7f020b2f6"
      },
      "execution_count": 35,
      "outputs": [
        {
          "output_type": "stream",
          "name": "stdout",
          "text": [
            "x 10\n",
            "y 9\n"
          ]
        },
        {
          "output_type": "execute_result",
          "data": {
            "text/plain": [
              "19"
            ]
          },
          "metadata": {},
          "execution_count": 35
        }
      ]
    },
    {
      "cell_type": "code",
      "source": [
        "sum_numbers(10,9,6) # func: without arbitrary args"
      ],
      "metadata": {
        "colab": {
          "base_uri": "https://localhost:8080/",
          "height": 158
        },
        "id": "w9yH1iu96kDm",
        "outputId": "0351fcb8-ce69-4449-b212-cd4ec4527f06"
      },
      "execution_count": 36,
      "outputs": [
        {
          "output_type": "error",
          "ename": "TypeError",
          "evalue": "sum_numbers() takes 2 positional arguments but 3 were given",
          "traceback": [
            "\u001b[0;31m---------------------------------------------------------------------------\u001b[0m",
            "\u001b[0;31mTypeError\u001b[0m                                 Traceback (most recent call last)",
            "\u001b[0;32m<ipython-input-36-c117a11641ae>\u001b[0m in \u001b[0;36m<cell line: 1>\u001b[0;34m()\u001b[0m\n\u001b[0;32m----> 1\u001b[0;31m \u001b[0msum_numbers\u001b[0m\u001b[0;34m(\u001b[0m\u001b[0;36m10\u001b[0m\u001b[0;34m,\u001b[0m\u001b[0;36m9\u001b[0m\u001b[0;34m,\u001b[0m\u001b[0;36m6\u001b[0m\u001b[0;34m)\u001b[0m \u001b[0;31m# func: without arbitrary args\u001b[0m\u001b[0;34m\u001b[0m\u001b[0;34m\u001b[0m\u001b[0m\n\u001b[0m",
            "\u001b[0;31mTypeError\u001b[0m: sum_numbers() takes 2 positional arguments but 3 were given"
          ]
        }
      ]
    },
    {
      "cell_type": "code",
      "source": [
        "# arbitray arguments\n",
        "def sum_numbers(x,y, *z):\n",
        "    print(\"x\", x)\n",
        "    print(\"y\", y)\n",
        "    print(\"z\", z)\n",
        "    return x+y\n",
        "\n",
        "\n",
        "sum_numbers(6,10)"
      ],
      "metadata": {
        "colab": {
          "base_uri": "https://localhost:8080/"
        },
        "id": "2YPP4STr6yBU",
        "outputId": "f8ee4af3-84fb-4099-e5e4-0624682962f7"
      },
      "execution_count": 38,
      "outputs": [
        {
          "output_type": "stream",
          "name": "stdout",
          "text": [
            "x 6\n",
            "y 10\n",
            "z ()\n"
          ]
        },
        {
          "output_type": "execute_result",
          "data": {
            "text/plain": [
              "16"
            ]
          },
          "metadata": {},
          "execution_count": 38
        }
      ]
    },
    {
      "cell_type": "code",
      "source": [
        "sum_numbers(6,10, 11)"
      ],
      "metadata": {
        "colab": {
          "base_uri": "https://localhost:8080/"
        },
        "id": "s01QxyrX64MU",
        "outputId": "d4dd2b0f-b3e5-478e-8af8-9119f9b952fc"
      },
      "execution_count": 39,
      "outputs": [
        {
          "output_type": "stream",
          "name": "stdout",
          "text": [
            "x 6\n",
            "y 10\n",
            "z (11,)\n"
          ]
        },
        {
          "output_type": "execute_result",
          "data": {
            "text/plain": [
              "16"
            ]
          },
          "metadata": {},
          "execution_count": 39
        }
      ]
    },
    {
      "cell_type": "code",
      "source": [
        "sum_numbers(6,10, 11 , 14, -1, 888)"
      ],
      "metadata": {
        "colab": {
          "base_uri": "https://localhost:8080/"
        },
        "id": "d3NryknN7NCS",
        "outputId": "03e16962-b8e4-4c9a-9d68-2eac20628a9f"
      },
      "execution_count": 40,
      "outputs": [
        {
          "output_type": "stream",
          "name": "stdout",
          "text": [
            "x 6\n",
            "y 10\n",
            "z (11, 14, -1, 888)\n"
          ]
        },
        {
          "output_type": "execute_result",
          "data": {
            "text/plain": [
              "16"
            ]
          },
          "metadata": {},
          "execution_count": 40
        }
      ]
    },
    {
      "cell_type": "code",
      "source": [
        "def sum_numbers(x,y, *args):\n",
        "    sum = x + y\n",
        "    print(\"args\", type(args))\n",
        "    for i in args:\n",
        "        sum += i\n",
        "    return sum\n",
        "\n",
        "\n",
        "sum_numbers(2,3)"
      ],
      "metadata": {
        "colab": {
          "base_uri": "https://localhost:8080/"
        },
        "id": "qMYT3baP7VH7",
        "outputId": "81b4a8fe-21f2-4acc-b6de-24275ebc6800"
      },
      "execution_count": 46,
      "outputs": [
        {
          "output_type": "stream",
          "name": "stdout",
          "text": [
            "args <class 'tuple'>\n"
          ]
        },
        {
          "output_type": "execute_result",
          "data": {
            "text/plain": [
              "5"
            ]
          },
          "metadata": {},
          "execution_count": 46
        }
      ]
    },
    {
      "cell_type": "code",
      "source": [
        "sum_numbers(2,3,5) # x =2 , y = 3, args = (5,)"
      ],
      "metadata": {
        "colab": {
          "base_uri": "https://localhost:8080/"
        },
        "id": "Xu7P-2lu7jgA",
        "outputId": "7390a96d-8223-4624-fc72-9a4b1194fe97"
      },
      "execution_count": 47,
      "outputs": [
        {
          "output_type": "stream",
          "name": "stdout",
          "text": [
            "args <class 'tuple'>\n"
          ]
        },
        {
          "output_type": "execute_result",
          "data": {
            "text/plain": [
              "10"
            ]
          },
          "metadata": {},
          "execution_count": 47
        }
      ]
    },
    {
      "cell_type": "code",
      "source": [
        "sum_numbers(2,3,5, 10,11) # x =2 , y = 3, args = (5,10,11)"
      ],
      "metadata": {
        "colab": {
          "base_uri": "https://localhost:8080/"
        },
        "id": "FzD7H8Vc8JqS",
        "outputId": "1bb4551a-3c38-457c-f0b1-ec109fdd2e12"
      },
      "execution_count": 48,
      "outputs": [
        {
          "output_type": "stream",
          "name": "stdout",
          "text": [
            "args <class 'tuple'>\n"
          ]
        },
        {
          "output_type": "execute_result",
          "data": {
            "text/plain": [
              "31"
            ]
          },
          "metadata": {},
          "execution_count": 48
        }
      ]
    },
    {
      "cell_type": "code",
      "source": [
        "def some_funct(x,y, **kwargs):\n",
        "    print(\"x\", x)\n",
        "    print(\"y\", y)\n",
        "    print(\"kwargs\", kwargs)\n",
        "\n",
        "\n",
        "some_funct(5,6,z = 9 , i=10)"
      ],
      "metadata": {
        "colab": {
          "base_uri": "https://localhost:8080/"
        },
        "id": "Rs6TlfJM8LBw",
        "outputId": "de796252-9888-4d56-d438-e2a0ffb23e38"
      },
      "execution_count": 51,
      "outputs": [
        {
          "output_type": "stream",
          "name": "stdout",
          "text": [
            "x 5\n",
            "y 6\n",
            "kwargs {'z': 9, 'i': 10}\n"
          ]
        }
      ]
    },
    {
      "cell_type": "code",
      "source": [
        "def create_person(name, age, gender, **extra_info):\n",
        "    Person = {\n",
        "        \"name\": name,\n",
        "        \"age\": age,\n",
        "        \"gender\": gender\n",
        "    }\n",
        "\n",
        "    if extra_info:\n",
        "        Person.update(extra_info)\n",
        "\n",
        "    return Person\n",
        "\n",
        "create_person(name = \"Rohit\", age = 30, gender = \"Male\")"
      ],
      "metadata": {
        "colab": {
          "base_uri": "https://localhost:8080/"
        },
        "id": "0-CKefk19aif",
        "outputId": "53e12fa7-c521-493f-e523-4dfec3433f1d"
      },
      "execution_count": 56,
      "outputs": [
        {
          "output_type": "execute_result",
          "data": {
            "text/plain": [
              "{'name': 'Rohit', 'age': 30, 'gender': 'Male'}"
            ]
          },
          "metadata": {},
          "execution_count": 56
        }
      ]
    },
    {
      "cell_type": "code",
      "source": [
        "create_person(name = \"Rohit\", age = 30, gender = \"Male\", color = \"blue\", hobby = \"chess\")"
      ],
      "metadata": {
        "colab": {
          "base_uri": "https://localhost:8080/"
        },
        "id": "2QmM0SEH92uf",
        "outputId": "e1c9ba1b-5343-4e7b-a349-ca0f4058ca99"
      },
      "execution_count": 57,
      "outputs": [
        {
          "output_type": "execute_result",
          "data": {
            "text/plain": [
              "{'name': 'Rohit',\n",
              " 'age': 30,\n",
              " 'gender': 'Male',\n",
              " 'color': 'blue',\n",
              " 'hobby': 'chess'}"
            ]
          },
          "metadata": {},
          "execution_count": 57
        }
      ]
    },
    {
      "cell_type": "code",
      "source": [
        "def random(x, y, *args,def_ar=10, **kwargs):\n",
        "    print(x)\n",
        "    print(args)\n",
        "    print(kwargs)\n",
        "\n",
        "random(1,2,4,5,6,m=1,n=2,o=3,8,9,0)"
      ],
      "metadata": {
        "colab": {
          "base_uri": "https://localhost:8080/",
          "height": 124
        },
        "id": "ij65JkiW99Xn",
        "outputId": "80faca91-4525-4f52-acf4-bb2a19b5382c"
      },
      "execution_count": 61,
      "outputs": [
        {
          "output_type": "error",
          "ename": "SyntaxError",
          "evalue": "positional argument follows keyword argument (<ipython-input-61-efe5583386e9>, line 6)",
          "traceback": [
            "\u001b[0;36m  File \u001b[0;32m\"<ipython-input-61-efe5583386e9>\"\u001b[0;36m, line \u001b[0;32m6\u001b[0m\n\u001b[0;31m    random(1,2,4,5,6,m=1,n=2,o=3,8,9,0)\u001b[0m\n\u001b[0m                                      ^\u001b[0m\n\u001b[0;31mSyntaxError\u001b[0m\u001b[0;31m:\u001b[0m positional argument follows keyword argument\n"
          ]
        }
      ]
    },
    {
      "cell_type": "code",
      "source": [
        "def sample_func(x, y, *args, **kwargs):\n",
        "    return x, y, args, kwargs\n",
        "\n",
        "sample_func(1, 2, 3, 4, a=5, b=6)"
      ],
      "metadata": {
        "colab": {
          "base_uri": "https://localhost:8080/"
        },
        "id": "EtTDsNhy-i46",
        "outputId": "83dee8fd-8d8d-481d-dd24-6cca91bf2e43"
      },
      "execution_count": 63,
      "outputs": [
        {
          "output_type": "execute_result",
          "data": {
            "text/plain": [
              "(1, 2, (3, 4), {'a': 5, 'b': 6})"
            ]
          },
          "metadata": {},
          "execution_count": 63
        }
      ]
    },
    {
      "cell_type": "code",
      "source": [],
      "metadata": {
        "id": "4_Js_ZdP--xv"
      },
      "execution_count": null,
      "outputs": []
    }
  ]
}