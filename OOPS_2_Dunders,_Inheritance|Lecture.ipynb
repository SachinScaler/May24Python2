{
  "nbformat": 4,
  "nbformat_minor": 0,
  "metadata": {
    "colab": {
      "provenance": [],
      "authorship_tag": "ABX9TyOUQiD6K2Sbuh5hsTrVEkaG",
      "include_colab_link": true
    },
    "kernelspec": {
      "name": "python3",
      "display_name": "Python 3"
    },
    "language_info": {
      "name": "python"
    }
  },
  "cells": [
    {
      "cell_type": "markdown",
      "metadata": {
        "id": "view-in-github",
        "colab_type": "text"
      },
      "source": [
        "<a href=\"https://colab.research.google.com/github/SachinScaler/May24Python2/blob/main/OOPS_2_Dunders%2C_Inheritance%7CLecture.ipynb\" target=\"_parent\"><img src=\"https://colab.research.google.com/assets/colab-badge.svg\" alt=\"Open In Colab\"/></a>"
      ]
    },
    {
      "cell_type": "code",
      "execution_count": 1,
      "metadata": {
        "colab": {
          "base_uri": "https://localhost:8080/"
        },
        "id": "s_aAWoq54KsI",
        "outputId": "eef13de2-7712-4232-9eed-70a904a88dfd"
      },
      "outputs": [
        {
          "output_type": "stream",
          "name": "stdout",
          "text": [
            "<class 'int'>\n"
          ]
        }
      ],
      "source": [
        "print(type(5))"
      ]
    },
    {
      "cell_type": "code",
      "source": [
        "a = 5\n",
        "if a: # \"\", None and 0\n",
        "    print(\"Hello\")"
      ],
      "metadata": {
        "id": "B3Re3OY25szV"
      },
      "execution_count": null,
      "outputs": []
    },
    {
      "cell_type": "code",
      "source": [
        "class A:\n",
        "    pass\n",
        "\n",
        "dir(A)"
      ],
      "metadata": {
        "colab": {
          "base_uri": "https://localhost:8080/"
        },
        "id": "T6CgtRlL7qxE",
        "outputId": "6ea8254b-2706-4605-a377-65290fce382c"
      },
      "execution_count": 2,
      "outputs": [
        {
          "output_type": "execute_result",
          "data": {
            "text/plain": [
              "['__class__',\n",
              " '__delattr__',\n",
              " '__dict__',\n",
              " '__dir__',\n",
              " '__doc__',\n",
              " '__eq__',\n",
              " '__format__',\n",
              " '__ge__',\n",
              " '__getattribute__',\n",
              " '__gt__',\n",
              " '__hash__',\n",
              " '__init__',\n",
              " '__init_subclass__',\n",
              " '__le__',\n",
              " '__lt__',\n",
              " '__module__',\n",
              " '__ne__',\n",
              " '__new__',\n",
              " '__reduce__',\n",
              " '__reduce_ex__',\n",
              " '__repr__',\n",
              " '__setattr__',\n",
              " '__sizeof__',\n",
              " '__str__',\n",
              " '__subclasshook__',\n",
              " '__weakref__']"
            ]
          },
          "metadata": {},
          "execution_count": 2
        }
      ]
    },
    {
      "cell_type": "code",
      "source": [
        "class A:\n",
        "    pass\n",
        "\n",
        "a = A()\n",
        "print(a)"
      ],
      "metadata": {
        "colab": {
          "base_uri": "https://localhost:8080/"
        },
        "id": "Xj2LqRhI71UI",
        "outputId": "5273175f-9afc-40e4-8839-3c903f20a887"
      },
      "execution_count": 3,
      "outputs": [
        {
          "output_type": "stream",
          "name": "stdout",
          "text": [
            "<__main__.A object at 0x780904aa6d70>\n"
          ]
        }
      ]
    },
    {
      "cell_type": "code",
      "source": [
        "class A:\n",
        "    pass\n",
        "\n",
        "a = A()\n",
        "print(a)"
      ],
      "metadata": {
        "colab": {
          "base_uri": "https://localhost:8080/"
        },
        "id": "lYzVdQst8D4n",
        "outputId": "0f2cf53c-0b80-4858-9362-8066285c17b7"
      },
      "execution_count": 4,
      "outputs": [
        {
          "output_type": "stream",
          "name": "stdout",
          "text": [
            "<__main__.A object at 0x780904aa7a60>\n"
          ]
        }
      ]
    },
    {
      "cell_type": "code",
      "source": [
        "class A:\n",
        "    def __str__(self): # defines what happen when you print the object of instance A\n",
        "        return \"Hi I am an Instance of A.\"\n",
        "\n",
        "a = A()\n",
        "print(a)"
      ],
      "metadata": {
        "colab": {
          "base_uri": "https://localhost:8080/"
        },
        "id": "lh583XGF8SuW",
        "outputId": "04898b39-3924-4928-a882-da689bf39bae"
      },
      "execution_count": 5,
      "outputs": [
        {
          "output_type": "stream",
          "name": "stdout",
          "text": [
            "Hi I am an Instance of A.\n"
          ]
        }
      ]
    },
    {
      "cell_type": "code",
      "source": [
        "class Car:\n",
        "    def __init__(self, name, mileage):\n",
        "        self.name = name\n",
        "        self.mileage = mileage\n",
        "\n",
        "\n",
        "c1 = Car(\"Nexon\", 12)\n",
        "c2 = Car(\"Altroz\", 15)"
      ],
      "metadata": {
        "id": "SAOdIHHf8Y5J"
      },
      "execution_count": 8,
      "outputs": []
    },
    {
      "cell_type": "code",
      "source": [
        "c1 > c2"
      ],
      "metadata": {
        "colab": {
          "base_uri": "https://localhost:8080/",
          "height": 137
        },
        "id": "UknBAwn086XQ",
        "outputId": "efda320c-33a1-4e97-b78e-2c1552091e03"
      },
      "execution_count": 9,
      "outputs": [
        {
          "output_type": "error",
          "ename": "TypeError",
          "evalue": "'>' not supported between instances of 'Car' and 'Car'",
          "traceback": [
            "\u001b[0;31m---------------------------------------------------------------------------\u001b[0m",
            "\u001b[0;31mTypeError\u001b[0m                                 Traceback (most recent call last)",
            "\u001b[0;32m<ipython-input-9-fa4e5bb1cb5b>\u001b[0m in \u001b[0;36m<cell line: 1>\u001b[0;34m()\u001b[0m\n\u001b[0;32m----> 1\u001b[0;31m \u001b[0mc1\u001b[0m \u001b[0;34m>\u001b[0m \u001b[0mc2\u001b[0m\u001b[0;34m\u001b[0m\u001b[0;34m\u001b[0m\u001b[0m\n\u001b[0m",
            "\u001b[0;31mTypeError\u001b[0m: '>' not supported between instances of 'Car' and 'Car'"
          ]
        }
      ]
    },
    {
      "cell_type": "code",
      "source": [
        "class Car:\n",
        "    def __init__(self, name, mileage):\n",
        "        self.name = name\n",
        "        self.mileage = mileage\n",
        "\n",
        "    def __gt__(self,sec_obj):\n",
        "        return self.mileage > sec_obj.mileage\n",
        "\n",
        "\n",
        "c1 = Car(\"Nexon\", 12)\n",
        "c2 = Car(\"Altroz\", 15)"
      ],
      "metadata": {
        "id": "Nv-887lc9Nrc"
      },
      "execution_count": 16,
      "outputs": []
    },
    {
      "cell_type": "code",
      "source": [
        "c1 > c2"
      ],
      "metadata": {
        "colab": {
          "base_uri": "https://localhost:8080/"
        },
        "id": "nTOW4Fn99Rdh",
        "outputId": "35dcb06c-7ad3-4b9f-a30b-f5a7232dcc64"
      },
      "execution_count": 17,
      "outputs": [
        {
          "output_type": "execute_result",
          "data": {
            "text/plain": [
              "False"
            ]
          },
          "metadata": {},
          "execution_count": 17
        }
      ]
    },
    {
      "cell_type": "code",
      "source": [
        "c3 = Car(\"Nexon\", 20)\n",
        "c3 > c1"
      ],
      "metadata": {
        "colab": {
          "base_uri": "https://localhost:8080/"
        },
        "id": "ZXkxzaer91kn",
        "outputId": "69f23d33-032e-4046-d5d2-0a50f1666e34"
      },
      "execution_count": 18,
      "outputs": [
        {
          "output_type": "execute_result",
          "data": {
            "text/plain": [
              "True"
            ]
          },
          "metadata": {},
          "execution_count": 18
        }
      ]
    },
    {
      "cell_type": "markdown",
      "source": [
        "> # __gt__\n",
        "==# __eq__"
      ],
      "metadata": {
        "id": "ck9DM4zq-MxR"
      }
    },
    {
      "cell_type": "code",
      "source": [
        "c1 + c2"
      ],
      "metadata": {
        "colab": {
          "base_uri": "https://localhost:8080/",
          "height": 137
        },
        "id": "QugLC8IJ96DC",
        "outputId": "acaa75e2-9f65-4ffe-c683-44a7b8358a45"
      },
      "execution_count": 19,
      "outputs": [
        {
          "output_type": "error",
          "ename": "TypeError",
          "evalue": "unsupported operand type(s) for +: 'Car' and 'Car'",
          "traceback": [
            "\u001b[0;31m---------------------------------------------------------------------------\u001b[0m",
            "\u001b[0;31mTypeError\u001b[0m                                 Traceback (most recent call last)",
            "\u001b[0;32m<ipython-input-19-36fad21e6fd5>\u001b[0m in \u001b[0;36m<cell line: 1>\u001b[0;34m()\u001b[0m\n\u001b[0;32m----> 1\u001b[0;31m \u001b[0mc1\u001b[0m \u001b[0;34m+\u001b[0m \u001b[0mc2\u001b[0m\u001b[0;34m\u001b[0m\u001b[0;34m\u001b[0m\u001b[0m\n\u001b[0m",
            "\u001b[0;31mTypeError\u001b[0m: unsupported operand type(s) for +: 'Car' and 'Car'"
          ]
        }
      ]
    },
    {
      "cell_type": "markdown",
      "source": [
        "```\n",
        "Find the appropriate dunder and override it to create and return new car instance with names concatenated and mileage added\n",
        "```"
      ],
      "metadata": {
        "id": "n_n20a2q-gEv"
      }
    },
    {
      "cell_type": "markdown",
      "source": [
        "what is the difference between `__repr__ and __str__`"
      ],
      "metadata": {
        "id": "5-M-wV2C-_8x"
      }
    },
    {
      "cell_type": "code",
      "source": [
        "class A:\n",
        "    def __repr__(self): # defines what happen when you print the object of instance A\n",
        "        return \"Hi I am an Instance of A.\"\n",
        "\n",
        "a = A()\n",
        "print(a)"
      ],
      "metadata": {
        "colab": {
          "base_uri": "https://localhost:8080/"
        },
        "id": "WsMWCgku-cjx",
        "outputId": "45e853a9-6e38-4258-b2e1-2fc8c183ae96"
      },
      "execution_count": 20,
      "outputs": [
        {
          "output_type": "stream",
          "name": "stdout",
          "text": [
            "Hi I am an Instance of A.\n"
          ]
        }
      ]
    },
    {
      "cell_type": "code",
      "source": [
        "class A:\n",
        "    def __init__(self, num):\n",
        "        self.num = num\n",
        "\n",
        "    def __add__(self, obj):\n",
        "        return self.num+obj.num\n",
        "a1 = A(10)\n",
        "a2 = A(20)"
      ],
      "metadata": {
        "id": "gQezEYQk_HfL"
      },
      "execution_count": 25,
      "outputs": []
    },
    {
      "cell_type": "code",
      "source": [
        "a1+a2"
      ],
      "metadata": {
        "colab": {
          "base_uri": "https://localhost:8080/"
        },
        "id": "US5WQQ8l_YoG",
        "outputId": "432eedce-aca1-4578-eda2-533623e7f846"
      },
      "execution_count": 27,
      "outputs": [
        {
          "output_type": "execute_result",
          "data": {
            "text/plain": [
              "30"
            ]
          },
          "metadata": {},
          "execution_count": 27
        }
      ]
    },
    {
      "cell_type": "markdown",
      "source": [
        "### Inheritance"
      ],
      "metadata": {
        "id": "YsI1LYHeCcMH"
      }
    },
    {
      "cell_type": "code",
      "source": [
        "class Parent:\n",
        "    pass\n",
        "\n",
        "class Child(Parent): # child inherits all public properties and methods of parent\n",
        "    pass"
      ],
      "metadata": {
        "id": "Xb7-gbjI_lBt"
      },
      "execution_count": 30,
      "outputs": []
    },
    {
      "cell_type": "code",
      "source": [
        "class ScalerMember:\n",
        "    def __init__(self,name,id):\n",
        "        self.name = name\n",
        "        self.id = id\n",
        "\n",
        "class Learner:\n",
        "    def __init__(self,name, id, course_enrolled):\n",
        "        self.name = name\n",
        "        self.id = id\n",
        "        self.course_enrolled = course_enrolled\n",
        "\n",
        "class Instructor:\n",
        "    def __init__(self,name, id, course_taught):\n",
        "        self.name = name\n",
        "        self.id = id\n",
        "        self.course_taught = course_taught\n",
        "\n",
        "\n",
        "in1 = Instructor(\"Sachin\", 101, \"DSML\")\n",
        "ln1 = Learner(\"Pratyush\", \"L1\", \"DSML\")"
      ],
      "metadata": {
        "id": "PAgYL_dHCimH"
      },
      "execution_count": 31,
      "outputs": []
    },
    {
      "cell_type": "code",
      "source": [
        "class ScalerMember:\n",
        "    def __init__(self,name,id):\n",
        "        self.name = name\n",
        "        self.id = id\n",
        "\n",
        "class Learner(ScalerMember):\n",
        "    def __init__(self, name, id, course_enrolled):\n",
        "        super().__init__(name, id) # immediate parents intializer is accessed and executed\n",
        "        self.course_enrolled = course_enrolled\n",
        "\n",
        "class Instructor(ScalerMember):\n",
        "    def __init__(self, name, id, course_taught):\n",
        "        super().__init__(name, id)\n",
        "        self.course_taught = course_taught\n",
        "\n",
        "\n",
        "in1 = Instructor(\"Sachin\", 101, \"DSML\")\n",
        "ln1 = Learner(\"Pratyush\", \"L1\", \"DSML\")"
      ],
      "metadata": {
        "id": "6xqQIOioEvPz"
      },
      "execution_count": 36,
      "outputs": []
    },
    {
      "cell_type": "code",
      "source": [
        "in1.__dict__"
      ],
      "metadata": {
        "colab": {
          "base_uri": "https://localhost:8080/"
        },
        "id": "nUBbXUdyEjpL",
        "outputId": "f61c42cf-1708-4ab7-9891-42355563f60d"
      },
      "execution_count": 37,
      "outputs": [
        {
          "output_type": "execute_result",
          "data": {
            "text/plain": [
              "{'name': 'Sachin', 'id': 101, 'course_taught': 'DSML'}"
            ]
          },
          "metadata": {},
          "execution_count": 37
        }
      ]
    },
    {
      "cell_type": "code",
      "source": [
        "class A:\n",
        "    def do_something(self):\n",
        "        print(\"I am present in Parent!\", end=\" \")\n",
        "\n",
        "class B(A):\n",
        "    def do_something(self):\n",
        "        super().do_something() # call parents do something\n",
        "        print(\"I am present in Child!\", end=\" \")\n",
        "\n",
        "b = B()\n",
        "b.do_something()"
      ],
      "metadata": {
        "colab": {
          "base_uri": "https://localhost:8080/"
        },
        "id": "dlmd8ozsE-uu",
        "outputId": "498eb062-a04f-4dc9-e032-ed5099838971"
      },
      "execution_count": 38,
      "outputs": [
        {
          "output_type": "stream",
          "name": "stdout",
          "text": [
            "I am present in Parent! I am present in Child! "
          ]
        }
      ]
    },
    {
      "cell_type": "code",
      "source": [
        "class A:\n",
        "    def do_something(self):\n",
        "        print(\"I am present in Parent!\", end=\" \")\n",
        "\n",
        "class B(A):\n",
        "    pass\n",
        "\n",
        "b = B()\n",
        "b.do_something()"
      ],
      "metadata": {
        "colab": {
          "base_uri": "https://localhost:8080/"
        },
        "id": "4UTYJ-caHFyg",
        "outputId": "37f0e170-47b1-435f-8ca4-6ede669c9efb"
      },
      "execution_count": 42,
      "outputs": [
        {
          "output_type": "stream",
          "name": "stdout",
          "text": [
            "I am present in Parent! "
          ]
        }
      ]
    },
    {
      "cell_type": "code",
      "source": [
        "class BankAccount:\n",
        "    def __init__(self, name, balance):\n",
        "        self.name = name\n",
        "        self.balance = balance\n",
        "\n",
        "    def withdrawl(self, amount):\n",
        "        self.balance -= amount\n",
        "\n",
        "    def deposit(self, amount):\n",
        "        self.balance += amount\n",
        "\n",
        "    def show_bal(self):\n",
        "        return self.balance\n",
        "\n",
        "ac1 = BankAccount(\"kamlesh\", 98)\n",
        "ac1.show_bal()"
      ],
      "metadata": {
        "colab": {
          "base_uri": "https://localhost:8080/"
        },
        "id": "kdFiDkv1HYl1",
        "outputId": "41728f1d-8568-4371-8b34-f4902a2e10cd"
      },
      "execution_count": 45,
      "outputs": [
        {
          "output_type": "execute_result",
          "data": {
            "text/plain": [
              "98"
            ]
          },
          "metadata": {},
          "execution_count": 45
        }
      ]
    },
    {
      "cell_type": "code",
      "source": [
        "ac1.deposit(100)\n",
        "ac1.show_bal()"
      ],
      "metadata": {
        "colab": {
          "base_uri": "https://localhost:8080/"
        },
        "id": "E9Ry9Rl6IAK_",
        "outputId": "da66bc72-65a4-4baa-bc71-c05f8f072a8e"
      },
      "execution_count": 46,
      "outputs": [
        {
          "output_type": "execute_result",
          "data": {
            "text/plain": [
              "198"
            ]
          },
          "metadata": {},
          "execution_count": 46
        }
      ]
    },
    {
      "cell_type": "code",
      "source": [
        "ac1.balance=100000000000000000000 # update balance without deposit func"
      ],
      "metadata": {
        "id": "gTJA3teZIZm7"
      },
      "execution_count": 48,
      "outputs": []
    },
    {
      "cell_type": "code",
      "source": [
        "ac1.show_bal()"
      ],
      "metadata": {
        "colab": {
          "base_uri": "https://localhost:8080/"
        },
        "id": "vLsvH2axIfv9",
        "outputId": "ad499f97-c9ec-48e3-acc0-1f48cebfb61e"
      },
      "execution_count": 49,
      "outputs": [
        {
          "output_type": "execute_result",
          "data": {
            "text/plain": [
              "100000000000000000000"
            ]
          },
          "metadata": {},
          "execution_count": 49
        }
      ]
    },
    {
      "cell_type": "code",
      "source": [
        "class BankAccount:\n",
        "    def __init__(self, name, balance):\n",
        "        self.name = name\n",
        "        self.__balance = balance\n",
        "\n",
        "    def withdrawl(self, amount):\n",
        "        self.__balance -= amount\n",
        "\n",
        "    def deposit(self, amount):\n",
        "        self.__balance += amount\n",
        "\n",
        "    def show_bal(self):\n",
        "        return self.__balance\n",
        "\n",
        "ac1 = BankAccount(\"kamlesh\", 98)\n",
        "ac1.show_bal()"
      ],
      "metadata": {
        "colab": {
          "base_uri": "https://localhost:8080/"
        },
        "id": "lKcCYo5SImg4",
        "outputId": "e039c36b-cc44-4f92-c5db-0d17a4f01c8b"
      },
      "execution_count": 50,
      "outputs": [
        {
          "output_type": "execute_result",
          "data": {
            "text/plain": [
              "98"
            ]
          },
          "metadata": {},
          "execution_count": 50
        }
      ]
    },
    {
      "cell_type": "code",
      "source": [
        "ac1.deposit(100)\n",
        "ac1.show_bal()"
      ],
      "metadata": {
        "colab": {
          "base_uri": "https://localhost:8080/"
        },
        "id": "XU8ZEKbXLvtc",
        "outputId": "20b2cd22-0c53-4f62-aa87-6d527d05098b"
      },
      "execution_count": 51,
      "outputs": [
        {
          "output_type": "execute_result",
          "data": {
            "text/plain": [
              "198"
            ]
          },
          "metadata": {},
          "execution_count": 51
        }
      ]
    },
    {
      "cell_type": "code",
      "source": [
        "ac1.balance=100000000000000000000 # update balance without deposit func"
      ],
      "metadata": {
        "id": "5339WgPnL0q0"
      },
      "execution_count": 52,
      "outputs": []
    },
    {
      "cell_type": "code",
      "source": [
        "ac1.show_bal()"
      ],
      "metadata": {
        "colab": {
          "base_uri": "https://localhost:8080/"
        },
        "id": "Q2IxQOYBL5RZ",
        "outputId": "8ead1827-a151-44a9-c6e3-37b8f0b621cb"
      },
      "execution_count": 53,
      "outputs": [
        {
          "output_type": "execute_result",
          "data": {
            "text/plain": [
              "198"
            ]
          },
          "metadata": {},
          "execution_count": 53
        }
      ]
    },
    {
      "cell_type": "code",
      "source": [
        "ac1.__balance=100000000000000000000 # update balance without deposit func"
      ],
      "metadata": {
        "id": "Zf8jIiOOL6hn"
      },
      "execution_count": 54,
      "outputs": []
    },
    {
      "cell_type": "code",
      "source": [
        "ac1.show_bal()"
      ],
      "metadata": {
        "colab": {
          "base_uri": "https://localhost:8080/"
        },
        "id": "Jj5jlIp0L_NW",
        "outputId": "3c3488ef-4904-4b40-d8e6-1557ba0dff7b"
      },
      "execution_count": 55,
      "outputs": [
        {
          "output_type": "execute_result",
          "data": {
            "text/plain": [
              "198"
            ]
          },
          "metadata": {},
          "execution_count": 55
        }
      ]
    },
    {
      "cell_type": "code",
      "source": [
        "ac1._BankAccount__balance=100000000000000000000 # update balance without deposit func"
      ],
      "metadata": {
        "id": "IiJSeaBtL_8w"
      },
      "execution_count": 56,
      "outputs": []
    },
    {
      "cell_type": "code",
      "source": [
        "ac1.show_bal()"
      ],
      "metadata": {
        "colab": {
          "base_uri": "https://localhost:8080/"
        },
        "id": "nqldJzB_MfVI",
        "outputId": "b070c9b7-9d4f-47fd-931f-bc644d73c6ff"
      },
      "execution_count": 57,
      "outputs": [
        {
          "output_type": "execute_result",
          "data": {
            "text/plain": [
              "100000000000000000000"
            ]
          },
          "metadata": {},
          "execution_count": 57
        }
      ]
    },
    {
      "cell_type": "code",
      "source": [
        "class A:\n",
        "    x = 10\n",
        "    def __init__(self, a):\n",
        "        self.a = a\n",
        "\n",
        "class B(A):\n",
        "    x = 20\n",
        "    def __init__(self, a, b):\n",
        "        super().__init__(a)\n",
        "        self.b = b\n",
        "\n",
        "class C(B):\n",
        "    x = 30\n",
        "    def __init__(self, a, b, c):\n",
        "        super().__init__(a,b)\n",
        "        self.c = c\n",
        "\n",
        "c1 = C(10,20,30)\n",
        "c1.__dict__"
      ],
      "metadata": {
        "colab": {
          "base_uri": "https://localhost:8080/"
        },
        "id": "J6DfoFUHMf_t",
        "outputId": "8c6cbe89-7926-4966-a590-d072bdd137c9"
      },
      "execution_count": 71,
      "outputs": [
        {
          "output_type": "execute_result",
          "data": {
            "text/plain": [
              "{'a': 10, 'b': 20, 'c': 30}"
            ]
          },
          "metadata": {},
          "execution_count": 71
        }
      ]
    },
    {
      "cell_type": "code",
      "source": [
        "c1.x"
      ],
      "metadata": {
        "colab": {
          "base_uri": "https://localhost:8080/"
        },
        "id": "_eqqhBWuOIzf",
        "outputId": "116f5b7f-b3cc-421d-88cc-ad51dbbdaae2"
      },
      "execution_count": 72,
      "outputs": [
        {
          "output_type": "execute_result",
          "data": {
            "text/plain": [
              "30"
            ]
          },
          "metadata": {},
          "execution_count": 72
        }
      ]
    },
    {
      "cell_type": "code",
      "source": [
        "C.mro()"
      ],
      "metadata": {
        "colab": {
          "base_uri": "https://localhost:8080/"
        },
        "id": "s489gBk6PKmD",
        "outputId": "cd6b2958-c1b9-448f-f1a7-87fde9e04650"
      },
      "execution_count": 86,
      "outputs": [
        {
          "output_type": "execute_result",
          "data": {
            "text/plain": [
              "[__main__.C, __main__.A, __main__.B, object]"
            ]
          },
          "metadata": {},
          "execution_count": 86
        }
      ]
    },
    {
      "cell_type": "code",
      "source": [
        "class A:\n",
        "    x = 10\n",
        "    def __init__(self, a):\n",
        "        self.a = a\n",
        "\n",
        "class B:\n",
        "    x = 20\n",
        "    def __init__(self, a, b):\n",
        "        super().__init__(a)\n",
        "        self.b = b\n",
        "\n",
        "class C(A,B):\n",
        "    x = 30\n",
        "    def __init__(self, a, b, c):\n",
        "        super().__init__(a,b)# class A's Init\n",
        "        self.c = c\n",
        "\n",
        "\n",
        "c1 = C(10,20,30)\n",
        "c1.__dict__"
      ],
      "metadata": {
        "colab": {
          "base_uri": "https://localhost:8080/",
          "height": 302
        },
        "id": "HoAbOkpVPXws",
        "outputId": "40c9234c-b93b-4fc8-d7c5-ede09e2bb5f3"
      },
      "execution_count": 87,
      "outputs": [
        {
          "output_type": "error",
          "ename": "TypeError",
          "evalue": "A.__init__() takes 2 positional arguments but 3 were given",
          "traceback": [
            "\u001b[0;31m---------------------------------------------------------------------------\u001b[0m",
            "\u001b[0;31mTypeError\u001b[0m                                 Traceback (most recent call last)",
            "\u001b[0;32m<ipython-input-87-db1bfa8bdcca>\u001b[0m in \u001b[0;36m<cell line: 19>\u001b[0;34m()\u001b[0m\n\u001b[1;32m     17\u001b[0m \u001b[0;34m\u001b[0m\u001b[0m\n\u001b[1;32m     18\u001b[0m \u001b[0;34m\u001b[0m\u001b[0m\n\u001b[0;32m---> 19\u001b[0;31m \u001b[0mc1\u001b[0m \u001b[0;34m=\u001b[0m \u001b[0mC\u001b[0m\u001b[0;34m(\u001b[0m\u001b[0;36m10\u001b[0m\u001b[0;34m,\u001b[0m\u001b[0;36m20\u001b[0m\u001b[0;34m,\u001b[0m\u001b[0;36m30\u001b[0m\u001b[0;34m)\u001b[0m\u001b[0;34m\u001b[0m\u001b[0;34m\u001b[0m\u001b[0m\n\u001b[0m\u001b[1;32m     20\u001b[0m \u001b[0mc1\u001b[0m\u001b[0;34m.\u001b[0m\u001b[0m__dict__\u001b[0m\u001b[0;34m\u001b[0m\u001b[0;34m\u001b[0m\u001b[0m\n",
            "\u001b[0;32m<ipython-input-87-db1bfa8bdcca>\u001b[0m in \u001b[0;36m__init__\u001b[0;34m(self, a, b, c)\u001b[0m\n\u001b[1;32m     13\u001b[0m     \u001b[0mx\u001b[0m \u001b[0;34m=\u001b[0m \u001b[0;36m30\u001b[0m\u001b[0;34m\u001b[0m\u001b[0;34m\u001b[0m\u001b[0m\n\u001b[1;32m     14\u001b[0m     \u001b[0;32mdef\u001b[0m \u001b[0m__init__\u001b[0m\u001b[0;34m(\u001b[0m\u001b[0mself\u001b[0m\u001b[0;34m,\u001b[0m \u001b[0ma\u001b[0m\u001b[0;34m,\u001b[0m \u001b[0mb\u001b[0m\u001b[0;34m,\u001b[0m \u001b[0mc\u001b[0m\u001b[0;34m)\u001b[0m\u001b[0;34m:\u001b[0m\u001b[0;34m\u001b[0m\u001b[0;34m\u001b[0m\u001b[0m\n\u001b[0;32m---> 15\u001b[0;31m         \u001b[0msuper\u001b[0m\u001b[0;34m(\u001b[0m\u001b[0;34m)\u001b[0m\u001b[0;34m.\u001b[0m\u001b[0m__init__\u001b[0m\u001b[0;34m(\u001b[0m\u001b[0ma\u001b[0m\u001b[0;34m,\u001b[0m\u001b[0mb\u001b[0m\u001b[0;34m)\u001b[0m\u001b[0;31m# class A's Init\u001b[0m\u001b[0;34m\u001b[0m\u001b[0;34m\u001b[0m\u001b[0m\n\u001b[0m\u001b[1;32m     16\u001b[0m         \u001b[0mself\u001b[0m\u001b[0;34m.\u001b[0m\u001b[0mc\u001b[0m \u001b[0;34m=\u001b[0m \u001b[0mc\u001b[0m\u001b[0;34m\u001b[0m\u001b[0;34m\u001b[0m\u001b[0m\n\u001b[1;32m     17\u001b[0m \u001b[0;34m\u001b[0m\u001b[0m\n",
            "\u001b[0;31mTypeError\u001b[0m: A.__init__() takes 2 positional arguments but 3 were given"
          ]
        }
      ]
    },
    {
      "cell_type": "code",
      "source": [
        "C.__mro__"
      ],
      "metadata": {
        "id": "4w22mG3hQPon"
      },
      "execution_count": null,
      "outputs": []
    },
    {
      "cell_type": "code",
      "source": [
        "class A:\n",
        "    x = 10\n",
        "    def __init__(self, a):\n",
        "        self.a = a\n",
        "\n",
        "class B:\n",
        "    x = 20\n",
        "    def __init__(self, a, b):\n",
        "        super().__init__(a)\n",
        "        self.b = b\n",
        "\n",
        "class C(B, A):\n",
        "    def __init__(self, a, b, c):\n",
        "        super().__init__(a,b)# B\n",
        "        self.c = c\n",
        "\n",
        "\n",
        "c1 = C(10,20,30)\n",
        "c1.__dict__"
      ],
      "metadata": {
        "colab": {
          "base_uri": "https://localhost:8080/"
        },
        "id": "fmvpPXTsQfVh",
        "outputId": "0aa278c5-cb2e-4e10-be5a-49f1683576db"
      },
      "execution_count": 90,
      "outputs": [
        {
          "output_type": "execute_result",
          "data": {
            "text/plain": [
              "{'a': 10, 'b': 20, 'c': 30}"
            ]
          },
          "metadata": {},
          "execution_count": 90
        }
      ]
    },
    {
      "cell_type": "code",
      "source": [
        "c1.x"
      ],
      "metadata": {
        "colab": {
          "base_uri": "https://localhost:8080/"
        },
        "id": "lxPbbuKYQ5A8",
        "outputId": "7e9ecfd5-e62c-44b6-8b20-8833d8ae708f"
      },
      "execution_count": 91,
      "outputs": [
        {
          "output_type": "execute_result",
          "data": {
            "text/plain": [
              "20"
            ]
          },
          "metadata": {},
          "execution_count": 91
        }
      ]
    },
    {
      "cell_type": "code",
      "source": [
        "class A:\n",
        "    x = 10\n",
        "\n",
        "class B:\n",
        "    x = 20\n",
        "\n",
        "class C(A, B):\n",
        "    pass\n",
        "\n",
        "\n",
        "c1 = C()\n",
        "c1.x"
      ],
      "metadata": {
        "colab": {
          "base_uri": "https://localhost:8080/"
        },
        "id": "aFSNlbruRD7A",
        "outputId": "df05969f-78a1-451a-c561-b3f21df5f78d"
      },
      "execution_count": 92,
      "outputs": [
        {
          "output_type": "execute_result",
          "data": {
            "text/plain": [
              "10"
            ]
          },
          "metadata": {},
          "execution_count": 92
        }
      ]
    },
    {
      "cell_type": "code",
      "source": [
        "class A:\n",
        "    x = 10\n",
        "\n",
        "class B(A):\n",
        "    pass\n",
        "\n",
        "class C(B):\n",
        "    pass\n",
        "\n",
        "class D(A):\n",
        "    x = 5\n",
        "\n",
        "class E(C, D):\n",
        "    pass\n",
        "\n",
        "\n",
        "E.__mro__"
      ],
      "metadata": {
        "colab": {
          "base_uri": "https://localhost:8080/"
        },
        "id": "uKiDarcJRUlW",
        "outputId": "6f580921-1c8d-4a8d-8ebc-dd93a3d706a3"
      },
      "execution_count": 93,
      "outputs": [
        {
          "output_type": "execute_result",
          "data": {
            "text/plain": [
              "(__main__.E, __main__.C, __main__.B, __main__.D, __main__.A, object)"
            ]
          },
          "metadata": {},
          "execution_count": 93
        }
      ]
    },
    {
      "cell_type": "markdown",
      "source": [
        "### HOW CLASS VARIABLE BEHAVES IN CASE OF IMMUTABLE DATA TYPE"
      ],
      "metadata": {
        "id": "dNnvNbJIVbfn"
      }
    },
    {
      "cell_type": "code",
      "source": [
        "class A:\n",
        "    x = 10\n",
        "\n",
        "\n",
        "a1 = A()\n",
        "a2 = A()\n",
        "\n",
        "print(a1.x, a2.x, A.x)"
      ],
      "metadata": {
        "colab": {
          "base_uri": "https://localhost:8080/"
        },
        "id": "gqrkztRcTXVB",
        "outputId": "b3225eb1-9219-4395-d10d-180584951068"
      },
      "execution_count": 94,
      "outputs": [
        {
          "output_type": "stream",
          "name": "stdout",
          "text": [
            "10 10 10\n"
          ]
        }
      ]
    },
    {
      "cell_type": "code",
      "source": [
        "print(id(a1.x), id(a2.x), id(A.x))"
      ],
      "metadata": {
        "colab": {
          "base_uri": "https://localhost:8080/"
        },
        "id": "uN-VdylpUmQ5",
        "outputId": "edc2a7f5-b241-4da6-fa8e-d7a9021c7ff1"
      },
      "execution_count": 95,
      "outputs": [
        {
          "output_type": "stream",
          "name": "stdout",
          "text": [
            "131980423692816 131980423692816 131980423692816\n"
          ]
        }
      ]
    },
    {
      "cell_type": "code",
      "source": [
        "A.x = 99 # updating ClassVar using ClassName\n",
        "print(a1.x, a2.x, A.x)"
      ],
      "metadata": {
        "colab": {
          "base_uri": "https://localhost:8080/"
        },
        "id": "yfINnoNWUrWt",
        "outputId": "b0b5abad-d487-486b-ea3d-5a3c74879e60"
      },
      "execution_count": 96,
      "outputs": [
        {
          "output_type": "stream",
          "name": "stdout",
          "text": [
            "99 99 99\n"
          ]
        }
      ]
    },
    {
      "cell_type": "code",
      "source": [
        "print(id(a1.x), id(a2.x), id(A.x))"
      ],
      "metadata": {
        "colab": {
          "base_uri": "https://localhost:8080/"
        },
        "id": "ixTUjA6mU2Qn",
        "outputId": "d571c19d-eb05-4605-8814-e8f289b93078"
      },
      "execution_count": 97,
      "outputs": [
        {
          "output_type": "stream",
          "name": "stdout",
          "text": [
            "131980423695664 131980423695664 131980423695664\n"
          ]
        }
      ]
    },
    {
      "cell_type": "code",
      "source": [
        "a1.x = 50 # updating ClassVar using instance\n",
        "print(a1.x, a2.x, A.x)"
      ],
      "metadata": {
        "colab": {
          "base_uri": "https://localhost:8080/"
        },
        "id": "WnkWFPOgU-oS",
        "outputId": "97f0c1a8-463f-4530-92d7-2990024866ad"
      },
      "execution_count": 98,
      "outputs": [
        {
          "output_type": "stream",
          "name": "stdout",
          "text": [
            "50 99 99\n"
          ]
        }
      ]
    },
    {
      "cell_type": "markdown",
      "source": [
        "NOTE: THE ABOVE CODE DOESN\"T CHANGE CLASS VAR. Instead it creates a new instance variable x only for a1"
      ],
      "metadata": {
        "id": "XUZYy-DrVMMR"
      }
    },
    {
      "cell_type": "markdown",
      "source": [
        "### HOW CLASS VARIABLE BEHAVES IN CASE OF MUATABLE DATA TYPE"
      ],
      "metadata": {
        "id": "30dVu3tSVipD"
      }
    },
    {
      "cell_type": "code",
      "source": [
        "class A:\n",
        "    x = [10]\n",
        "\n",
        "\n",
        "a1 = A()\n",
        "a2 = A()\n",
        "\n",
        "print(a1.x, a2.x, A.x)\n",
        "print(id(a1.x), id(a2.x), id(A.x))"
      ],
      "metadata": {
        "colab": {
          "base_uri": "https://localhost:8080/"
        },
        "id": "T63VcYrmViff",
        "outputId": "0aab2a6c-cd90-491f-95cb-cfdf92286299"
      },
      "execution_count": 100,
      "outputs": [
        {
          "output_type": "stream",
          "name": "stdout",
          "text": [
            "[10] [10] [10]\n",
            "131979783053824 131979783053824 131979783053824\n"
          ]
        }
      ]
    },
    {
      "cell_type": "code",
      "source": [
        "A.x.append(99) # updating ClassVar using ClassName\n",
        "print(a1.x, a2.x, A.x)\n",
        "print(id(a1.x), id(a2.x), id(A.x))"
      ],
      "metadata": {
        "colab": {
          "base_uri": "https://localhost:8080/"
        },
        "id": "kVLeuixGVJVm",
        "outputId": "595b00cb-67f9-479f-bc92-019b4a32f7d2"
      },
      "execution_count": 101,
      "outputs": [
        {
          "output_type": "stream",
          "name": "stdout",
          "text": [
            "[10, 99] [10, 99] [10, 99]\n",
            "131979783053824 131979783053824 131979783053824\n"
          ]
        }
      ]
    },
    {
      "cell_type": "code",
      "source": [
        "a1.x.append(50) # updating ClassVar using instance\n",
        "print(a1.x, a2.x, A.x)"
      ],
      "metadata": {
        "colab": {
          "base_uri": "https://localhost:8080/"
        },
        "id": "aYXUiQe0Vtl9",
        "outputId": "76cfd299-56e7-4aca-ed86-6d9f9088268a"
      },
      "execution_count": 102,
      "outputs": [
        {
          "output_type": "stream",
          "name": "stdout",
          "text": [
            "[10, 99, 50] [10, 99, 50] [10, 99, 50]\n"
          ]
        }
      ]
    },
    {
      "cell_type": "code",
      "source": [
        "print(id(a1.x), id(a2.x), id(A.x))"
      ],
      "metadata": {
        "colab": {
          "base_uri": "https://localhost:8080/"
        },
        "id": "bLTpAzQUV2JB",
        "outputId": "d8aa122f-fc51-4540-8965-93c9a3b03fe6"
      },
      "execution_count": 103,
      "outputs": [
        {
          "output_type": "stream",
          "name": "stdout",
          "text": [
            "131979783053824 131979783053824 131979783053824\n"
          ]
        }
      ]
    },
    {
      "cell_type": "code",
      "source": [
        "class Student:\n",
        "    def __init__(self,roll,marks):\n",
        "        self.roll = roll\n",
        "        self.marks = marks\n",
        "    def display(self):\n",
        "        return f'Roll: {self.roll} Marks: {self.marks}'\n",
        "\n",
        "student1 = Student(34,'A')\n",
        "student1.age = 17\n",
        "print(student1.display(), 'Age:',student1.age)"
      ],
      "metadata": {
        "colab": {
          "base_uri": "https://localhost:8080/"
        },
        "id": "yAWsCwlbV2Zl",
        "outputId": "91d936fe-6e70-473d-b8e5-ed286efe57e2"
      },
      "execution_count": 109,
      "outputs": [
        {
          "output_type": "stream",
          "name": "stdout",
          "text": [
            "Roll: 34 Marks: A Age: 17\n"
          ]
        }
      ]
    },
    {
      "cell_type": "code",
      "source": [
        "student1.display()"
      ],
      "metadata": {
        "colab": {
          "base_uri": "https://localhost:8080/"
        },
        "id": "AWwvBTdiWPhx",
        "outputId": "9454627e-5e91-4418-9826-35c6639a0a2f"
      },
      "execution_count": 105,
      "outputs": [
        {
          "output_type": "stream",
          "name": "stdout",
          "text": [
            "Roll: 34 Marks: A "
          ]
        }
      ]
    },
    {
      "cell_type": "code",
      "source": [
        "print(student1.display())"
      ],
      "metadata": {
        "colab": {
          "base_uri": "https://localhost:8080/"
        },
        "id": "6cg2NhloWQip",
        "outputId": "e415ce1a-72b2-4eff-dd95-b163972170e8"
      },
      "execution_count": 107,
      "outputs": [
        {
          "output_type": "stream",
          "name": "stdout",
          "text": [
            "Roll: 34 Marks: A None\n"
          ]
        }
      ]
    },
    {
      "cell_type": "code",
      "source": [],
      "metadata": {
        "id": "Y892pVKvWWWA"
      },
      "execution_count": null,
      "outputs": []
    }
  ]
}